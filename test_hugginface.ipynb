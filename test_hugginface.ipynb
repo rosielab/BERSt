{
 "cells": [
  {
   "cell_type": "code",
   "execution_count": null,
   "id": "c1903726",
   "metadata": {},
   "outputs": [],
   "source": [
    "from datasets import load_dataset, Audio\n",
    "\n",
    "ds = load_dataset(\"Rosie-Lab/BERSt\")  # should return a DatasetDict quickly\n",
    "print(ds)\n",
    "\n",
    "# Confirm columns are present & files exist (no heavy decoding)\n",
    "for sp, split in ds.items():\n",
    "    split = split.cast_column(\"audio\", Audio(decode=False))\n",
    "    print(f\"[{sp}] rows={len(split):,}; columns={split.column_names}\")"
   ]
  },
  {
   "cell_type": "code",
   "execution_count": null,
   "id": "f912fc80",
   "metadata": {},
   "outputs": [],
   "source": [
    "# Counts by shout_level\n",
    "if \"shout_level\" in ds[\"train\"].column_names:\n",
    "    from collections import Counter\n",
    "    cnt = Counter(ds[\"train\"][:][\"shout_level\"])\n",
    "    print(\"train shout_level:\", cnt.most_common())\n",
    "\n",
    "# Unique languages, genders, device models\n",
    "for col in [\"current_language\", \"first_language\", \"gender\", \"phone_model\"]:\n",
    "    if col in ds[\"train\"].column_names:\n",
    "        print(col, sorted(set(ds[\"train\"][:][col]))[:10])\n"
   ]
  }
 ],
 "metadata": {
  "kernelspec": {
   "display_name": "multiling-matcha-tts",
   "language": "python",
   "name": "python3"
  },
  "language_info": {
   "codemirror_mode": {
    "name": "ipython",
    "version": 3
   },
   "file_extension": ".py",
   "mimetype": "text/x-python",
   "name": "python",
   "nbconvert_exporter": "python",
   "pygments_lexer": "ipython3",
   "version": "3.10.0"
  }
 },
 "nbformat": 4,
 "nbformat_minor": 5
}
