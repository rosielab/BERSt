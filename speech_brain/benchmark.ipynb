{
 "cells": [
  {
   "cell_type": "code",
   "execution_count": 1,
   "metadata": {},
   "outputs": [
    {
     "name": "stderr",
     "output_type": "stream",
     "text": [
      "/home/rosie/Documents/BERST/speech_brain/venv/lib/python3.11/site-packages/tqdm/auto.py:21: TqdmWarning: IProgress not found. Please update jupyter and ipywidgets. See https://ipywidgets.readthedocs.io/en/stable/user_install.html\n",
      "  from .autonotebook import tqdm as notebook_tqdm\n"
     ]
    }
   ],
   "source": [
    "import pandas as pd\n",
    "from sklearn.metrics import accuracy_score, balanced_accuracy_score, confusion_matrix\n",
    "from speechbrain.inference.interfaces import foreign_class"
   ]
  },
  {
   "cell_type": "code",
   "execution_count": 2,
   "metadata": {},
   "outputs": [
    {
     "name": "stderr",
     "output_type": "stream",
     "text": [
      "/home/rosie/Documents/BERST/speech_brain/venv/lib/python3.11/site-packages/transformers/configuration_utils.py:364: UserWarning: Passing `gradient_checkpointing` to a config initialization is deprecated and will be removed in v5 Transformers. Using `model.gradient_checkpointing_enable()` instead, or if you are using the `Trainer` API, pass `gradient_checkpointing=True` in your `TrainingArguments`.\n",
      "  warnings.warn(\n",
      "Some weights of Wav2Vec2Model were not initialized from the model checkpoint at facebook/wav2vec2-base and are newly initialized: ['wav2vec2.encoder.pos_conv_embed.conv.parametrizations.weight.original0', 'wav2vec2.encoder.pos_conv_embed.conv.parametrizations.weight.original1']\n",
      "You should probably TRAIN this model on a down-stream task to be able to use it for predictions and inference.\n",
      "speechbrain.lobes.models.huggingface_transformers.huggingface - Wav2Vec2Model is frozen.\n"
     ]
    }
   ],
   "source": [
    "classifier = foreign_class(source=\"speechbrain/emotion-recognition-wav2vec2-IEMOCAP\", pymodule_file=\"custom_interface.py\", classname=\"CustomEncoderWav2vec2Classifier\", run_opts={\"device\":\"cuda\"})"
   ]
  },
  {
   "cell_type": "markdown",
   "metadata": {},
   "source": [
    "## IEMOCAP confirmation"
   ]
  },
  {
   "cell_type": "code",
   "execution_count": 3,
   "metadata": {},
   "outputs": [],
   "source": [
    "iemocap_1 = pd.read_csv('../IEMOCAP_full_release/labels/session_1_labels.csv')\n",
    "iemocap_2 = pd.read_csv('../IEMOCAP_full_release/labels/session_2_labels.csv')\n",
    "iemocap_3 = pd.read_csv('../IEMOCAP_full_release/labels/session_3_labels.csv')\n",
    "iemocap_4 = pd.read_csv('../IEMOCAP_full_release/labels/session_4_labels.csv')\n",
    "iemocap_5 = pd.read_csv('../IEMOCAP_full_release/labels/session_5_labels.csv')\n",
    "\n",
    "iemocap_1 = iemocap_1[iemocap_1['affect'].isin(['Happiness', 'Sadness', 'Neutral', 'Anger'])]\n",
    "iemocap_2 = iemocap_2[iemocap_2['affect'].isin(['Happiness', 'Sadness', 'Neutral', 'Anger'])]\n",
    "iemocap_3 = iemocap_3[iemocap_3['affect'].isin(['Happiness', 'Sadness', 'Neutral', 'Anger'])]\n",
    "iemocap_4 = iemocap_4[iemocap_4['affect'].isin(['Happiness', 'Sadness', 'Neutral', 'Anger'])]\n",
    "iemocap_5 = iemocap_5[iemocap_5['affect'].isin(['Happiness', 'Sadness', 'Neutral', 'Anger'])]\n",
    "\n",
    "combined_sessions = pd.concat([iemocap_1, iemocap_2, iemocap_3, iemocap_4, iemocap_5])"
   ]
  },
  {
   "cell_type": "code",
   "execution_count": 4,
   "metadata": {},
   "outputs": [],
   "source": [
    "out_probs = []\n",
    "scores = []\n",
    "indexes = []\n",
    "text_labs = []\n",
    "for index, file in combined_sessions.iterrows():\n",
    "    out_prob, score, index, text_lab = classifier.classify_file(f\"../{file['file_location']}\")\n",
    "    out_probs.append(out_prob)\n",
    "    scores.append(score)\n",
    "    indexes.append(index)\n",
    "    text_labs.append(text_lab)"
   ]
  },
  {
   "cell_type": "code",
   "execution_count": 15,
   "metadata": {},
   "outputs": [],
   "source": [
    "predictions = [label for file in text_labs for label in file]\n",
    "predictions = [file.replace('neu', 'Neutral') for file in predictions]\n",
    "predictions = [file.replace('sad', 'Sadness') for file in predictions]\n",
    "predictions = [file.replace('hap', 'Happiness') for file in predictions]\n",
    "predictions = [file.replace('ang', 'Anger') for file in predictions]"
   ]
  },
  {
   "cell_type": "code",
   "execution_count": 17,
   "metadata": {},
   "outputs": [],
   "source": [
    "combined_sessions['predictions'] = predictions"
   ]
  },
  {
   "cell_type": "code",
   "execution_count": 19,
   "metadata": {},
   "outputs": [],
   "source": [
    "combined_sessions.to_csv('iemocap_confirmation_4_class.csv', index=False)"
   ]
  },
  {
   "cell_type": "code",
   "execution_count": 22,
   "metadata": {},
   "outputs": [
    {
     "name": "stdout",
     "output_type": "stream",
     "text": [
      "UA score: 0.7519463408791472\n",
      "WA score: 0.7463301288119966\n"
     ]
    }
   ],
   "source": [
    "print(f\"UA score: {accuracy_score(combined_sessions['affect'], combined_sessions['predictions'])}\")\n",
    "print(f\"WA score: {balanced_accuracy_score(combined_sessions['affect'], combined_sessions['predictions'])}\")"
   ]
  },
  {
   "cell_type": "markdown",
   "metadata": {},
   "source": [
    "## BERSt test"
   ]
  },
  {
   "cell_type": "code",
   "execution_count": 3,
   "metadata": {},
   "outputs": [],
   "source": [
    "berst_test = pd.read_csv('../shout-data/test_data.csv')\n",
    "berst_train = pd.read_csv('../shout-data/train_data.csv')\n",
    "berst_validation = pd.read_csv('../shout-data/validation_data.csv')\n",
    "\n",
    "berst_test = berst_test[berst_test['affect'].isin(['happiness', 'sadness', 'neutral', 'anger'])]\n",
    "berst_train = berst_train[berst_train['affect'].isin(['happiness', 'sadness', 'neutral', 'anger'])]\n",
    "berst_validation = berst_validation[berst_validation['affect'].isin(['happiness', 'sadness', 'neutral', 'anger'])]\n",
    "\n",
    "combined_berst = pd.concat([berst_test, berst_train, berst_validation])"
   ]
  },
  {
   "cell_type": "code",
   "execution_count": 4,
   "metadata": {},
   "outputs": [],
   "source": [
    "out_probs = []\n",
    "scores = []\n",
    "indexes = []\n",
    "text_labs = []\n",
    "for index, file in combined_berst.iterrows():\n",
    "    out_prob, score, index, text_lab = classifier.classify_file(f\"../{file['file_location']}\")\n",
    "    out_probs.append(out_prob)\n",
    "    scores.append(score)\n",
    "    indexes.append(index)\n",
    "    text_labs.append(text_lab)"
   ]
  },
  {
   "cell_type": "code",
   "execution_count": 29,
   "metadata": {},
   "outputs": [],
   "source": [
    "predictions = [label for file in text_labs for label in file]\n",
    "predictions = [file.replace('neu', 'neutral') for file in predictions]\n",
    "predictions = [file.replace('sad', 'sadness') for file in predictions]\n",
    "predictions = [file.replace('hap', 'happiness') for file in predictions]\n",
    "predictions = [file.replace('ang', 'anger') for file in predictions]"
   ]
  },
  {
   "cell_type": "code",
   "execution_count": 30,
   "metadata": {},
   "outputs": [],
   "source": [
    "combined_berst['predictions'] = predictions"
   ]
  },
  {
   "cell_type": "code",
   "execution_count": 31,
   "metadata": {},
   "outputs": [],
   "source": [
    "combined_berst.to_csv('zero_shot_berst_4_class.csv', index=False)"
   ]
  },
  {
   "cell_type": "code",
   "execution_count": 32,
   "metadata": {},
   "outputs": [
    {
     "name": "stdout",
     "output_type": "stream",
     "text": [
      "UA score: 0.3440974060349391\n",
      "WA score: 0.3321385902031063\n"
     ]
    },
    {
     "name": "stderr",
     "output_type": "stream",
     "text": [
      "/home/rosie/Documents/BERST/speech_brain/venv/lib/python3.11/site-packages/sklearn/metrics/_classification.py:2466: UserWarning: y_pred contains classes not in y_true\n",
      "  warnings.warn(\"y_pred contains classes not in y_true\")\n"
     ]
    }
   ],
   "source": [
    "print(f\"UA score: {accuracy_score(combined_berst['affect'], combined_berst['predictions'])}\")\n",
    "print(f\"WA score: {balanced_accuracy_score(combined_berst['affect'], combined_berst['predictions'])}\")"
   ]
  },
  {
   "cell_type": "code",
   "execution_count": 35,
   "metadata": {},
   "outputs": [
    {
     "name": "stdout",
     "output_type": "stream",
     "text": [
      "[[504   0 498 441]\n",
      " [  7   0  13  10]\n",
      " [140   0 146 130]\n",
      " [  0   0   0   0]]\n"
     ]
    }
   ],
   "source": [
    "cf_matrix = confusion_matrix(combined_berst['predictions'], combined_berst['affect'])\n",
    "print(cf_matrix)"
   ]
  },
  {
   "cell_type": "markdown",
   "metadata": {},
   "source": [
    "## Retrain on 7 classes with IEMOCAP"
   ]
  }
 ],
 "metadata": {
  "kernelspec": {
   "display_name": "venv",
   "language": "python",
   "name": "python3"
  },
  "language_info": {
   "codemirror_mode": {
    "name": "ipython",
    "version": 3
   },
   "file_extension": ".py",
   "mimetype": "text/x-python",
   "name": "python",
   "nbconvert_exporter": "python",
   "pygments_lexer": "ipython3",
   "version": "3.11.6"
  }
 },
 "nbformat": 4,
 "nbformat_minor": 2
}
