{
 "cells": [
  {
   "cell_type": "code",
   "execution_count": 2,
   "metadata": {},
   "outputs": [],
   "source": [
    "import json\n",
    "import pandas as pd\n",
    "from pathlib import Path\n",
    "\n",
    "directory = Path('/home/paige/Documents/BERST/speech_brain/recipes/IEMOCAP/emotion_recognition/IEMOCAP').glob('*.csv')\n",
    "\n",
    "for i,file in enumerate(directory):\n",
    "    json_dict = {}\n",
    "    iemocap_session = pd.read_csv(file)\n",
    "    for j,row in iemocap_session.iterrows():\n",
    "      json_dict[f'session{i}_{j}'] = {\n",
    "          \"wav\": row['wav'],\n",
    "          \"length\": row['length'],\n",
    "          \"emo\": row['affect'],\n",
    "      }\n",
    "    json_file = f'/home/paige/Documents/BERST/speech_brain/recipes/IEMOCAP/emotion_recognition/IEMOCAP/session_{i}.json'\n",
    "    # Writing the dictionary to the json file\n",
    "    with open(json_file, mode=\"w\") as json_f:\n",
    "        json.dump(json_dict, json_f, indent=2)"
   ]
  }
 ],
 "metadata": {
  "kernelspec": {
   "display_name": "venv",
   "language": "python",
   "name": "python3"
  },
  "language_info": {
   "codemirror_mode": {
    "name": "ipython",
    "version": 3
   },
   "file_extension": ".py",
   "mimetype": "text/x-python",
   "name": "python",
   "nbconvert_exporter": "python",
   "pygments_lexer": "ipython3",
   "version": "3.11.8"
  }
 },
 "nbformat": 4,
 "nbformat_minor": 2
}
