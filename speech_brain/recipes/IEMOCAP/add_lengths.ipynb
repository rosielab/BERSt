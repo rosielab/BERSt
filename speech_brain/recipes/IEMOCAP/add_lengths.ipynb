{
 "cells": [
  {
   "cell_type": "code",
   "execution_count": 1,
   "metadata": {},
   "outputs": [
    {
     "name": "stderr",
     "output_type": "stream",
     "text": [
      "/home/paige/Documents/BERST/.venv/lib/python3.11/site-packages/tqdm/auto.py:21: TqdmWarning: IProgress not found. Please update jupyter and ipywidgets. See https://ipywidgets.readthedocs.io/en/stable/user_install.html\n",
      "  from .autonotebook import tqdm as notebook_tqdm\n"
     ]
    }
   ],
   "source": [
    "import pandas as pd\n",
    "from pathlib import Path\n",
    "\n",
    "from speechbrain.dataio.dataio import read_audio"
   ]
  },
  {
   "cell_type": "code",
   "execution_count": 2,
   "metadata": {},
   "outputs": [],
   "source": [
    "directory = Path('//home/paige/Documents/BERST/IEMOCAP_full_release/labels').glob('*.csv')\n",
    "\n",
    "for index, file in enumerate(directory):\n",
    "    session = pd.read_csv(file)\n",
    "    durations = []\n",
    "    for idx, audio_file in session.iterrows():\n",
    "        wav_file = audio_file['file_location']\n",
    "        # Read the signal (to retrieve duration in seconds)\n",
    "        signal = read_audio(f'//home/paige/Documents/BERST/{wav_file}')\n",
    "        durations.append(signal.shape[0] / 16000)\n",
    "    session['length'] = durations\n",
    "    session = session[session['affect'].isin(['Happiness', 'Sadness', 'Neutral', 'Anger', 'Fear', 'Surprise', 'Disgust'])]\n",
    "    session.to_csv(f'session_{index}_speechbrain.csv', index=False)\n"
   ]
  }
 ],
 "metadata": {
  "kernelspec": {
   "display_name": "venv",
   "language": "python",
   "name": "python3"
  },
  "language_info": {
   "codemirror_mode": {
    "name": "ipython",
    "version": 3
   },
   "file_extension": ".py",
   "mimetype": "text/x-python",
   "name": "python",
   "nbconvert_exporter": "python",
   "pygments_lexer": "ipython3",
   "version": "3.11.8"
  }
 },
 "nbformat": 4,
 "nbformat_minor": 2
}
