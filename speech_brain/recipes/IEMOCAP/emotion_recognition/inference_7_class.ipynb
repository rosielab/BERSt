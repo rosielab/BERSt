{
 "cells": [
  {
   "cell_type": "code",
   "execution_count": 1,
   "metadata": {},
   "outputs": [
    {
     "name": "stderr",
     "output_type": "stream",
     "text": [
      "/home/paige/miniconda3/envs/speechbrain/lib/python3.12/site-packages/tqdm/auto.py:21: TqdmWarning: IProgress not found. Please update jupyter and ipywidgets. See https://ipywidgets.readthedocs.io/en/stable/user_install.html\n",
      "  from .autonotebook import tqdm as notebook_tqdm\n"
     ]
    }
   ],
   "source": [
    "from speechbrain.inference.interfaces import foreign_class\n",
    "import pandas as pd\n",
    "from sklearn.metrics import accuracy_score, balanced_accuracy_score, confusion_matrix"
   ]
  },
  {
   "cell_type": "code",
   "execution_count": 2,
   "metadata": {},
   "outputs": [
    {
     "name": "stderr",
     "output_type": "stream",
     "text": [
      "/home/paige/miniconda3/envs/speechbrain/lib/python3.12/site-packages/transformers/configuration_utils.py:364: UserWarning: Passing `gradient_checkpointing` to a config initialization is deprecated and will be removed in v5 Transformers. Using `model.gradient_checkpointing_enable()` instead, or if you are using the `Trainer` API, pass `gradient_checkpointing=True` in your `TrainingArguments`.\n",
      "  warnings.warn(\n",
      "Some weights of Wav2Vec2Model were not initialized from the model checkpoint at facebook/wav2vec2-base and are newly initialized: ['wav2vec2.encoder.pos_conv_embed.conv.parametrizations.weight.original0', 'wav2vec2.encoder.pos_conv_embed.conv.parametrizations.weight.original1']\n",
      "You should probably TRAIN this model on a down-stream task to be able to use it for predictions and inference.\n",
      "speechbrain.lobes.models.huggingface_transformers.huggingface - Wav2Vec2Model is frozen.\n",
      "/home/paige/miniconda3/envs/speechbrain/lib/python3.12/site-packages/speechbrain/utils/checkpoints.py:152: FutureWarning: You are using `torch.load` with `weights_only=False` (the current default value), which uses the default pickle module implicitly. It is possible to construct malicious pickle data which will execute arbitrary code during unpickling (See https://github.com/pytorch/pytorch/blob/main/SECURITY.md#untrusted-models for more details). In a future release, the default value for `weights_only` will be flipped to `True`. This limits the functions that could be executed during unpickling. Arbitrary objects will no longer be allowed to be loaded via this mode unless they are explicitly allowlisted by the user via `torch.serialization.add_safe_globals`. We recommend you start setting `weights_only=True` for any use case where you don't have full control of the loaded file. Please open an issue on GitHub for any issues related to this experimental feature.\n",
      "  torch.load(path, map_location=device), strict=False\n"
     ]
    }
   ],
   "source": [
    "classifier = foreign_class(\n",
    "    source=\"/home/paige/Documents/BERST/speech_brain/results_2/train_with_wav2vec2/1993/save/CKPT+2024-07-11+20-47-22+00\",\n",
    "    pymodule_file=\"/home/paige/Documents/BERST/speech_brain/recipes/IEMOCAP/emotion_recognition/custom_interface.py\",\n",
    "    hparams_file=\"/home/paige/Documents/BERST/speech_brain/recipes/IEMOCAP/emotion_recognition/hparams/inference_7.yaml\",\n",
    "    classname=\"CustomEncoderWav2vec2Classifier\",\n",
    "    savedir=\"/home/paige/Documents/BERST/speech_brain/results_2/train_with_wav2vec2/1993/save/CKPT+2024-07-11+20-47-22+00\"\n",
    ")"
   ]
  },
  {
   "cell_type": "code",
   "execution_count": 3,
   "metadata": {},
   "outputs": [],
   "source": [
    "test_data = pd.read_csv(\"/home/paige/Documents/BERST/speech_brain/recipes/IEMOCAP/emotion_recognition/IEMOCAP/session_2_speechbrain.csv\")\n",
    "path = \"/home/paige/Documents/BERST/\"\n",
    "\n",
    "out_probs = []\n",
    "scores = []\n",
    "indexes = []\n",
    "text_labs = []\n",
    "for index, file in test_data.iterrows():\n",
    "    out_prob, score, index, text_lab = classifier.classify_file(f\"{path}/{file['wav']}\")\n",
    "    out_probs.append(out_prob)\n",
    "    scores.append(score)\n",
    "    indexes.append(index)\n",
    "    text_labs.append(text_lab)"
   ]
  },
  {
   "cell_type": "code",
   "execution_count": 4,
   "metadata": {},
   "outputs": [],
   "source": [
    "predictions = [label for file in text_labs for label in file]\n",
    "predictions = [file.replace('[Neutral]', 'Neutral') for file in predictions]\n",
    "predictions = [file.replace('[Sadness]', 'Sadness') for file in predictions]\n",
    "predictions = [file.replace('[Happiness]', 'Happiness') for file in predictions]\n",
    "predictions = [file.replace('[Anger]', 'Anger') for file in predictions]\n",
    "predictions = [file.replace('[Fear]', 'Fear') for file in predictions]\n",
    "predictions = [file.replace('[Surprise]', 'Surprise') for file in predictions]\n",
    "predictions = [file.replace('[Disgust]', 'Disgust') for file in predictions]"
   ]
  },
  {
   "cell_type": "code",
   "execution_count": 5,
   "metadata": {},
   "outputs": [],
   "source": [
    "test_data['predictions'] = predictions"
   ]
  },
  {
   "cell_type": "code",
   "execution_count": 6,
   "metadata": {},
   "outputs": [],
   "source": [
    "test_data.to_csv('iemocap_7_class_session_2.csv', index=False)"
   ]
  },
  {
   "cell_type": "code",
   "execution_count": 7,
   "metadata": {},
   "outputs": [
    {
     "name": "stdout",
     "output_type": "stream",
     "text": [
      "UA score: 0.0673076923076923\n",
      "WA score: 0.053242780480925525\n"
     ]
    }
   ],
   "source": [
    "print(f\"UA score: {accuracy_score(test_data['affect'], test_data['predictions'])}\")\n",
    "print(f\"WA score: {balanced_accuracy_score(test_data['affect'], test_data['predictions'])}\")"
   ]
  },
  {
   "cell_type": "code",
   "execution_count": 45,
   "metadata": {},
   "outputs": [
    {
     "data": {
      "text/html": [
       "<div>\n",
       "<style scoped>\n",
       "    .dataframe tbody tr th:only-of-type {\n",
       "        vertical-align: middle;\n",
       "    }\n",
       "\n",
       "    .dataframe tbody tr th {\n",
       "        vertical-align: top;\n",
       "    }\n",
       "\n",
       "    .dataframe thead th {\n",
       "        text-align: right;\n",
       "    }\n",
       "</style>\n",
       "<table border=\"1\" class=\"dataframe\">\n",
       "  <thead>\n",
       "    <tr style=\"text-align: right;\">\n",
       "      <th></th>\n",
       "      <th>wav</th>\n",
       "      <th>affect</th>\n",
       "      <th>length</th>\n",
       "      <th>predictions</th>\n",
       "    </tr>\n",
       "  </thead>\n",
       "  <tbody>\n",
       "    <tr>\n",
       "      <th>0</th>\n",
       "      <td>IEMOCAP_full_release/Session4/sentences/wav/Se...</td>\n",
       "      <td>Anger</td>\n",
       "      <td>2.581437</td>\n",
       "      <td>Anger</td>\n",
       "    </tr>\n",
       "    <tr>\n",
       "      <th>1</th>\n",
       "      <td>IEMOCAP_full_release/Session4/sentences/wav/Se...</td>\n",
       "      <td>Anger</td>\n",
       "      <td>3.041937</td>\n",
       "      <td>Anger</td>\n",
       "    </tr>\n",
       "    <tr>\n",
       "      <th>2</th>\n",
       "      <td>IEMOCAP_full_release/Session4/sentences/wav/Se...</td>\n",
       "      <td>Anger</td>\n",
       "      <td>3.990000</td>\n",
       "      <td>Anger</td>\n",
       "    </tr>\n",
       "    <tr>\n",
       "      <th>3</th>\n",
       "      <td>IEMOCAP_full_release/Session4/sentences/wav/Se...</td>\n",
       "      <td>Anger</td>\n",
       "      <td>3.219937</td>\n",
       "      <td>Anger</td>\n",
       "    </tr>\n",
       "    <tr>\n",
       "      <th>4</th>\n",
       "      <td>IEMOCAP_full_release/Session4/sentences/wav/Se...</td>\n",
       "      <td>Anger</td>\n",
       "      <td>3.090375</td>\n",
       "      <td>Anger</td>\n",
       "    </tr>\n",
       "    <tr>\n",
       "      <th>...</th>\n",
       "      <td>...</td>\n",
       "      <td>...</td>\n",
       "      <td>...</td>\n",
       "      <td>...</td>\n",
       "    </tr>\n",
       "    <tr>\n",
       "      <th>3384</th>\n",
       "      <td>IEMOCAP_full_release/Session4/sentences/wav/Se...</td>\n",
       "      <td>Neutral</td>\n",
       "      <td>3.870000</td>\n",
       "      <td>Neutral</td>\n",
       "    </tr>\n",
       "    <tr>\n",
       "      <th>3385</th>\n",
       "      <td>IEMOCAP_full_release/Session4/sentences/wav/Se...</td>\n",
       "      <td>Neutral</td>\n",
       "      <td>2.779937</td>\n",
       "      <td>Neutral</td>\n",
       "    </tr>\n",
       "    <tr>\n",
       "      <th>3386</th>\n",
       "      <td>IEMOCAP_full_release/Session4/sentences/wav/Se...</td>\n",
       "      <td>Neutral</td>\n",
       "      <td>9.955312</td>\n",
       "      <td>Neutral</td>\n",
       "    </tr>\n",
       "    <tr>\n",
       "      <th>3387</th>\n",
       "      <td>IEMOCAP_full_release/Session4/sentences/wav/Se...</td>\n",
       "      <td>Neutral</td>\n",
       "      <td>2.340000</td>\n",
       "      <td>Neutral</td>\n",
       "    </tr>\n",
       "    <tr>\n",
       "      <th>3388</th>\n",
       "      <td>IEMOCAP_full_release/Session4/sentences/wav/Se...</td>\n",
       "      <td>Anger</td>\n",
       "      <td>5.639938</td>\n",
       "      <td>Anger</td>\n",
       "    </tr>\n",
       "  </tbody>\n",
       "</table>\n",
       "<p>3389 rows × 4 columns</p>\n",
       "</div>"
      ],
      "text/plain": [
       "                                                    wav   affect    length  \\\n",
       "0     IEMOCAP_full_release/Session4/sentences/wav/Se...    Anger  2.581437   \n",
       "1     IEMOCAP_full_release/Session4/sentences/wav/Se...    Anger  3.041937   \n",
       "2     IEMOCAP_full_release/Session4/sentences/wav/Se...    Anger  3.990000   \n",
       "3     IEMOCAP_full_release/Session4/sentences/wav/Se...    Anger  3.219937   \n",
       "4     IEMOCAP_full_release/Session4/sentences/wav/Se...    Anger  3.090375   \n",
       "...                                                 ...      ...       ...   \n",
       "3384  IEMOCAP_full_release/Session4/sentences/wav/Se...  Neutral  3.870000   \n",
       "3385  IEMOCAP_full_release/Session4/sentences/wav/Se...  Neutral  2.779937   \n",
       "3386  IEMOCAP_full_release/Session4/sentences/wav/Se...  Neutral  9.955312   \n",
       "3387  IEMOCAP_full_release/Session4/sentences/wav/Se...  Neutral  2.340000   \n",
       "3388  IEMOCAP_full_release/Session4/sentences/wav/Se...    Anger  5.639938   \n",
       "\n",
       "     predictions  \n",
       "0          Anger  \n",
       "1          Anger  \n",
       "2          Anger  \n",
       "3          Anger  \n",
       "4          Anger  \n",
       "...          ...  \n",
       "3384     Neutral  \n",
       "3385     Neutral  \n",
       "3386     Neutral  \n",
       "3387     Neutral  \n",
       "3388       Anger  \n",
       "\n",
       "[3389 rows x 4 columns]"
      ]
     },
     "execution_count": 45,
     "metadata": {},
     "output_type": "execute_result"
    }
   ],
   "source": [
    "test_data"
   ]
  },
  {
   "cell_type": "code",
   "execution_count": 44,
   "metadata": {},
   "outputs": [
    {
     "name": "stdout",
     "output_type": "stream",
     "text": [
      "[[986   3   5   2  18  17   8]\n",
      " [  1   6   0   2   2   1   0]\n",
      " [  0   0  22   0   0   0   1]\n",
      " [  1   0   0 314  59   3   0]\n",
      " [ 76   0   6 179 999  36  19]\n",
      " [ 13   0  11   8  69 431   1]\n",
      " [  3   0   2   3  10   0  72]]\n"
     ]
    }
   ],
   "source": [
    "cf_matrix = confusion_matrix(test_data['predictions'], test_data['affect'])\n",
    "print(cf_matrix)"
   ]
  }
 ],
 "metadata": {
  "kernelspec": {
   "display_name": "speechbrain",
   "language": "python",
   "name": "python3"
  },
  "language_info": {
   "codemirror_mode": {
    "name": "ipython",
    "version": 3
   },
   "file_extension": ".py",
   "mimetype": "text/x-python",
   "name": "python",
   "nbconvert_exporter": "python",
   "pygments_lexer": "ipython3",
   "version": "3.12.4"
  }
 },
 "nbformat": 4,
 "nbformat_minor": 2
}
