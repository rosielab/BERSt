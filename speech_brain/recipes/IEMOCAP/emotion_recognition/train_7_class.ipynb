{
 "cells": [
  {
   "cell_type": "code",
   "execution_count": 7,
   "metadata": {},
   "outputs": [],
   "source": [
    "#!/usr/bin/env python3\n",
    "\"\"\"Recipe for training an emotion recognition system from speech data only using IEMOCAP.\n",
    "The system classifies 4 emotions ( anger, happiness, sadness, neutrality) with wav2vec2.\n",
    "\n",
    "To run this recipe, do the following:\n",
    "> python train_with_wav2vec2.py hparams/train_with_wav2vec2.yaml --data_folder /path/to/IEMOCAP_full_release\n",
    "\n",
    "For more wav2vec2/HuBERT results, please see https://arxiv.org/pdf/2111.02735.pdf\n",
    "\n",
    "Authors\n",
    " * Yingzhi WANG 2021\n",
    "\"\"\"\n",
    "\n",
    "import os\n",
    "import sys\n",
    "\n",
    "import json\n",
    "import pandas as pd\n",
    "from pathlib import Path\n",
    "from hyperpyyaml import load_hyperpyyaml\n",
    "\n",
    "import speechbrain as sb\n",
    "\n",
    "\n",
    "class EmoIdBrain(sb.Brain):\n",
    "    def compute_forward(self, batch, stage):\n",
    "        \"\"\"Computation pipeline based on a encoder + emotion classifier.\"\"\"\n",
    "        batch = batch.to(self.device)\n",
    "        wavs, lens = batch.sig\n",
    "\n",
    "        outputs = self.modules.wav2vec2(wavs, lens)\n",
    "\n",
    "        # last dim will be used for AdaptiveAVG pool\n",
    "        outputs = self.hparams.avg_pool(outputs, lens)\n",
    "\n",
    "        outputs = outputs.view(outputs.shape[0], -1)\n",
    "\n",
    "        outputs = self.modules.output_mlp(outputs)\n",
    "        \n",
    "        outputs = self.hparams.log_softmax(outputs)\n",
    "        return outputs\n",
    "\n",
    "    def compute_objectives(self, predictions, batch, stage):\n",
    "        \"\"\"Computes the loss using affect as label.\"\"\"\n",
    "        emoid, _ = batch.emo_encoded\n",
    "\n",
    "        \"\"\"to meet the input form of nll loss\"\"\"\n",
    "        emoid = emoid.squeeze(1)\n",
    "        loss = self.hparams.compute_cost(predictions, emoid)\n",
    "        if stage != sb.Stage.TRAIN:\n",
    "            self.error_metrics.append(batch.id, predictions, emoid)\n",
    "\n",
    "        return loss\n",
    "\n",
    "    def on_stage_start(self, stage, epoch=None):\n",
    "        \"\"\"Gets called at the beginning of each epoch.\n",
    "        Arguments\n",
    "        ---------\n",
    "        stage : sb.Stage\n",
    "            One of sb.Stage.TRAIN, sb.Stage.VALID, or sb.Stage.TEST.\n",
    "        epoch : int\n",
    "            The currently-starting epoch. This is passed\n",
    "            `None` during the test stage.\n",
    "        \"\"\"\n",
    "\n",
    "        # Set up statistics trackers for this stage\n",
    "        self.loss_metric = sb.utils.metric_stats.MetricStats(\n",
    "            metric=sb.nnet.losses.nll_loss\n",
    "        )\n",
    "\n",
    "        # Set up evaluation-only statistics trackers\n",
    "        if stage != sb.Stage.TRAIN:\n",
    "            self.error_metrics = self.hparams.error_stats()\n",
    "\n",
    "    def on_stage_end(self, stage, stage_loss, epoch=None):\n",
    "        \"\"\"Gets called at the end of an epoch.\n",
    "        Arguments\n",
    "        ---------\n",
    "        stage : sb.Stage\n",
    "            One of sb.Stage.TRAIN, sb.Stage.VALID, sb.Stage.TEST\n",
    "        stage_loss : float\n",
    "            The average loss for all of the data processed in this stage.\n",
    "        epoch : int\n",
    "            The currently-starting epoch. This is passed\n",
    "            `None` during the test stage.\n",
    "        \"\"\"\n",
    "\n",
    "        # Store the train loss until the validation stage.\n",
    "        if stage == sb.Stage.TRAIN:\n",
    "            self.train_loss = stage_loss\n",
    "\n",
    "        # Summarize the statistics from the stage for record-keeping.\n",
    "        else:\n",
    "            stats = {\n",
    "                \"loss\": stage_loss,\n",
    "                \"error_rate\": self.error_metrics.summarize(\"average\"),\n",
    "            }\n",
    "\n",
    "        # At the end of validation...\n",
    "        if stage == sb.Stage.VALID:\n",
    "            old_lr, new_lr = self.hparams.lr_annealing(stats[\"error_rate\"])\n",
    "            sb.nnet.schedulers.update_learning_rate(self.optimizer, new_lr)\n",
    "\n",
    "            (\n",
    "                old_lr_wav2vec2,\n",
    "                new_lr_wav2vec2,\n",
    "            ) = self.hparams.lr_annealing_wav2vec2(stats[\"error_rate\"])\n",
    "            sb.nnet.schedulers.update_learning_rate(\n",
    "                self.wav2vec2_optimizer, new_lr_wav2vec2\n",
    "            )\n",
    "\n",
    "            # The train_logger writes a summary to stdout and to the logfile.\n",
    "            self.hparams.train_logger.log_stats(\n",
    "                {\"Epoch\": epoch, \"lr\": old_lr, \"wave2vec_lr\": old_lr_wav2vec2},\n",
    "                train_stats={\"loss\": self.train_loss},\n",
    "                valid_stats=stats,\n",
    "            )\n",
    "\n",
    "            # Save the current checkpoint and delete previous checkpoints,\n",
    "            self.checkpointer.save_and_keep_only(\n",
    "                meta=stats, min_keys=[\"error_rate\"]\n",
    "            )\n",
    "\n",
    "        # We also write statistics about test data to stdout and to logfile.\n",
    "        if stage == sb.Stage.TEST:\n",
    "            self.hparams.train_logger.log_stats(\n",
    "                {\"Epoch loaded\": self.hparams.epoch_counter.current},\n",
    "                test_stats=stats,\n",
    "            )\n",
    "\n",
    "    def init_optimizers(self):\n",
    "        \"Initializes the wav2vec2 optimizer and model optimizer\"\n",
    "        self.wav2vec2_optimizer = self.hparams.wav2vec2_opt_class(\n",
    "            self.modules.wav2vec2.parameters()\n",
    "        )\n",
    "        self.optimizer = self.hparams.opt_class(self.hparams.model.parameters())\n",
    "\n",
    "        if self.checkpointer is not None:\n",
    "            self.checkpointer.add_recoverable(\n",
    "                \"wav2vec2_opt\", self.wav2vec2_optimizer\n",
    "            )\n",
    "            self.checkpointer.add_recoverable(\"optimizer\", self.optimizer)\n",
    "\n",
    "        self.optimizers_dict = {\n",
    "            \"model_optimizer\": self.optimizer,\n",
    "            \"wav2vec2_optimizer\": self.wav2vec2_optimizer,\n",
    "        }\n",
    "\n",
    "def dataio_prep(hparams):\n",
    "    \"\"\"This function prepares the datasets to be used in the brain class.\n",
    "    It also defines the data processing pipeline through user-defined\n",
    "    functions. We expect `prepare_mini_librispeech` to have been called before\n",
    "    this, so that the `train.json`, `valid.json`,  and `valid.json` manifest\n",
    "    files are available.\n",
    "    Arguments\n",
    "    ---------\n",
    "    hparams : dict\n",
    "        This dictionary is loaded from the `train.yaml` file, and it includes\n",
    "        all the hyperparameters needed for dataset construction and loading.\n",
    "    Returns\n",
    "    -------\n",
    "    datasets : dict\n",
    "        Contains two keys, \"train\" and \"valid\" that correspond\n",
    "        to the appropriate DynamicItemDataset object.\n",
    "    \"\"\"\n",
    "\n",
    "    # Define audio pipeline\n",
    "    @sb.utils.data_pipeline.takes(\"wav\")\n",
    "    @sb.utils.data_pipeline.provides(\"sig\")\n",
    "    def audio_pipeline(wav):\n",
    "        \"\"\"Load the signal, and pass it and its length to the corruption class.\n",
    "        This is done on the CPU in the `collate_fn`.\"\"\"\n",
    "        sig = sb.dataio.dataio.read_audio(wav)\n",
    "        return sig\n",
    "\n",
    "    # Initialization of the label encoder. The label encoder assigns to each\n",
    "    # of the observed label a unique index (e.g, 'spk01': 0, 'spk02': 1, ..)\n",
    "    label_encoder = sb.dataio.encoder.CategoricalEncoder()\n",
    "\n",
    "    # Define label pipeline:\n",
    "    @sb.utils.data_pipeline.takes(\"emo\")\n",
    "    @sb.utils.data_pipeline.provides(\"emo\", \"emo_encoded\")\n",
    "    def label_pipeline(emo):\n",
    "        yield emo\n",
    "        emo_encoded = label_encoder.encode_label_torch(emo)\n",
    "        yield emo_encoded\n",
    "\n",
    "    # Define datasets. We also connect the dataset with the data processing\n",
    "    # functions defined above.\n",
    "    datasets = {}\n",
    "    data_info = {\n",
    "        \"train\": hparams[\"train_annotation\"],\n",
    "        \"valid\": hparams[\"valid_annotation\"],\n",
    "        \"test\": hparams[\"test_annotation\"],\n",
    "    }\n",
    "    for dataset in data_info:\n",
    "        datasets[dataset] = sb.dataio.dataset.DynamicItemDataset.from_json(\n",
    "            json_path=data_info[dataset],\n",
    "            replacements={\"data_root\": hparams[\"data_folder\"]},\n",
    "            dynamic_items=[audio_pipeline, label_pipeline],\n",
    "            output_keys=[\"id\", \"sig\", \"emo_encoded\"],\n",
    "        )\n",
    "    # Load or compute the label encoder (with multi-GPU DDP support)\n",
    "    # Please, take a look into the lab_enc_file to see the label to index\n",
    "    # mapping.\n",
    "\n",
    "    lab_enc_file = os.path.join(hparams[\"save_folder\"], \"label_encoder.txt\")\n",
    "    label_encoder.load_or_create(\n",
    "        path=lab_enc_file,\n",
    "        from_didatasets=[datasets[\"train\"]],\n",
    "        output_key=\"emo\",\n",
    "    )\n",
    "\n",
    "    return datasets\n"
   ]
  },
  {
   "cell_type": "code",
   "execution_count": 16,
   "metadata": {},
   "outputs": [
    {
     "name": "stdout",
     "output_type": "stream",
     "text": [
      "{'data_folder': 'home/paige/Documents/BERST/', 'output_folder': 'results_1/train_with_wav2vec2/1993'}\n"
     ]
    },
    {
     "name": "stderr",
     "output_type": "stream",
     "text": [
      "/home/paige/Documents/BERST/speech_brain/venv/lib/python3.11/site-packages/transformers/configuration_utils.py:364: UserWarning: Passing `gradient_checkpointing` to a config initialization is deprecated and will be removed in v5 Transformers. Using `model.gradient_checkpointing_enable()` instead, or if you are using the `Trainer` API, pass `gradient_checkpointing=True` in your `TrainingArguments`.\n",
      "  warnings.warn(\n",
      "Some weights of Wav2Vec2Model were not initialized from the model checkpoint at facebook/wav2vec2-base and are newly initialized: ['wav2vec2.encoder.pos_conv_embed.conv.parametrizations.weight.original0', 'wav2vec2.encoder.pos_conv_embed.conv.parametrizations.weight.original1']\n",
      "You should probably TRAIN this model on a down-stream task to be able to use it for predictions and inference.\n"
     ]
    },
    {
     "name": "stdout",
     "output_type": "stream",
     "text": [
      "speechbrain.lobes.models.huggingface_transformers.wav2vec2 - speechbrain.lobes.models.huggingface_transformers.wav2vec2 - wav2vec 2.0 feature extractor is frozen.\n",
      "speechbrain.core - Beginning experiment!\n",
      "speechbrain.core - Experiment folder: results_1/train_with_wav2vec2/1993\n",
      "speechbrain.dataio.encoder - Load called, but CategoricalEncoder is not empty. Loaded data will overwrite everything. This is normal if there is e.g. an unk label defined at init.\n",
      "speechbrain.core - Info: ckpt_interval_minutes arg from hparam file is used\n",
      "speechbrain.core - Gradscaler enabled: False. Using precision: fp32.\n",
      "speechbrain.core - EmoIdBrain Model Statistics:\n",
      "* Total Number of Trainable Parameters: 90.2M\n",
      "* Total Number of Parameters: 94.4M\n",
      "* Trainable Parameters represent 95.5493% of the total size.\n",
      "<speechbrain.dataio.dataset.DynamicItemDataset object at 0x764e82223cd0>\n",
      "speechbrain.utils.checkpoints - Would load a checkpoint here, but none found yet.\n",
      "speechbrain.utils.epoch_loop - Going into epoch 1\n"
     ]
    },
    {
     "name": "stderr",
     "output_type": "stream",
     "text": [
      "100%|██████████| 2600/2600 [09:03<00:00,  4.78it/s, train_loss=1.2] \n",
      "100%|██████████| 884/884 [01:09<00:00, 12.64it/s]\n"
     ]
    },
    {
     "name": "stdout",
     "output_type": "stream",
     "text": [
      "speechbrain.utils.train_logger - Epoch: 1, lr: 1.00e-04, wave2vec_lr: 1.00e-05 - train loss: 1.20 - valid loss: 1.43, valid error_rate: 4.91e-01\n",
      "speechbrain.utils.checkpoints - Saved an end-of-epoch checkpoint in results_1/train_with_wav2vec2/1993/save/CKPT+2024-07-11+11-09-24+00\n",
      "speechbrain.utils.epoch_loop - Going into epoch 2\n"
     ]
    },
    {
     "name": "stderr",
     "output_type": "stream",
     "text": [
      "100%|██████████| 2600/2600 [09:05<00:00,  4.76it/s, train_loss=0.955]\n",
      "100%|██████████| 884/884 [01:09<00:00, 12.64it/s]\n"
     ]
    },
    {
     "name": "stdout",
     "output_type": "stream",
     "text": [
      "speechbrain.utils.train_logger - Epoch: 2, lr: 1.00e-04, wave2vec_lr: 1.00e-05 - train loss: 9.55e-01 - valid loss: 1.20, valid error_rate: 4.15e-01\n",
      "speechbrain.utils.checkpoints - Saved an end-of-epoch checkpoint in results_1/train_with_wav2vec2/1993/save/CKPT+2024-07-11+11-19-40+00\n",
      "speechbrain.utils.checkpoints - Deleted checkpoint in results_1/train_with_wav2vec2/1993/save/CKPT+2024-07-11+11-09-24+00\n",
      "speechbrain.utils.epoch_loop - Going into epoch 3\n"
     ]
    },
    {
     "name": "stderr",
     "output_type": "stream",
     "text": [
      "100%|██████████| 2600/2600 [09:04<00:00,  4.77it/s, train_loss=0.822]\n",
      "100%|██████████| 884/884 [01:09<00:00, 12.65it/s]\n"
     ]
    },
    {
     "name": "stdout",
     "output_type": "stream",
     "text": [
      "speechbrain.utils.train_logger - Epoch: 3, lr: 1.00e-04, wave2vec_lr: 1.00e-05 - train loss: 8.22e-01 - valid loss: 1.23, valid error_rate: 4.02e-01\n",
      "speechbrain.utils.checkpoints - Saved an end-of-epoch checkpoint in results_1/train_with_wav2vec2/1993/save/CKPT+2024-07-11+11-29-56+00\n",
      "speechbrain.utils.checkpoints - Deleted checkpoint in results_1/train_with_wav2vec2/1993/save/CKPT+2024-07-11+11-19-40+00\n",
      "speechbrain.utils.epoch_loop - Going into epoch 4\n"
     ]
    },
    {
     "name": "stderr",
     "output_type": "stream",
     "text": [
      "100%|██████████| 2600/2600 [09:05<00:00,  4.77it/s, train_loss=0.741]\n",
      "100%|██████████| 884/884 [01:10<00:00, 12.61it/s]\n"
     ]
    },
    {
     "name": "stdout",
     "output_type": "stream",
     "text": [
      "speechbrain.nnet.schedulers - Changing lr from 0.0001 to 9e-05\n",
      "speechbrain.nnet.schedulers - Changing lr from 1e-05 to 9e-06\n",
      "speechbrain.utils.train_logger - Epoch: 4, lr: 1.00e-04, wave2vec_lr: 1.00e-05 - train loss: 7.41e-01 - valid loss: 1.48, valid error_rate: 4.66e-01\n",
      "speechbrain.utils.checkpoints - Saved an end-of-epoch checkpoint in results_1/train_with_wav2vec2/1993/save/CKPT+2024-07-11+11-40-12+00\n",
      "speechbrain.utils.epoch_loop - Going into epoch 5\n"
     ]
    },
    {
     "name": "stderr",
     "output_type": "stream",
     "text": [
      "100%|██████████| 2600/2600 [09:07<00:00,  4.75it/s, train_loss=0.672]\n",
      "100%|██████████| 884/884 [01:10<00:00, 12.61it/s]\n"
     ]
    },
    {
     "name": "stdout",
     "output_type": "stream",
     "text": [
      "speechbrain.utils.train_logger - Epoch: 5, lr: 9.00e-05, wave2vec_lr: 9.00e-06 - train loss: 6.72e-01 - valid loss: 1.35, valid error_rate: 4.08e-01\n",
      "speechbrain.utils.checkpoints - Saved an end-of-epoch checkpoint in results_1/train_with_wav2vec2/1993/save/CKPT+2024-07-11+11-50-31+00\n",
      "speechbrain.utils.checkpoints - Deleted checkpoint in results_1/train_with_wav2vec2/1993/save/CKPT+2024-07-11+11-40-12+00\n",
      "speechbrain.utils.epoch_loop - Going into epoch 6\n"
     ]
    },
    {
     "name": "stderr",
     "output_type": "stream",
     "text": [
      "100%|██████████| 2600/2600 [09:06<00:00,  4.76it/s, train_loss=0.638]\n",
      "100%|██████████| 884/884 [01:10<00:00, 12.60it/s]"
     ]
    },
    {
     "name": "stdout",
     "output_type": "stream",
     "text": [
      "speechbrain.nnet.schedulers - Changing lr from 9e-05 to 8.1e-05\n",
      "speechbrain.nnet.schedulers - Changing lr from 9e-06 to 8.1e-06\n",
      "speechbrain.utils.train_logger - Epoch: 6, lr: 9.00e-05, wave2vec_lr: 9.00e-06 - train loss: 6.38e-01 - valid loss: 1.38, valid error_rate: 4.19e-01\n"
     ]
    },
    {
     "name": "stderr",
     "output_type": "stream",
     "text": [
      "\n"
     ]
    },
    {
     "name": "stdout",
     "output_type": "stream",
     "text": [
      "speechbrain.utils.checkpoints - Saved an end-of-epoch checkpoint in results_1/train_with_wav2vec2/1993/save/CKPT+2024-07-11+12-00-48+00\n",
      "speechbrain.utils.checkpoints - Deleted checkpoint in results_1/train_with_wav2vec2/1993/save/CKPT+2024-07-11+11-50-31+00\n",
      "speechbrain.utils.epoch_loop - Going into epoch 7\n"
     ]
    },
    {
     "name": "stderr",
     "output_type": "stream",
     "text": [
      "100%|██████████| 2600/2600 [09:06<00:00,  4.76it/s, train_loss=0.587]\n",
      "100%|██████████| 884/884 [01:10<00:00, 12.60it/s]\n"
     ]
    },
    {
     "name": "stdout",
     "output_type": "stream",
     "text": [
      "speechbrain.utils.train_logger - Epoch: 7, lr: 8.10e-05, wave2vec_lr: 8.10e-06 - train loss: 5.87e-01 - valid loss: 1.28, valid error_rate: 4.07e-01\n",
      "speechbrain.utils.checkpoints - Saved an end-of-epoch checkpoint in results_1/train_with_wav2vec2/1993/save/CKPT+2024-07-11+12-11-06+00\n",
      "speechbrain.utils.checkpoints - Deleted checkpoint in results_1/train_with_wav2vec2/1993/save/CKPT+2024-07-11+12-00-48+00\n",
      "speechbrain.utils.epoch_loop - Going into epoch 8\n"
     ]
    },
    {
     "name": "stderr",
     "output_type": "stream",
     "text": [
      "100%|██████████| 2600/2600 [09:04<00:00,  4.77it/s, train_loss=0.563]\n",
      "100%|██████████| 884/884 [01:10<00:00, 12.59it/s]"
     ]
    },
    {
     "name": "stdout",
     "output_type": "stream",
     "text": [
      "speechbrain.utils.train_logger - Epoch: 8, lr: 8.10e-05, wave2vec_lr: 8.10e-06 - train loss: 5.63e-01 - valid loss: 1.29, valid error_rate: 4.00e-01\n"
     ]
    },
    {
     "name": "stderr",
     "output_type": "stream",
     "text": [
      "\n"
     ]
    },
    {
     "name": "stdout",
     "output_type": "stream",
     "text": [
      "speechbrain.utils.checkpoints - Saved an end-of-epoch checkpoint in results_1/train_with_wav2vec2/1993/save/CKPT+2024-07-11+12-21-22+00\n",
      "speechbrain.utils.checkpoints - Deleted checkpoint in results_1/train_with_wav2vec2/1993/save/CKPT+2024-07-11+11-29-56+00\n",
      "speechbrain.utils.checkpoints - Deleted checkpoint in results_1/train_with_wav2vec2/1993/save/CKPT+2024-07-11+12-11-06+00\n",
      "speechbrain.utils.epoch_loop - Going into epoch 9\n"
     ]
    },
    {
     "name": "stderr",
     "output_type": "stream",
     "text": [
      "100%|██████████| 2600/2600 [09:06<00:00,  4.76it/s, train_loss=0.546]\n",
      "100%|██████████| 884/884 [01:10<00:00, 12.61it/s]"
     ]
    },
    {
     "name": "stdout",
     "output_type": "stream",
     "text": [
      "speechbrain.nnet.schedulers - Changing lr from 8.1e-05 to 7.3e-05\n",
      "speechbrain.nnet.schedulers - Changing lr from 8.1e-06 to 7.3e-06\n",
      "speechbrain.utils.train_logger - Epoch: 9, lr: 8.10e-05, wave2vec_lr: 8.10e-06 - train loss: 5.46e-01 - valid loss: 1.60, valid error_rate: 4.24e-01\n"
     ]
    },
    {
     "name": "stderr",
     "output_type": "stream",
     "text": [
      "\n"
     ]
    },
    {
     "name": "stdout",
     "output_type": "stream",
     "text": [
      "speechbrain.utils.checkpoints - Saved an end-of-epoch checkpoint in results_1/train_with_wav2vec2/1993/save/CKPT+2024-07-11+12-31-39+00\n",
      "speechbrain.utils.epoch_loop - Going into epoch 10\n"
     ]
    },
    {
     "name": "stderr",
     "output_type": "stream",
     "text": [
      "100%|██████████| 2600/2600 [09:07<00:00,  4.75it/s, train_loss=0.521]\n",
      "100%|██████████| 884/884 [01:10<00:00, 12.59it/s]\n"
     ]
    },
    {
     "name": "stdout",
     "output_type": "stream",
     "text": [
      "speechbrain.utils.train_logger - Epoch: 10, lr: 7.29e-05, wave2vec_lr: 7.29e-06 - train loss: 5.21e-01 - valid loss: 1.35, valid error_rate: 4.00e-01\n",
      "speechbrain.utils.checkpoints - Saved an end-of-epoch checkpoint in results_1/train_with_wav2vec2/1993/save/CKPT+2024-07-11+12-41-57+00\n",
      "speechbrain.utils.checkpoints - Deleted checkpoint in results_1/train_with_wav2vec2/1993/save/CKPT+2024-07-11+12-31-39+00\n",
      "speechbrain.utils.epoch_loop - Going into epoch 11\n"
     ]
    },
    {
     "name": "stderr",
     "output_type": "stream",
     "text": [
      "100%|██████████| 2600/2600 [09:07<00:00,  4.75it/s, train_loss=0.499]\n",
      "100%|██████████| 884/884 [01:10<00:00, 12.56it/s]"
     ]
    },
    {
     "name": "stdout",
     "output_type": "stream",
     "text": [
      "speechbrain.utils.train_logger - Epoch: 11, lr: 7.29e-05, wave2vec_lr: 7.29e-06 - train loss: 4.99e-01 - valid loss: 1.32, valid error_rate: 3.94e-01\n"
     ]
    },
    {
     "name": "stderr",
     "output_type": "stream",
     "text": [
      "\n"
     ]
    },
    {
     "name": "stdout",
     "output_type": "stream",
     "text": [
      "speechbrain.utils.checkpoints - Saved an end-of-epoch checkpoint in results_1/train_with_wav2vec2/1993/save/CKPT+2024-07-11+12-52-16+00\n",
      "speechbrain.utils.checkpoints - Deleted checkpoint in results_1/train_with_wav2vec2/1993/save/CKPT+2024-07-11+12-21-22+00\n",
      "speechbrain.utils.checkpoints - Deleted checkpoint in results_1/train_with_wav2vec2/1993/save/CKPT+2024-07-11+12-41-57+00\n",
      "speechbrain.utils.epoch_loop - Going into epoch 12\n"
     ]
    },
    {
     "name": "stderr",
     "output_type": "stream",
     "text": [
      "100%|██████████| 2600/2600 [09:06<00:00,  4.76it/s, train_loss=0.492]\n",
      "100%|██████████| 884/884 [01:10<00:00, 12.57it/s]\n"
     ]
    },
    {
     "name": "stdout",
     "output_type": "stream",
     "text": [
      "speechbrain.utils.train_logger - Epoch: 12, lr: 7.29e-05, wave2vec_lr: 7.29e-06 - train loss: 4.92e-01 - valid loss: 1.42, valid error_rate: 3.87e-01\n",
      "speechbrain.utils.checkpoints - Saved an end-of-epoch checkpoint in results_1/train_with_wav2vec2/1993/save/CKPT+2024-07-11+13-02-34+00\n",
      "speechbrain.utils.checkpoints - Deleted checkpoint in results_1/train_with_wav2vec2/1993/save/CKPT+2024-07-11+12-52-16+00\n",
      "speechbrain.utils.epoch_loop - Going into epoch 13\n"
     ]
    },
    {
     "name": "stderr",
     "output_type": "stream",
     "text": [
      "100%|██████████| 2600/2600 [09:07<00:00,  4.75it/s, train_loss=0.478]\n",
      "100%|██████████| 884/884 [01:10<00:00, 12.57it/s]"
     ]
    },
    {
     "name": "stdout",
     "output_type": "stream",
     "text": [
      "speechbrain.nnet.schedulers - Changing lr from 7.3e-05 to 6.6e-05\n",
      "speechbrain.nnet.schedulers - Changing lr from 7.3e-06 to 6.6e-06\n",
      "speechbrain.utils.train_logger - Epoch: 13, lr: 7.29e-05, wave2vec_lr: 7.29e-06 - train loss: 4.78e-01 - valid loss: 1.41, valid error_rate: 4.10e-01\n"
     ]
    },
    {
     "name": "stderr",
     "output_type": "stream",
     "text": [
      "\n"
     ]
    },
    {
     "name": "stdout",
     "output_type": "stream",
     "text": [
      "speechbrain.utils.checkpoints - Saved an end-of-epoch checkpoint in results_1/train_with_wav2vec2/1993/save/CKPT+2024-07-11+13-12-52+00\n",
      "speechbrain.utils.epoch_loop - Going into epoch 14\n"
     ]
    },
    {
     "name": "stderr",
     "output_type": "stream",
     "text": [
      "100%|██████████| 2600/2600 [09:05<00:00,  4.77it/s, train_loss=0.451]\n",
      "100%|██████████| 884/884 [01:10<00:00, 12.58it/s]\n"
     ]
    },
    {
     "name": "stdout",
     "output_type": "stream",
     "text": [
      "speechbrain.utils.train_logger - Epoch: 14, lr: 6.56e-05, wave2vec_lr: 6.56e-06 - train loss: 4.51e-01 - valid loss: 1.44, valid error_rate: 4.06e-01\n",
      "speechbrain.utils.checkpoints - Saved an end-of-epoch checkpoint in results_1/train_with_wav2vec2/1993/save/CKPT+2024-07-11+13-23-09+00\n",
      "speechbrain.utils.checkpoints - Deleted checkpoint in results_1/train_with_wav2vec2/1993/save/CKPT+2024-07-11+13-12-52+00\n",
      "speechbrain.utils.epoch_loop - Going into epoch 15\n"
     ]
    },
    {
     "name": "stderr",
     "output_type": "stream",
     "text": [
      "100%|██████████| 2600/2600 [09:04<00:00,  4.77it/s, train_loss=0.449]\n",
      "100%|██████████| 884/884 [01:09<00:00, 12.66it/s]"
     ]
    },
    {
     "name": "stdout",
     "output_type": "stream",
     "text": [
      "speechbrain.utils.train_logger - Epoch: 15, lr: 6.56e-05, wave2vec_lr: 6.56e-06 - train loss: 4.49e-01 - valid loss: 1.41, valid error_rate: 3.92e-01\n"
     ]
    },
    {
     "name": "stderr",
     "output_type": "stream",
     "text": [
      "\n"
     ]
    },
    {
     "name": "stdout",
     "output_type": "stream",
     "text": [
      "speechbrain.utils.checkpoints - Saved an end-of-epoch checkpoint in results_1/train_with_wav2vec2/1993/save/CKPT+2024-07-11+13-33-24+00\n",
      "speechbrain.utils.checkpoints - Deleted checkpoint in results_1/train_with_wav2vec2/1993/save/CKPT+2024-07-11+13-23-09+00\n",
      "speechbrain.utils.epoch_loop - Going into epoch 16\n"
     ]
    },
    {
     "name": "stderr",
     "output_type": "stream",
     "text": [
      "100%|██████████| 2600/2600 [09:01<00:00,  4.80it/s, train_loss=0.446]\n",
      "100%|██████████| 884/884 [01:09<00:00, 12.64it/s]"
     ]
    },
    {
     "name": "stdout",
     "output_type": "stream",
     "text": [
      "speechbrain.utils.train_logger - Epoch: 16, lr: 6.56e-05, wave2vec_lr: 6.56e-06 - train loss: 4.46e-01 - valid loss: 1.52, valid error_rate: 3.91e-01\n"
     ]
    },
    {
     "name": "stderr",
     "output_type": "stream",
     "text": [
      "\n"
     ]
    },
    {
     "name": "stdout",
     "output_type": "stream",
     "text": [
      "speechbrain.utils.checkpoints - Saved an end-of-epoch checkpoint in results_1/train_with_wav2vec2/1993/save/CKPT+2024-07-11+13-43-37+00\n",
      "speechbrain.utils.checkpoints - Deleted checkpoint in results_1/train_with_wav2vec2/1993/save/CKPT+2024-07-11+13-33-24+00\n",
      "speechbrain.utils.epoch_loop - Going into epoch 17\n"
     ]
    },
    {
     "name": "stderr",
     "output_type": "stream",
     "text": [
      "100%|██████████| 2600/2600 [09:03<00:00,  4.79it/s, train_loss=0.435]\n",
      "100%|██████████| 884/884 [01:09<00:00, 12.64it/s]"
     ]
    },
    {
     "name": "stdout",
     "output_type": "stream",
     "text": [
      "speechbrain.nnet.schedulers - Changing lr from 6.6e-05 to 5.9e-05\n",
      "speechbrain.nnet.schedulers - Changing lr from 6.6e-06 to 5.9e-06\n",
      "speechbrain.utils.train_logger - Epoch: 17, lr: 6.56e-05, wave2vec_lr: 6.56e-06 - train loss: 4.35e-01 - valid loss: 1.49, valid error_rate: 4.07e-01\n"
     ]
    },
    {
     "name": "stderr",
     "output_type": "stream",
     "text": [
      "\n"
     ]
    },
    {
     "name": "stdout",
     "output_type": "stream",
     "text": [
      "speechbrain.utils.checkpoints - Saved an end-of-epoch checkpoint in results_1/train_with_wav2vec2/1993/save/CKPT+2024-07-11+13-53-51+00\n",
      "speechbrain.utils.checkpoints - Deleted checkpoint in results_1/train_with_wav2vec2/1993/save/CKPT+2024-07-11+13-43-37+00\n",
      "speechbrain.utils.epoch_loop - Going into epoch 18\n"
     ]
    },
    {
     "name": "stderr",
     "output_type": "stream",
     "text": [
      "100%|██████████| 2600/2600 [09:03<00:00,  4.78it/s, train_loss=0.418]\n",
      "100%|██████████| 884/884 [01:09<00:00, 12.63it/s]"
     ]
    },
    {
     "name": "stdout",
     "output_type": "stream",
     "text": [
      "speechbrain.utils.train_logger - Epoch: 18, lr: 5.90e-05, wave2vec_lr: 5.90e-06 - train loss: 4.18e-01 - valid loss: 1.42, valid error_rate: 3.87e-01\n"
     ]
    },
    {
     "name": "stderr",
     "output_type": "stream",
     "text": [
      "\n"
     ]
    },
    {
     "name": "stdout",
     "output_type": "stream",
     "text": [
      "speechbrain.utils.checkpoints - Saved an end-of-epoch checkpoint in results_1/train_with_wav2vec2/1993/save/CKPT+2024-07-11+14-04-05+00\n",
      "speechbrain.utils.checkpoints - Deleted checkpoint in results_1/train_with_wav2vec2/1993/save/CKPT+2024-07-11+13-02-34+00\n",
      "speechbrain.utils.checkpoints - Deleted checkpoint in results_1/train_with_wav2vec2/1993/save/CKPT+2024-07-11+13-53-51+00\n",
      "speechbrain.utils.epoch_loop - Going into epoch 19\n"
     ]
    },
    {
     "name": "stderr",
     "output_type": "stream",
     "text": [
      "100%|██████████| 2600/2600 [09:04<00:00,  4.77it/s, train_loss=0.413]\n",
      "100%|██████████| 884/884 [01:09<00:00, 12.64it/s]"
     ]
    },
    {
     "name": "stdout",
     "output_type": "stream",
     "text": [
      "speechbrain.utils.train_logger - Epoch: 19, lr: 5.90e-05, wave2vec_lr: 5.90e-06 - train loss: 4.13e-01 - valid loss: 1.42, valid error_rate: 3.84e-01\n"
     ]
    },
    {
     "name": "stderr",
     "output_type": "stream",
     "text": [
      "\n"
     ]
    },
    {
     "name": "stdout",
     "output_type": "stream",
     "text": [
      "speechbrain.utils.checkpoints - Saved an end-of-epoch checkpoint in results_1/train_with_wav2vec2/1993/save/CKPT+2024-07-11+14-14-21+00\n",
      "speechbrain.utils.checkpoints - Deleted checkpoint in results_1/train_with_wav2vec2/1993/save/CKPT+2024-07-11+14-04-05+00\n",
      "speechbrain.utils.epoch_loop - Going into epoch 20\n"
     ]
    },
    {
     "name": "stderr",
     "output_type": "stream",
     "text": [
      "100%|██████████| 2600/2600 [09:04<00:00,  4.78it/s, train_loss=0.414]\n",
      "100%|██████████| 884/884 [01:09<00:00, 12.63it/s]\n"
     ]
    },
    {
     "name": "stdout",
     "output_type": "stream",
     "text": [
      "speechbrain.nnet.schedulers - Changing lr from 5.9e-05 to 5.3e-05\n",
      "speechbrain.nnet.schedulers - Changing lr from 5.9e-06 to 5.3e-06\n",
      "speechbrain.utils.train_logger - Epoch: 20, lr: 5.90e-05, wave2vec_lr: 5.90e-06 - train loss: 4.14e-01 - valid loss: 1.45, valid error_rate: 4.02e-01\n",
      "speechbrain.utils.checkpoints - Saved an end-of-epoch checkpoint in results_1/train_with_wav2vec2/1993/save/CKPT+2024-07-11+14-24-36+00\n",
      "speechbrain.utils.epoch_loop - Going into epoch 21\n"
     ]
    },
    {
     "name": "stderr",
     "output_type": "stream",
     "text": [
      "100%|██████████| 2600/2600 [09:02<00:00,  4.79it/s, train_loss=0.392]\n",
      "100%|██████████| 884/884 [01:09<00:00, 12.64it/s]"
     ]
    },
    {
     "name": "stdout",
     "output_type": "stream",
     "text": [
      "speechbrain.nnet.schedulers - Changing lr from 5.3e-05 to 4.8e-05\n",
      "speechbrain.nnet.schedulers - Changing lr from 5.3e-06 to 4.8e-06\n",
      "speechbrain.utils.train_logger - Epoch: 21, lr: 5.31e-05, wave2vec_lr: 5.31e-06 - train loss: 3.92e-01 - valid loss: 1.67, valid error_rate: 4.28e-01\n"
     ]
    },
    {
     "name": "stderr",
     "output_type": "stream",
     "text": [
      "\n"
     ]
    },
    {
     "name": "stdout",
     "output_type": "stream",
     "text": [
      "speechbrain.utils.checkpoints - Saved an end-of-epoch checkpoint in results_1/train_with_wav2vec2/1993/save/CKPT+2024-07-11+14-34-49+00\n",
      "speechbrain.utils.checkpoints - Deleted checkpoint in results_1/train_with_wav2vec2/1993/save/CKPT+2024-07-11+14-24-36+00\n",
      "speechbrain.utils.epoch_loop - Going into epoch 22\n"
     ]
    },
    {
     "name": "stderr",
     "output_type": "stream",
     "text": [
      "100%|██████████| 2600/2600 [09:05<00:00,  4.77it/s, train_loss=0.388]\n",
      "100%|██████████| 884/884 [01:09<00:00, 12.64it/s]"
     ]
    },
    {
     "name": "stdout",
     "output_type": "stream",
     "text": [
      "speechbrain.utils.train_logger - Epoch: 22, lr: 4.78e-05, wave2vec_lr: 4.78e-06 - train loss: 3.88e-01 - valid loss: 1.43, valid error_rate: 3.98e-01\n"
     ]
    },
    {
     "name": "stderr",
     "output_type": "stream",
     "text": [
      "\n"
     ]
    },
    {
     "name": "stdout",
     "output_type": "stream",
     "text": [
      "speechbrain.utils.checkpoints - Saved an end-of-epoch checkpoint in results_1/train_with_wav2vec2/1993/save/CKPT+2024-07-11+14-45-05+00\n",
      "speechbrain.utils.checkpoints - Deleted checkpoint in results_1/train_with_wav2vec2/1993/save/CKPT+2024-07-11+14-34-49+00\n",
      "speechbrain.utils.epoch_loop - Going into epoch 23\n"
     ]
    },
    {
     "name": "stderr",
     "output_type": "stream",
     "text": [
      "100%|██████████| 2600/2600 [09:01<00:00,  4.80it/s, train_loss=0.375]\n",
      "100%|██████████| 884/884 [01:09<00:00, 12.65it/s]"
     ]
    },
    {
     "name": "stdout",
     "output_type": "stream",
     "text": [
      "speechbrain.utils.train_logger - Epoch: 23, lr: 4.78e-05, wave2vec_lr: 4.78e-06 - train loss: 3.75e-01 - valid loss: 1.60, valid error_rate: 3.93e-01\n"
     ]
    },
    {
     "name": "stderr",
     "output_type": "stream",
     "text": [
      "\n"
     ]
    },
    {
     "name": "stdout",
     "output_type": "stream",
     "text": [
      "speechbrain.utils.checkpoints - Saved an end-of-epoch checkpoint in results_1/train_with_wav2vec2/1993/save/CKPT+2024-07-11+14-55-17+00\n",
      "speechbrain.utils.checkpoints - Deleted checkpoint in results_1/train_with_wav2vec2/1993/save/CKPT+2024-07-11+14-45-05+00\n",
      "speechbrain.utils.epoch_loop - Going into epoch 24\n"
     ]
    },
    {
     "name": "stderr",
     "output_type": "stream",
     "text": [
      "100%|██████████| 2600/2600 [09:02<00:00,  4.79it/s, train_loss=0.37] \n",
      "100%|██████████| 884/884 [01:10<00:00, 12.63it/s]\n"
     ]
    },
    {
     "name": "stdout",
     "output_type": "stream",
     "text": [
      "speechbrain.nnet.schedulers - Changing lr from 4.8e-05 to 4.3e-05\n",
      "speechbrain.nnet.schedulers - Changing lr from 4.8e-06 to 4.3e-06\n",
      "speechbrain.utils.train_logger - Epoch: 24, lr: 4.78e-05, wave2vec_lr: 4.78e-06 - train loss: 3.70e-01 - valid loss: 1.61, valid error_rate: 4.14e-01\n",
      "speechbrain.utils.checkpoints - Saved an end-of-epoch checkpoint in results_1/train_with_wav2vec2/1993/save/CKPT+2024-07-11+15-05-31+00\n",
      "speechbrain.utils.checkpoints - Deleted checkpoint in results_1/train_with_wav2vec2/1993/save/CKPT+2024-07-11+14-55-17+00\n",
      "speechbrain.utils.epoch_loop - Going into epoch 25\n"
     ]
    },
    {
     "name": "stderr",
     "output_type": "stream",
     "text": [
      "100%|██████████| 2600/2600 [09:01<00:00,  4.80it/s, train_loss=0.361]\n",
      "100%|██████████| 884/884 [01:10<00:00, 12.61it/s]"
     ]
    },
    {
     "name": "stdout",
     "output_type": "stream",
     "text": [
      "speechbrain.utils.train_logger - Epoch: 25, lr: 4.30e-05, wave2vec_lr: 4.30e-06 - train loss: 3.61e-01 - valid loss: 1.58, valid error_rate: 4.07e-01\n"
     ]
    },
    {
     "name": "stderr",
     "output_type": "stream",
     "text": [
      "\n"
     ]
    },
    {
     "name": "stdout",
     "output_type": "stream",
     "text": [
      "speechbrain.utils.checkpoints - Saved an end-of-epoch checkpoint in results_1/train_with_wav2vec2/1993/save/CKPT+2024-07-11+15-15-43+00\n",
      "speechbrain.utils.checkpoints - Deleted checkpoint in results_1/train_with_wav2vec2/1993/save/CKPT+2024-07-11+15-05-31+00\n",
      "speechbrain.utils.epoch_loop - Going into epoch 26\n"
     ]
    },
    {
     "name": "stderr",
     "output_type": "stream",
     "text": [
      "100%|██████████| 2600/2600 [09:02<00:00,  4.79it/s, train_loss=0.359]\n",
      "100%|██████████| 884/884 [01:10<00:00, 12.63it/s]"
     ]
    },
    {
     "name": "stdout",
     "output_type": "stream",
     "text": [
      "speechbrain.utils.train_logger - Epoch: 26, lr: 4.30e-05, wave2vec_lr: 4.30e-06 - train loss: 3.59e-01 - valid loss: 1.57, valid error_rate: 3.91e-01\n"
     ]
    },
    {
     "name": "stderr",
     "output_type": "stream",
     "text": [
      "\n"
     ]
    },
    {
     "name": "stdout",
     "output_type": "stream",
     "text": [
      "speechbrain.utils.checkpoints - Saved an end-of-epoch checkpoint in results_1/train_with_wav2vec2/1993/save/CKPT+2024-07-11+15-25-57+00\n",
      "speechbrain.utils.checkpoints - Deleted checkpoint in results_1/train_with_wav2vec2/1993/save/CKPT+2024-07-11+15-15-43+00\n",
      "speechbrain.utils.epoch_loop - Going into epoch 27\n"
     ]
    },
    {
     "name": "stderr",
     "output_type": "stream",
     "text": [
      "100%|██████████| 2600/2600 [09:05<00:00,  4.77it/s, train_loss=0.357]\n",
      "100%|██████████| 884/884 [01:10<00:00, 12.61it/s]"
     ]
    },
    {
     "name": "stdout",
     "output_type": "stream",
     "text": [
      "speechbrain.nnet.schedulers - Changing lr from 4.3e-05 to 3.9e-05\n",
      "speechbrain.nnet.schedulers - Changing lr from 4.3e-06 to 3.9e-06\n",
      "speechbrain.utils.train_logger - Epoch: 27, lr: 4.30e-05, wave2vec_lr: 4.30e-06 - train loss: 3.57e-01 - valid loss: 1.71, valid error_rate: 3.94e-01\n"
     ]
    },
    {
     "name": "stderr",
     "output_type": "stream",
     "text": [
      "\n"
     ]
    },
    {
     "name": "stdout",
     "output_type": "stream",
     "text": [
      "speechbrain.utils.checkpoints - Saved an end-of-epoch checkpoint in results_1/train_with_wav2vec2/1993/save/CKPT+2024-07-11+15-36-13+00\n",
      "speechbrain.utils.checkpoints - Deleted checkpoint in results_1/train_with_wav2vec2/1993/save/CKPT+2024-07-11+15-25-57+00\n",
      "speechbrain.utils.epoch_loop - Going into epoch 28\n"
     ]
    },
    {
     "name": "stderr",
     "output_type": "stream",
     "text": [
      "100%|██████████| 2600/2600 [09:04<00:00,  4.77it/s, train_loss=0.356]\n",
      "100%|██████████| 884/884 [01:10<00:00, 12.63it/s]"
     ]
    },
    {
     "name": "stdout",
     "output_type": "stream",
     "text": [
      "speechbrain.utils.train_logger - Epoch: 28, lr: 3.87e-05, wave2vec_lr: 3.87e-06 - train loss: 3.56e-01 - valid loss: 1.58, valid error_rate: 3.90e-01\n"
     ]
    },
    {
     "name": "stderr",
     "output_type": "stream",
     "text": [
      "\n"
     ]
    },
    {
     "name": "stdout",
     "output_type": "stream",
     "text": [
      "speechbrain.utils.checkpoints - Saved an end-of-epoch checkpoint in results_1/train_with_wav2vec2/1993/save/CKPT+2024-07-11+15-46-28+00\n",
      "speechbrain.utils.checkpoints - Deleted checkpoint in results_1/train_with_wav2vec2/1993/save/CKPT+2024-07-11+15-36-13+00\n",
      "speechbrain.utils.epoch_loop - Going into epoch 29\n"
     ]
    },
    {
     "name": "stderr",
     "output_type": "stream",
     "text": [
      "100%|██████████| 2600/2600 [09:03<00:00,  4.78it/s, train_loss=0.348]\n",
      "100%|██████████| 884/884 [01:09<00:00, 12.63it/s]"
     ]
    },
    {
     "name": "stdout",
     "output_type": "stream",
     "text": [
      "speechbrain.nnet.schedulers - Changing lr from 3.9e-05 to 3.5e-05\n",
      "speechbrain.nnet.schedulers - Changing lr from 3.9e-06 to 3.5e-06\n",
      "speechbrain.utils.train_logger - Epoch: 29, lr: 3.87e-05, wave2vec_lr: 3.87e-06 - train loss: 3.48e-01 - valid loss: 1.56, valid error_rate: 3.92e-01\n"
     ]
    },
    {
     "name": "stderr",
     "output_type": "stream",
     "text": [
      "\n"
     ]
    },
    {
     "name": "stdout",
     "output_type": "stream",
     "text": [
      "speechbrain.utils.checkpoints - Saved an end-of-epoch checkpoint in results_1/train_with_wav2vec2/1993/save/CKPT+2024-07-11+15-56-43+00\n",
      "speechbrain.utils.checkpoints - Deleted checkpoint in results_1/train_with_wav2vec2/1993/save/CKPT+2024-07-11+15-46-28+00\n",
      "speechbrain.utils.epoch_loop - Going into epoch 30\n"
     ]
    },
    {
     "name": "stderr",
     "output_type": "stream",
     "text": [
      "100%|██████████| 2600/2600 [09:05<00:00,  4.77it/s, train_loss=0.339]\n",
      "100%|██████████| 884/884 [01:10<00:00, 12.62it/s]"
     ]
    },
    {
     "name": "stdout",
     "output_type": "stream",
     "text": [
      "speechbrain.nnet.schedulers - Changing lr from 3.5e-05 to 3.1e-05\n",
      "speechbrain.nnet.schedulers - Changing lr from 3.5e-06 to 3.1e-06\n",
      "speechbrain.utils.train_logger - Epoch: 30, lr: 3.49e-05, wave2vec_lr: 3.49e-06 - train loss: 3.39e-01 - valid loss: 1.69, valid error_rate: 3.93e-01\n"
     ]
    },
    {
     "name": "stderr",
     "output_type": "stream",
     "text": [
      "\n"
     ]
    },
    {
     "name": "stdout",
     "output_type": "stream",
     "text": [
      "speechbrain.utils.checkpoints - Saved an end-of-epoch checkpoint in results_1/train_with_wav2vec2/1993/save/CKPT+2024-07-11+16-06-59+00\n",
      "speechbrain.utils.checkpoints - Deleted checkpoint in results_1/train_with_wav2vec2/1993/save/CKPT+2024-07-11+15-56-43+00\n",
      "speechbrain.utils.checkpoints - Loading a checkpoint from results_1/train_with_wav2vec2/1993/save/CKPT+2024-07-11+14-14-21+00\n"
     ]
    },
    {
     "name": "stderr",
     "output_type": "stream",
     "text": [
      "100%|██████████| 935/935 [01:08<00:00, 13.56it/s]"
     ]
    },
    {
     "name": "stdout",
     "output_type": "stream",
     "text": [
      "speechbrain.utils.train_logger - Epoch loaded: 19 - test loss: 1.51, test error_rate: 4.24e-01\n"
     ]
    },
    {
     "name": "stderr",
     "output_type": "stream",
     "text": [
      "\n"
     ]
    },
    {
     "name": "stdout",
     "output_type": "stream",
     "text": [
      "{'data_folder': 'home/paige/Documents/BERST/', 'output_folder': 'results_2/train_with_wav2vec2/1993'}\n"
     ]
    },
    {
     "name": "stderr",
     "output_type": "stream",
     "text": [
      "Some weights of Wav2Vec2Model were not initialized from the model checkpoint at facebook/wav2vec2-base and are newly initialized: ['wav2vec2.encoder.pos_conv_embed.conv.parametrizations.weight.original0', 'wav2vec2.encoder.pos_conv_embed.conv.parametrizations.weight.original1']\n",
      "You should probably TRAIN this model on a down-stream task to be able to use it for predictions and inference.\n"
     ]
    },
    {
     "name": "stdout",
     "output_type": "stream",
     "text": [
      "speechbrain.lobes.models.huggingface_transformers.wav2vec2 - speechbrain.lobes.models.huggingface_transformers.wav2vec2 - wav2vec 2.0 feature extractor is frozen.\n",
      "speechbrain.core - Beginning experiment!\n",
      "speechbrain.core - Experiment folder: results_2/train_with_wav2vec2/1993\n",
      "speechbrain.dataio.encoder - Load called, but CategoricalEncoder is not empty. Loaded data will overwrite everything. This is normal if there is e.g. an unk label defined at init.\n",
      "speechbrain.core - Info: ckpt_interval_minutes arg from hparam file is used\n",
      "speechbrain.core - Gradscaler enabled: False. Using precision: fp32.\n",
      "speechbrain.core - EmoIdBrain Model Statistics:\n",
      "* Total Number of Trainable Parameters: 90.2M\n",
      "* Total Number of Parameters: 94.4M\n",
      "* Trainable Parameters represent 95.5493% of the total size.\n",
      "<speechbrain.dataio.dataset.DynamicItemDataset object at 0x764e81c51e50>\n",
      "speechbrain.utils.checkpoints - Would load a checkpoint here, but none found yet.\n",
      "speechbrain.utils.epoch_loop - Going into epoch 1\n"
     ]
    },
    {
     "name": "stderr",
     "output_type": "stream",
     "text": [
      "100%|██████████| 2762/2762 [09:29<00:00,  4.85it/s, train_loss=1.21]\n",
      "100%|██████████| 773/773 [01:01<00:00, 12.62it/s]\n"
     ]
    },
    {
     "name": "stdout",
     "output_type": "stream",
     "text": [
      "speechbrain.utils.train_logger - Epoch: 1, lr: 1.00e-04, wave2vec_lr: 1.00e-05 - train loss: 1.21 - valid loss: 1.18, valid error_rate: 4.06e-01\n",
      "speechbrain.utils.checkpoints - Saved an end-of-epoch checkpoint in results_2/train_with_wav2vec2/1993/save/CKPT+2024-07-11+16-21-38+00\n",
      "speechbrain.utils.epoch_loop - Going into epoch 2\n"
     ]
    },
    {
     "name": "stderr",
     "output_type": "stream",
     "text": [
      "100%|██████████| 2762/2762 [09:29<00:00,  4.85it/s, train_loss=0.989]\n",
      "100%|██████████| 773/773 [01:01<00:00, 12.65it/s]\n"
     ]
    },
    {
     "name": "stdout",
     "output_type": "stream",
     "text": [
      "speechbrain.nnet.schedulers - Changing lr from 0.0001 to 9e-05\n",
      "speechbrain.nnet.schedulers - Changing lr from 1e-05 to 9e-06\n",
      "speechbrain.utils.train_logger - Epoch: 2, lr: 1.00e-04, wave2vec_lr: 1.00e-05 - train loss: 9.89e-01 - valid loss: 1.08, valid error_rate: 4.14e-01\n",
      "speechbrain.utils.checkpoints - Saved an end-of-epoch checkpoint in results_2/train_with_wav2vec2/1993/save/CKPT+2024-07-11+16-32-09+00\n",
      "speechbrain.utils.epoch_loop - Going into epoch 3\n"
     ]
    },
    {
     "name": "stderr",
     "output_type": "stream",
     "text": [
      "100%|██████████| 2762/2762 [09:30<00:00,  4.84it/s, train_loss=0.85] \n",
      "100%|██████████| 773/773 [01:01<00:00, 12.63it/s]\n"
     ]
    },
    {
     "name": "stdout",
     "output_type": "stream",
     "text": [
      "speechbrain.utils.train_logger - Epoch: 3, lr: 9.00e-05, wave2vec_lr: 9.00e-06 - train loss: 8.50e-01 - valid loss: 1.16, valid error_rate: 3.86e-01\n",
      "speechbrain.utils.checkpoints - Saved an end-of-epoch checkpoint in results_2/train_with_wav2vec2/1993/save/CKPT+2024-07-11+16-42-41+00\n",
      "speechbrain.utils.checkpoints - Deleted checkpoint in results_2/train_with_wav2vec2/1993/save/CKPT+2024-07-11+16-21-38+00\n",
      "speechbrain.utils.checkpoints - Deleted checkpoint in results_2/train_with_wav2vec2/1993/save/CKPT+2024-07-11+16-32-09+00\n",
      "speechbrain.utils.epoch_loop - Going into epoch 4\n"
     ]
    },
    {
     "name": "stderr",
     "output_type": "stream",
     "text": [
      "100%|██████████| 2762/2762 [09:30<00:00,  4.84it/s, train_loss=0.76] \n",
      "100%|██████████| 773/773 [01:01<00:00, 12.66it/s]\n"
     ]
    },
    {
     "name": "stdout",
     "output_type": "stream",
     "text": [
      "speechbrain.utils.train_logger - Epoch: 4, lr: 9.00e-05, wave2vec_lr: 9.00e-06 - train loss: 7.60e-01 - valid loss: 1.09, valid error_rate: 3.64e-01\n",
      "speechbrain.utils.checkpoints - Saved an end-of-epoch checkpoint in results_2/train_with_wav2vec2/1993/save/CKPT+2024-07-11+16-53-14+00\n",
      "speechbrain.utils.checkpoints - Deleted checkpoint in results_2/train_with_wav2vec2/1993/save/CKPT+2024-07-11+16-42-41+00\n",
      "speechbrain.utils.epoch_loop - Going into epoch 5\n"
     ]
    },
    {
     "name": "stderr",
     "output_type": "stream",
     "text": [
      "100%|██████████| 2762/2762 [09:28<00:00,  4.86it/s, train_loss=0.699]\n",
      "100%|██████████| 773/773 [01:01<00:00, 12.58it/s]\n"
     ]
    },
    {
     "name": "stdout",
     "output_type": "stream",
     "text": [
      "speechbrain.nnet.schedulers - Changing lr from 9e-05 to 8.1e-05\n",
      "speechbrain.nnet.schedulers - Changing lr from 9e-06 to 8.1e-06\n",
      "speechbrain.utils.train_logger - Epoch: 5, lr: 9.00e-05, wave2vec_lr: 9.00e-06 - train loss: 6.99e-01 - valid loss: 1.12, valid error_rate: 3.78e-01\n",
      "speechbrain.utils.checkpoints - Saved an end-of-epoch checkpoint in results_2/train_with_wav2vec2/1993/save/CKPT+2024-07-11+17-03-45+00\n",
      "speechbrain.utils.epoch_loop - Going into epoch 6\n"
     ]
    },
    {
     "name": "stderr",
     "output_type": "stream",
     "text": [
      "100%|██████████| 2762/2762 [09:33<00:00,  4.82it/s, train_loss=0.645]\n",
      "100%|██████████| 773/773 [01:01<00:00, 12.61it/s]\n"
     ]
    },
    {
     "name": "stdout",
     "output_type": "stream",
     "text": [
      "speechbrain.utils.train_logger - Epoch: 6, lr: 8.10e-05, wave2vec_lr: 8.10e-06 - train loss: 6.45e-01 - valid loss: 1.05, valid error_rate: 3.40e-01\n",
      "speechbrain.utils.checkpoints - Saved an end-of-epoch checkpoint in results_2/train_with_wav2vec2/1993/save/CKPT+2024-07-11+17-14-20+00\n",
      "speechbrain.utils.checkpoints - Deleted checkpoint in results_2/train_with_wav2vec2/1993/save/CKPT+2024-07-11+16-53-14+00\n",
      "speechbrain.utils.checkpoints - Deleted checkpoint in results_2/train_with_wav2vec2/1993/save/CKPT+2024-07-11+17-03-45+00\n",
      "speechbrain.utils.epoch_loop - Going into epoch 7\n"
     ]
    },
    {
     "name": "stderr",
     "output_type": "stream",
     "text": [
      "100%|██████████| 2762/2762 [09:29<00:00,  4.85it/s, train_loss=0.619]\n",
      "100%|██████████| 773/773 [01:01<00:00, 12.63it/s]\n"
     ]
    },
    {
     "name": "stdout",
     "output_type": "stream",
     "text": [
      "speechbrain.nnet.schedulers - Changing lr from 8.1e-05 to 7.3e-05\n",
      "speechbrain.nnet.schedulers - Changing lr from 8.1e-06 to 7.3e-06\n",
      "speechbrain.utils.train_logger - Epoch: 7, lr: 8.10e-05, wave2vec_lr: 8.10e-06 - train loss: 6.19e-01 - valid loss: 1.14, valid error_rate: 3.64e-01\n",
      "speechbrain.utils.checkpoints - Saved an end-of-epoch checkpoint in results_2/train_with_wav2vec2/1993/save/CKPT+2024-07-11+17-24-52+00\n",
      "speechbrain.utils.epoch_loop - Going into epoch 8\n"
     ]
    },
    {
     "name": "stderr",
     "output_type": "stream",
     "text": [
      "100%|██████████| 2762/2762 [09:30<00:00,  4.84it/s, train_loss=0.578]\n",
      "100%|██████████| 773/773 [01:01<00:00, 12.61it/s]\n"
     ]
    },
    {
     "name": "stdout",
     "output_type": "stream",
     "text": [
      "speechbrain.utils.train_logger - Epoch: 8, lr: 7.29e-05, wave2vec_lr: 7.29e-06 - train loss: 5.78e-01 - valid loss: 1.02, valid error_rate: 3.41e-01\n",
      "speechbrain.utils.checkpoints - Saved an end-of-epoch checkpoint in results_2/train_with_wav2vec2/1993/save/CKPT+2024-07-11+17-35-24+00\n",
      "speechbrain.utils.checkpoints - Deleted checkpoint in results_2/train_with_wav2vec2/1993/save/CKPT+2024-07-11+17-24-52+00\n",
      "speechbrain.utils.epoch_loop - Going into epoch 9\n"
     ]
    },
    {
     "name": "stderr",
     "output_type": "stream",
     "text": [
      "100%|██████████| 2762/2762 [09:33<00:00,  4.82it/s, train_loss=0.565]\n",
      "100%|██████████| 773/773 [01:01<00:00, 12.59it/s]"
     ]
    },
    {
     "name": "stdout",
     "output_type": "stream",
     "text": [
      "speechbrain.nnet.schedulers - Changing lr from 7.3e-05 to 6.6e-05\n",
      "speechbrain.nnet.schedulers - Changing lr from 7.3e-06 to 6.6e-06\n",
      "speechbrain.utils.train_logger - Epoch: 9, lr: 7.29e-05, wave2vec_lr: 7.29e-06 - train loss: 5.65e-01 - valid loss: 1.07, valid error_rate: 3.46e-01\n"
     ]
    },
    {
     "name": "stderr",
     "output_type": "stream",
     "text": [
      "\n"
     ]
    },
    {
     "name": "stdout",
     "output_type": "stream",
     "text": [
      "speechbrain.utils.checkpoints - Saved an end-of-epoch checkpoint in results_2/train_with_wav2vec2/1993/save/CKPT+2024-07-11+17-46-00+00\n",
      "speechbrain.utils.checkpoints - Deleted checkpoint in results_2/train_with_wav2vec2/1993/save/CKPT+2024-07-11+17-35-24+00\n",
      "speechbrain.utils.epoch_loop - Going into epoch 10\n"
     ]
    },
    {
     "name": "stderr",
     "output_type": "stream",
     "text": [
      "100%|██████████| 2762/2762 [09:35<00:00,  4.80it/s, train_loss=0.535]\n",
      "100%|██████████| 773/773 [01:04<00:00, 11.92it/s]"
     ]
    },
    {
     "name": "stdout",
     "output_type": "stream",
     "text": [
      "speechbrain.utils.train_logger - Epoch: 10, lr: 6.56e-05, wave2vec_lr: 6.56e-06 - train loss: 5.35e-01 - valid loss: 1.12, valid error_rate: 3.43e-01\n"
     ]
    },
    {
     "name": "stderr",
     "output_type": "stream",
     "text": [
      "\n"
     ]
    },
    {
     "name": "stdout",
     "output_type": "stream",
     "text": [
      "speechbrain.utils.checkpoints - Saved an end-of-epoch checkpoint in results_2/train_with_wav2vec2/1993/save/CKPT+2024-07-11+17-56-41+00\n",
      "speechbrain.utils.checkpoints - Deleted checkpoint in results_2/train_with_wav2vec2/1993/save/CKPT+2024-07-11+17-46-00+00\n",
      "speechbrain.utils.epoch_loop - Going into epoch 11\n"
     ]
    },
    {
     "name": "stderr",
     "output_type": "stream",
     "text": [
      "100%|██████████| 2762/2762 [09:46<00:00,  4.71it/s, train_loss=0.527]\n",
      "100%|██████████| 773/773 [01:04<00:00, 11.99it/s]\n"
     ]
    },
    {
     "name": "stdout",
     "output_type": "stream",
     "text": [
      "speechbrain.nnet.schedulers - Changing lr from 6.6e-05 to 5.9e-05\n",
      "speechbrain.nnet.schedulers - Changing lr from 6.6e-06 to 5.9e-06\n",
      "speechbrain.utils.train_logger - Epoch: 11, lr: 6.56e-05, wave2vec_lr: 6.56e-06 - train loss: 5.27e-01 - valid loss: 1.11, valid error_rate: 3.53e-01\n",
      "speechbrain.utils.checkpoints - Saved an end-of-epoch checkpoint in results_2/train_with_wav2vec2/1993/save/CKPT+2024-07-11+18-07-33+00\n",
      "speechbrain.utils.checkpoints - Deleted checkpoint in results_2/train_with_wav2vec2/1993/save/CKPT+2024-07-11+17-56-41+00\n",
      "speechbrain.utils.epoch_loop - Going into epoch 12\n"
     ]
    },
    {
     "name": "stderr",
     "output_type": "stream",
     "text": [
      "100%|██████████| 2762/2762 [09:42<00:00,  4.74it/s, train_loss=0.498]\n",
      "100%|██████████| 773/773 [01:04<00:00, 12.03it/s]"
     ]
    },
    {
     "name": "stdout",
     "output_type": "stream",
     "text": [
      "speechbrain.utils.train_logger - Epoch: 12, lr: 5.90e-05, wave2vec_lr: 5.90e-06 - train loss: 4.98e-01 - valid loss: 1.12, valid error_rate: 3.36e-01\n"
     ]
    },
    {
     "name": "stderr",
     "output_type": "stream",
     "text": [
      "\n"
     ]
    },
    {
     "name": "stdout",
     "output_type": "stream",
     "text": [
      "speechbrain.utils.checkpoints - Saved an end-of-epoch checkpoint in results_2/train_with_wav2vec2/1993/save/CKPT+2024-07-11+18-18-21+00\n",
      "speechbrain.utils.checkpoints - Deleted checkpoint in results_2/train_with_wav2vec2/1993/save/CKPT+2024-07-11+18-07-33+00\n",
      "speechbrain.utils.checkpoints - Deleted checkpoint in results_2/train_with_wav2vec2/1993/save/CKPT+2024-07-11+17-14-20+00\n",
      "speechbrain.utils.epoch_loop - Going into epoch 13\n"
     ]
    },
    {
     "name": "stderr",
     "output_type": "stream",
     "text": [
      "100%|██████████| 2762/2762 [09:41<00:00,  4.75it/s, train_loss=0.488]\n",
      "100%|██████████| 773/773 [01:03<00:00, 12.09it/s]"
     ]
    },
    {
     "name": "stdout",
     "output_type": "stream",
     "text": [
      "speechbrain.nnet.schedulers - Changing lr from 5.9e-05 to 5.3e-05\n",
      "speechbrain.nnet.schedulers - Changing lr from 5.9e-06 to 5.3e-06\n",
      "speechbrain.utils.train_logger - Epoch: 13, lr: 5.90e-05, wave2vec_lr: 5.90e-06 - train loss: 4.88e-01 - valid loss: 1.41, valid error_rate: 4.02e-01\n"
     ]
    },
    {
     "name": "stderr",
     "output_type": "stream",
     "text": [
      "\n"
     ]
    },
    {
     "name": "stdout",
     "output_type": "stream",
     "text": [
      "speechbrain.utils.checkpoints - Saved an end-of-epoch checkpoint in results_2/train_with_wav2vec2/1993/save/CKPT+2024-07-11+18-29-08+00\n",
      "speechbrain.utils.epoch_loop - Going into epoch 14\n"
     ]
    },
    {
     "name": "stderr",
     "output_type": "stream",
     "text": [
      "100%|██████████| 2762/2762 [09:41<00:00,  4.75it/s, train_loss=0.467]\n",
      "100%|██████████| 773/773 [01:04<00:00, 12.01it/s]\n"
     ]
    },
    {
     "name": "stdout",
     "output_type": "stream",
     "text": [
      "speechbrain.utils.train_logger - Epoch: 14, lr: 5.31e-05, wave2vec_lr: 5.31e-06 - train loss: 4.67e-01 - valid loss: 1.21, valid error_rate: 3.65e-01\n",
      "speechbrain.utils.checkpoints - Saved an end-of-epoch checkpoint in results_2/train_with_wav2vec2/1993/save/CKPT+2024-07-11+18-39-56+00\n",
      "speechbrain.utils.checkpoints - Deleted checkpoint in results_2/train_with_wav2vec2/1993/save/CKPT+2024-07-11+18-29-08+00\n",
      "speechbrain.utils.epoch_loop - Going into epoch 15\n"
     ]
    },
    {
     "name": "stderr",
     "output_type": "stream",
     "text": [
      "100%|██████████| 2762/2762 [09:39<00:00,  4.76it/s, train_loss=0.458]\n",
      "100%|██████████| 773/773 [01:04<00:00, 11.98it/s]"
     ]
    },
    {
     "name": "stdout",
     "output_type": "stream",
     "text": [
      "speechbrain.utils.train_logger - Epoch: 15, lr: 5.31e-05, wave2vec_lr: 5.31e-06 - train loss: 4.58e-01 - valid loss: 1.17, valid error_rate: 3.33e-01\n"
     ]
    },
    {
     "name": "stderr",
     "output_type": "stream",
     "text": [
      "\n"
     ]
    },
    {
     "name": "stdout",
     "output_type": "stream",
     "text": [
      "speechbrain.utils.checkpoints - Saved an end-of-epoch checkpoint in results_2/train_with_wav2vec2/1993/save/CKPT+2024-07-11+18-50-41+00\n",
      "speechbrain.utils.checkpoints - Deleted checkpoint in results_2/train_with_wav2vec2/1993/save/CKPT+2024-07-11+18-18-21+00\n",
      "speechbrain.utils.checkpoints - Deleted checkpoint in results_2/train_with_wav2vec2/1993/save/CKPT+2024-07-11+18-39-56+00\n",
      "speechbrain.utils.epoch_loop - Going into epoch 16\n"
     ]
    },
    {
     "name": "stderr",
     "output_type": "stream",
     "text": [
      "100%|██████████| 2762/2762 [09:41<00:00,  4.75it/s, train_loss=0.455]\n",
      "100%|██████████| 773/773 [01:04<00:00, 12.05it/s]\n"
     ]
    },
    {
     "name": "stdout",
     "output_type": "stream",
     "text": [
      "speechbrain.nnet.schedulers - Changing lr from 5.3e-05 to 4.8e-05\n",
      "speechbrain.nnet.schedulers - Changing lr from 5.3e-06 to 4.8e-06\n",
      "speechbrain.utils.train_logger - Epoch: 16, lr: 5.31e-05, wave2vec_lr: 5.31e-06 - train loss: 4.55e-01 - valid loss: 1.16, valid error_rate: 3.56e-01\n",
      "speechbrain.utils.checkpoints - Saved an end-of-epoch checkpoint in results_2/train_with_wav2vec2/1993/save/CKPT+2024-07-11+19-01-28+00\n",
      "speechbrain.utils.epoch_loop - Going into epoch 17\n"
     ]
    },
    {
     "name": "stderr",
     "output_type": "stream",
     "text": [
      "100%|██████████| 2762/2762 [09:43<00:00,  4.73it/s, train_loss=0.429]\n",
      "100%|██████████| 773/773 [01:03<00:00, 12.11it/s]"
     ]
    },
    {
     "name": "stdout",
     "output_type": "stream",
     "text": [
      "speechbrain.nnet.schedulers - Changing lr from 4.8e-05 to 4.3e-05\n",
      "speechbrain.nnet.schedulers - Changing lr from 4.8e-06 to 4.3e-06\n",
      "speechbrain.utils.train_logger - Epoch: 17, lr: 4.78e-05, wave2vec_lr: 4.78e-06 - train loss: 4.29e-01 - valid loss: 1.17, valid error_rate: 3.74e-01\n"
     ]
    },
    {
     "name": "stderr",
     "output_type": "stream",
     "text": [
      "\n"
     ]
    },
    {
     "name": "stdout",
     "output_type": "stream",
     "text": [
      "speechbrain.utils.checkpoints - Saved an end-of-epoch checkpoint in results_2/train_with_wav2vec2/1993/save/CKPT+2024-07-11+19-12-18+00\n",
      "speechbrain.utils.checkpoints - Deleted checkpoint in results_2/train_with_wav2vec2/1993/save/CKPT+2024-07-11+19-01-28+00\n",
      "speechbrain.utils.epoch_loop - Going into epoch 18\n"
     ]
    },
    {
     "name": "stderr",
     "output_type": "stream",
     "text": [
      "100%|██████████| 2762/2762 [09:40<00:00,  4.76it/s, train_loss=0.417]\n",
      "100%|██████████| 773/773 [01:01<00:00, 12.62it/s]\n"
     ]
    },
    {
     "name": "stdout",
     "output_type": "stream",
     "text": [
      "speechbrain.utils.train_logger - Epoch: 18, lr: 4.30e-05, wave2vec_lr: 4.30e-06 - train loss: 4.17e-01 - valid loss: 1.24, valid error_rate: 3.51e-01\n",
      "speechbrain.utils.checkpoints - Saved an end-of-epoch checkpoint in results_2/train_with_wav2vec2/1993/save/CKPT+2024-07-11+19-23-01+00\n",
      "speechbrain.utils.checkpoints - Deleted checkpoint in results_2/train_with_wav2vec2/1993/save/CKPT+2024-07-11+19-12-18+00\n",
      "speechbrain.utils.epoch_loop - Going into epoch 19\n"
     ]
    },
    {
     "name": "stderr",
     "output_type": "stream",
     "text": [
      "100%|██████████| 2762/2762 [09:33<00:00,  4.82it/s, train_loss=0.41] \n",
      "100%|██████████| 773/773 [01:01<00:00, 12.61it/s]\n"
     ]
    },
    {
     "name": "stdout",
     "output_type": "stream",
     "text": [
      "speechbrain.nnet.schedulers - Changing lr from 4.3e-05 to 3.9e-05\n",
      "speechbrain.nnet.schedulers - Changing lr from 4.3e-06 to 3.9e-06\n",
      "speechbrain.utils.train_logger - Epoch: 19, lr: 4.30e-05, wave2vec_lr: 4.30e-06 - train loss: 4.10e-01 - valid loss: 1.26, valid error_rate: 3.52e-01\n",
      "speechbrain.utils.checkpoints - Saved an end-of-epoch checkpoint in results_2/train_with_wav2vec2/1993/save/CKPT+2024-07-11+19-33-36+00\n",
      "speechbrain.utils.checkpoints - Deleted checkpoint in results_2/train_with_wav2vec2/1993/save/CKPT+2024-07-11+19-23-01+00\n",
      "speechbrain.utils.epoch_loop - Going into epoch 20\n"
     ]
    },
    {
     "name": "stderr",
     "output_type": "stream",
     "text": [
      "100%|██████████| 2762/2762 [09:29<00:00,  4.85it/s, train_loss=0.408]\n",
      "100%|██████████| 773/773 [01:01<00:00, 12.63it/s]\n"
     ]
    },
    {
     "name": "stdout",
     "output_type": "stream",
     "text": [
      "speechbrain.utils.train_logger - Epoch: 20, lr: 3.87e-05, wave2vec_lr: 3.87e-06 - train loss: 4.08e-01 - valid loss: 1.23, valid error_rate: 3.50e-01\n",
      "speechbrain.utils.checkpoints - Saved an end-of-epoch checkpoint in results_2/train_with_wav2vec2/1993/save/CKPT+2024-07-11+19-44-08+00\n",
      "speechbrain.utils.checkpoints - Deleted checkpoint in results_2/train_with_wav2vec2/1993/save/CKPT+2024-07-11+19-33-36+00\n",
      "speechbrain.utils.epoch_loop - Going into epoch 21\n"
     ]
    },
    {
     "name": "stderr",
     "output_type": "stream",
     "text": [
      "100%|██████████| 2762/2762 [09:30<00:00,  4.84it/s, train_loss=0.397]\n",
      "100%|██████████| 773/773 [01:01<00:00, 12.63it/s]\n"
     ]
    },
    {
     "name": "stdout",
     "output_type": "stream",
     "text": [
      "speechbrain.nnet.schedulers - Changing lr from 3.9e-05 to 3.5e-05\n",
      "speechbrain.nnet.schedulers - Changing lr from 3.9e-06 to 3.5e-06\n",
      "speechbrain.utils.train_logger - Epoch: 21, lr: 3.87e-05, wave2vec_lr: 3.87e-06 - train loss: 3.97e-01 - valid loss: 1.32, valid error_rate: 3.75e-01\n",
      "speechbrain.utils.checkpoints - Saved an end-of-epoch checkpoint in results_2/train_with_wav2vec2/1993/save/CKPT+2024-07-11+19-54-40+00\n",
      "speechbrain.utils.checkpoints - Deleted checkpoint in results_2/train_with_wav2vec2/1993/save/CKPT+2024-07-11+19-44-08+00\n",
      "speechbrain.utils.epoch_loop - Going into epoch 22\n"
     ]
    },
    {
     "name": "stderr",
     "output_type": "stream",
     "text": [
      "100%|██████████| 2762/2762 [09:29<00:00,  4.85it/s, train_loss=0.387]\n",
      "100%|██████████| 773/773 [01:01<00:00, 12.62it/s]\n"
     ]
    },
    {
     "name": "stdout",
     "output_type": "stream",
     "text": [
      "speechbrain.nnet.schedulers - Changing lr from 3.5e-05 to 3.1e-05\n",
      "speechbrain.nnet.schedulers - Changing lr from 3.5e-06 to 3.1e-06\n",
      "speechbrain.utils.train_logger - Epoch: 22, lr: 3.49e-05, wave2vec_lr: 3.49e-06 - train loss: 3.87e-01 - valid loss: 1.37, valid error_rate: 3.85e-01\n",
      "speechbrain.utils.checkpoints - Saved an end-of-epoch checkpoint in results_2/train_with_wav2vec2/1993/save/CKPT+2024-07-11+20-05-12+00\n",
      "speechbrain.utils.checkpoints - Deleted checkpoint in results_2/train_with_wav2vec2/1993/save/CKPT+2024-07-11+19-54-40+00\n",
      "speechbrain.utils.epoch_loop - Going into epoch 23\n"
     ]
    },
    {
     "name": "stderr",
     "output_type": "stream",
     "text": [
      "100%|██████████| 2762/2762 [09:30<00:00,  4.84it/s, train_loss=0.38] \n",
      "100%|██████████| 773/773 [01:01<00:00, 12.63it/s]\n"
     ]
    },
    {
     "name": "stdout",
     "output_type": "stream",
     "text": [
      "speechbrain.utils.train_logger - Epoch: 23, lr: 3.14e-05, wave2vec_lr: 3.14e-06 - train loss: 3.80e-01 - valid loss: 1.26, valid error_rate: 3.43e-01\n",
      "speechbrain.utils.checkpoints - Saved an end-of-epoch checkpoint in results_2/train_with_wav2vec2/1993/save/CKPT+2024-07-11+20-15-44+00\n",
      "speechbrain.utils.checkpoints - Deleted checkpoint in results_2/train_with_wav2vec2/1993/save/CKPT+2024-07-11+20-05-12+00\n",
      "speechbrain.utils.epoch_loop - Going into epoch 24\n"
     ]
    },
    {
     "name": "stderr",
     "output_type": "stream",
     "text": [
      "100%|██████████| 2762/2762 [09:28<00:00,  4.86it/s, train_loss=0.377]\n",
      "100%|██████████| 773/773 [01:01<00:00, 12.63it/s]\n"
     ]
    },
    {
     "name": "stdout",
     "output_type": "stream",
     "text": [
      "speechbrain.utils.train_logger - Epoch: 24, lr: 3.14e-05, wave2vec_lr: 3.14e-06 - train loss: 3.77e-01 - valid loss: 1.29, valid error_rate: 3.41e-01\n",
      "speechbrain.utils.checkpoints - Saved an end-of-epoch checkpoint in results_2/train_with_wav2vec2/1993/save/CKPT+2024-07-11+20-26-15+00\n",
      "speechbrain.utils.checkpoints - Deleted checkpoint in results_2/train_with_wav2vec2/1993/save/CKPT+2024-07-11+20-15-44+00\n",
      "speechbrain.utils.epoch_loop - Going into epoch 25\n"
     ]
    },
    {
     "name": "stderr",
     "output_type": "stream",
     "text": [
      "100%|██████████| 2762/2762 [09:30<00:00,  4.84it/s, train_loss=0.374]\n",
      "100%|██████████| 773/773 [01:01<00:00, 12.64it/s]\n"
     ]
    },
    {
     "name": "stdout",
     "output_type": "stream",
     "text": [
      "speechbrain.nnet.schedulers - Changing lr from 3.1e-05 to 2.8e-05\n",
      "speechbrain.nnet.schedulers - Changing lr from 3.1e-06 to 2.8e-06\n",
      "speechbrain.utils.train_logger - Epoch: 25, lr: 3.14e-05, wave2vec_lr: 3.14e-06 - train loss: 3.74e-01 - valid loss: 1.32, valid error_rate: 3.70e-01\n",
      "speechbrain.utils.checkpoints - Saved an end-of-epoch checkpoint in results_2/train_with_wav2vec2/1993/save/CKPT+2024-07-11+20-36-48+00\n",
      "speechbrain.utils.checkpoints - Deleted checkpoint in results_2/train_with_wav2vec2/1993/save/CKPT+2024-07-11+20-26-15+00\n",
      "speechbrain.utils.epoch_loop - Going into epoch 26\n"
     ]
    },
    {
     "name": "stderr",
     "output_type": "stream",
     "text": [
      "100%|██████████| 2762/2762 [09:31<00:00,  4.83it/s, train_loss=0.37] \n",
      "100%|██████████| 773/773 [01:01<00:00, 12.63it/s]\n"
     ]
    },
    {
     "name": "stdout",
     "output_type": "stream",
     "text": [
      "speechbrain.utils.train_logger - Epoch: 26, lr: 2.82e-05, wave2vec_lr: 2.82e-06 - train loss: 3.70e-01 - valid loss: 1.26, valid error_rate: 3.31e-01\n",
      "speechbrain.utils.checkpoints - Saved an end-of-epoch checkpoint in results_2/train_with_wav2vec2/1993/save/CKPT+2024-07-11+20-47-22+00\n",
      "speechbrain.utils.checkpoints - Deleted checkpoint in results_2/train_with_wav2vec2/1993/save/CKPT+2024-07-11+20-36-48+00\n",
      "speechbrain.utils.checkpoints - Deleted checkpoint in results_2/train_with_wav2vec2/1993/save/CKPT+2024-07-11+18-50-41+00\n",
      "speechbrain.utils.epoch_loop - Going into epoch 27\n"
     ]
    },
    {
     "name": "stderr",
     "output_type": "stream",
     "text": [
      "100%|██████████| 2762/2762 [09:32<00:00,  4.83it/s, train_loss=0.37] \n",
      "100%|██████████| 773/773 [01:01<00:00, 12.63it/s]\n"
     ]
    },
    {
     "name": "stdout",
     "output_type": "stream",
     "text": [
      "speechbrain.nnet.schedulers - Changing lr from 2.8e-05 to 2.5e-05\n",
      "speechbrain.nnet.schedulers - Changing lr from 2.8e-06 to 2.5e-06\n",
      "speechbrain.utils.train_logger - Epoch: 27, lr: 2.82e-05, wave2vec_lr: 2.82e-06 - train loss: 3.70e-01 - valid loss: 1.31, valid error_rate: 3.93e-01\n",
      "speechbrain.utils.checkpoints - Saved an end-of-epoch checkpoint in results_2/train_with_wav2vec2/1993/save/CKPT+2024-07-11+20-57-56+00\n",
      "speechbrain.utils.epoch_loop - Going into epoch 28\n"
     ]
    },
    {
     "name": "stderr",
     "output_type": "stream",
     "text": [
      "100%|██████████| 2762/2762 [09:30<00:00,  4.84it/s, train_loss=0.363]\n",
      "100%|██████████| 773/773 [01:01<00:00, 12.62it/s]\n"
     ]
    },
    {
     "name": "stdout",
     "output_type": "stream",
     "text": [
      "speechbrain.utils.train_logger - Epoch: 28, lr: 2.54e-05, wave2vec_lr: 2.54e-06 - train loss: 3.63e-01 - valid loss: 1.28, valid error_rate: 3.67e-01\n",
      "speechbrain.utils.checkpoints - Saved an end-of-epoch checkpoint in results_2/train_with_wav2vec2/1993/save/CKPT+2024-07-11+21-08-29+00\n",
      "speechbrain.utils.checkpoints - Deleted checkpoint in results_2/train_with_wav2vec2/1993/save/CKPT+2024-07-11+20-57-56+00\n",
      "speechbrain.utils.epoch_loop - Going into epoch 29\n"
     ]
    },
    {
     "name": "stderr",
     "output_type": "stream",
     "text": [
      "100%|██████████| 2762/2762 [09:32<00:00,  4.82it/s, train_loss=0.36] \n",
      "100%|██████████| 773/773 [01:01<00:00, 12.61it/s]"
     ]
    },
    {
     "name": "stdout",
     "output_type": "stream",
     "text": [
      "speechbrain.utils.train_logger - Epoch: 29, lr: 2.54e-05, wave2vec_lr: 2.54e-06 - train loss: 3.60e-01 - valid loss: 1.24, valid error_rate: 3.44e-01\n"
     ]
    },
    {
     "name": "stderr",
     "output_type": "stream",
     "text": [
      "\n"
     ]
    },
    {
     "name": "stdout",
     "output_type": "stream",
     "text": [
      "speechbrain.utils.checkpoints - Saved an end-of-epoch checkpoint in results_2/train_with_wav2vec2/1993/save/CKPT+2024-07-11+21-19-04+00\n",
      "speechbrain.utils.checkpoints - Deleted checkpoint in results_2/train_with_wav2vec2/1993/save/CKPT+2024-07-11+21-08-29+00\n",
      "speechbrain.utils.epoch_loop - Going into epoch 30\n"
     ]
    },
    {
     "name": "stderr",
     "output_type": "stream",
     "text": [
      "100%|██████████| 2762/2762 [09:28<00:00,  4.86it/s, train_loss=0.359]\n",
      "100%|██████████| 773/773 [01:01<00:00, 12.60it/s]\n"
     ]
    },
    {
     "name": "stdout",
     "output_type": "stream",
     "text": [
      "speechbrain.nnet.schedulers - Changing lr from 2.5e-05 to 2.3e-05\n",
      "speechbrain.nnet.schedulers - Changing lr from 2.5e-06 to 2.3e-06\n",
      "speechbrain.utils.train_logger - Epoch: 30, lr: 2.54e-05, wave2vec_lr: 2.54e-06 - train loss: 3.59e-01 - valid loss: 1.32, valid error_rate: 3.70e-01\n",
      "speechbrain.utils.checkpoints - Saved an end-of-epoch checkpoint in results_2/train_with_wav2vec2/1993/save/CKPT+2024-07-11+21-29-35+00\n",
      "speechbrain.utils.checkpoints - Deleted checkpoint in results_2/train_with_wav2vec2/1993/save/CKPT+2024-07-11+21-19-04+00\n",
      "speechbrain.utils.checkpoints - Loading a checkpoint from results_2/train_with_wav2vec2/1993/save/CKPT+2024-07-11+20-47-22+00\n"
     ]
    },
    {
     "name": "stderr",
     "output_type": "stream",
     "text": [
      "100%|██████████| 884/884 [01:10<00:00, 12.57it/s]"
     ]
    },
    {
     "name": "stdout",
     "output_type": "stream",
     "text": [
      "speechbrain.utils.train_logger - Epoch loaded: 26 - test loss: 1.52, test error_rate: 3.93e-01\n"
     ]
    },
    {
     "name": "stderr",
     "output_type": "stream",
     "text": [
      "\n"
     ]
    },
    {
     "name": "stdout",
     "output_type": "stream",
     "text": [
      "{'data_folder': 'home/paige/Documents/BERST/', 'output_folder': 'results_3/train_with_wav2vec2/1993'}\n"
     ]
    },
    {
     "name": "stderr",
     "output_type": "stream",
     "text": [
      "Some weights of Wav2Vec2Model were not initialized from the model checkpoint at facebook/wav2vec2-base and are newly initialized: ['wav2vec2.encoder.pos_conv_embed.conv.parametrizations.weight.original0', 'wav2vec2.encoder.pos_conv_embed.conv.parametrizations.weight.original1']\n",
      "You should probably TRAIN this model on a down-stream task to be able to use it for predictions and inference.\n"
     ]
    },
    {
     "name": "stdout",
     "output_type": "stream",
     "text": [
      "speechbrain.lobes.models.huggingface_transformers.wav2vec2 - speechbrain.lobes.models.huggingface_transformers.wav2vec2 - wav2vec 2.0 feature extractor is frozen.\n",
      "speechbrain.core - Beginning experiment!\n",
      "speechbrain.core - Experiment folder: results_3/train_with_wav2vec2/1993\n",
      "speechbrain.dataio.encoder - Load called, but CategoricalEncoder is not empty. Loaded data will overwrite everything. This is normal if there is e.g. an unk label defined at init.\n",
      "speechbrain.core - Info: ckpt_interval_minutes arg from hparam file is used\n",
      "speechbrain.core - Gradscaler enabled: False. Using precision: fp32.\n",
      "speechbrain.core - EmoIdBrain Model Statistics:\n",
      "* Total Number of Trainable Parameters: 90.2M\n",
      "* Total Number of Parameters: 94.4M\n",
      "* Trainable Parameters represent 95.5493% of the total size.\n",
      "<speechbrain.dataio.dataset.DynamicItemDataset object at 0x764fe6e55c10>\n",
      "speechbrain.utils.checkpoints - Would load a checkpoint here, but none found yet.\n",
      "speechbrain.utils.epoch_loop - Going into epoch 1\n"
     ]
    },
    {
     "name": "stderr",
     "output_type": "stream",
     "text": [
      "100%|██████████| 2666/2666 [09:34<00:00,  4.64it/s, train_loss=1.23]\n",
      "100%|██████████| 980/980 [01:07<00:00, 14.48it/s]"
     ]
    },
    {
     "name": "stdout",
     "output_type": "stream",
     "text": [
      "speechbrain.utils.train_logger - Epoch: 1, lr: 1.00e-04, wave2vec_lr: 1.00e-05 - train loss: 1.23 - valid loss: 1.24, valid error_rate: 4.66e-01\n"
     ]
    },
    {
     "name": "stderr",
     "output_type": "stream",
     "text": [
      "\n"
     ]
    },
    {
     "name": "stdout",
     "output_type": "stream",
     "text": [
      "speechbrain.utils.checkpoints - Saved an end-of-epoch checkpoint in results_3/train_with_wav2vec2/1993/save/CKPT+2024-07-11+21-44-23+00\n",
      "speechbrain.utils.epoch_loop - Going into epoch 2\n"
     ]
    },
    {
     "name": "stderr",
     "output_type": "stream",
     "text": [
      "100%|██████████| 2666/2666 [09:34<00:00,  4.64it/s, train_loss=1.02]\n",
      "100%|██████████| 980/980 [01:07<00:00, 14.52it/s]"
     ]
    },
    {
     "name": "stdout",
     "output_type": "stream",
     "text": [
      "speechbrain.utils.train_logger - Epoch: 2, lr: 1.00e-04, wave2vec_lr: 1.00e-05 - train loss: 1.02 - valid loss: 1.19, valid error_rate: 4.54e-01\n"
     ]
    },
    {
     "name": "stderr",
     "output_type": "stream",
     "text": [
      "\n"
     ]
    },
    {
     "name": "stdout",
     "output_type": "stream",
     "text": [
      "speechbrain.utils.checkpoints - Saved an end-of-epoch checkpoint in results_3/train_with_wav2vec2/1993/save/CKPT+2024-07-11+21-55-06+00\n",
      "speechbrain.utils.checkpoints - Deleted checkpoint in results_3/train_with_wav2vec2/1993/save/CKPT+2024-07-11+21-44-23+00\n",
      "speechbrain.utils.epoch_loop - Going into epoch 3\n"
     ]
    },
    {
     "name": "stderr",
     "output_type": "stream",
     "text": [
      "100%|██████████| 2666/2666 [09:36<00:00,  4.63it/s, train_loss=0.892]\n",
      "100%|██████████| 980/980 [01:07<00:00, 14.52it/s]"
     ]
    },
    {
     "name": "stdout",
     "output_type": "stream",
     "text": [
      "speechbrain.utils.train_logger - Epoch: 3, lr: 1.00e-04, wave2vec_lr: 1.00e-05 - train loss: 8.92e-01 - valid loss: 1.27, valid error_rate: 4.51e-01\n"
     ]
    },
    {
     "name": "stderr",
     "output_type": "stream",
     "text": [
      "\n"
     ]
    },
    {
     "name": "stdout",
     "output_type": "stream",
     "text": [
      "speechbrain.utils.checkpoints - Saved an end-of-epoch checkpoint in results_3/train_with_wav2vec2/1993/save/CKPT+2024-07-11+22-05-50+00\n",
      "speechbrain.utils.checkpoints - Deleted checkpoint in results_3/train_with_wav2vec2/1993/save/CKPT+2024-07-11+21-55-06+00\n",
      "speechbrain.utils.epoch_loop - Going into epoch 4\n"
     ]
    },
    {
     "name": "stderr",
     "output_type": "stream",
     "text": [
      "100%|██████████| 2666/2666 [09:36<00:00,  4.62it/s, train_loss=0.804]\n",
      "100%|██████████| 980/980 [01:07<00:00, 14.50it/s]"
     ]
    },
    {
     "name": "stdout",
     "output_type": "stream",
     "text": [
      "speechbrain.nnet.schedulers - Changing lr from 0.0001 to 9e-05\n",
      "speechbrain.nnet.schedulers - Changing lr from 1e-05 to 9e-06\n",
      "speechbrain.utils.train_logger - Epoch: 4, lr: 1.00e-04, wave2vec_lr: 1.00e-05 - train loss: 8.04e-01 - valid loss: 1.30, valid error_rate: 4.53e-01\n"
     ]
    },
    {
     "name": "stderr",
     "output_type": "stream",
     "text": [
      "\n"
     ]
    },
    {
     "name": "stdout",
     "output_type": "stream",
     "text": [
      "speechbrain.utils.checkpoints - Saved an end-of-epoch checkpoint in results_3/train_with_wav2vec2/1993/save/CKPT+2024-07-11+22-16-35+00\n",
      "speechbrain.utils.epoch_loop - Going into epoch 5\n"
     ]
    },
    {
     "name": "stderr",
     "output_type": "stream",
     "text": [
      "100%|██████████| 2666/2666 [09:34<00:00,  4.64it/s, train_loss=0.726]\n",
      "100%|██████████| 980/980 [01:07<00:00, 14.47it/s]"
     ]
    },
    {
     "name": "stdout",
     "output_type": "stream",
     "text": [
      "speechbrain.nnet.schedulers - Changing lr from 9e-05 to 8.1e-05\n",
      "speechbrain.nnet.schedulers - Changing lr from 9e-06 to 8.1e-06\n",
      "speechbrain.utils.train_logger - Epoch: 5, lr: 9.00e-05, wave2vec_lr: 9.00e-06 - train loss: 7.26e-01 - valid loss: 1.38, valid error_rate: 4.88e-01\n"
     ]
    },
    {
     "name": "stderr",
     "output_type": "stream",
     "text": [
      "\n"
     ]
    },
    {
     "name": "stdout",
     "output_type": "stream",
     "text": [
      "speechbrain.utils.checkpoints - Saved an end-of-epoch checkpoint in results_3/train_with_wav2vec2/1993/save/CKPT+2024-07-11+22-27-19+00\n",
      "speechbrain.utils.checkpoints - Deleted checkpoint in results_3/train_with_wav2vec2/1993/save/CKPT+2024-07-11+22-16-35+00\n",
      "speechbrain.utils.epoch_loop - Going into epoch 6\n"
     ]
    },
    {
     "name": "stderr",
     "output_type": "stream",
     "text": [
      "100%|██████████| 2666/2666 [09:35<00:00,  4.63it/s, train_loss=0.666]\n",
      "100%|██████████| 980/980 [01:07<00:00, 14.48it/s]"
     ]
    },
    {
     "name": "stdout",
     "output_type": "stream",
     "text": [
      "speechbrain.utils.train_logger - Epoch: 6, lr: 8.10e-05, wave2vec_lr: 8.10e-06 - train loss: 6.66e-01 - valid loss: 1.39, valid error_rate: 4.45e-01\n"
     ]
    },
    {
     "name": "stderr",
     "output_type": "stream",
     "text": [
      "\n"
     ]
    },
    {
     "name": "stdout",
     "output_type": "stream",
     "text": [
      "speechbrain.utils.checkpoints - Saved an end-of-epoch checkpoint in results_3/train_with_wav2vec2/1993/save/CKPT+2024-07-11+22-38-02+00\n",
      "speechbrain.utils.checkpoints - Deleted checkpoint in results_3/train_with_wav2vec2/1993/save/CKPT+2024-07-11+22-05-50+00\n",
      "speechbrain.utils.checkpoints - Deleted checkpoint in results_3/train_with_wav2vec2/1993/save/CKPT+2024-07-11+22-27-19+00\n",
      "speechbrain.utils.epoch_loop - Going into epoch 7\n"
     ]
    },
    {
     "name": "stderr",
     "output_type": "stream",
     "text": [
      "100%|██████████| 2666/2666 [09:37<00:00,  4.62it/s, train_loss=0.641]\n",
      "100%|██████████| 980/980 [01:08<00:00, 14.37it/s]"
     ]
    },
    {
     "name": "stdout",
     "output_type": "stream",
     "text": [
      "speechbrain.nnet.schedulers - Changing lr from 8.1e-05 to 7.3e-05\n",
      "speechbrain.nnet.schedulers - Changing lr from 8.1e-06 to 7.3e-06\n",
      "speechbrain.utils.train_logger - Epoch: 7, lr: 8.10e-05, wave2vec_lr: 8.10e-06 - train loss: 6.41e-01 - valid loss: 1.29, valid error_rate: 4.46e-01\n"
     ]
    },
    {
     "name": "stderr",
     "output_type": "stream",
     "text": [
      "\n"
     ]
    },
    {
     "name": "stdout",
     "output_type": "stream",
     "text": [
      "speechbrain.utils.checkpoints - Saved an end-of-epoch checkpoint in results_3/train_with_wav2vec2/1993/save/CKPT+2024-07-11+22-48-49+00\n",
      "speechbrain.utils.epoch_loop - Going into epoch 8\n"
     ]
    },
    {
     "name": "stderr",
     "output_type": "stream",
     "text": [
      "100%|██████████| 2666/2666 [09:41<00:00,  4.59it/s, train_loss=0.603]\n",
      "100%|██████████| 980/980 [01:08<00:00, 14.31it/s]\n"
     ]
    },
    {
     "name": "stdout",
     "output_type": "stream",
     "text": [
      "speechbrain.utils.train_logger - Epoch: 8, lr: 7.29e-05, wave2vec_lr: 7.29e-06 - train loss: 6.03e-01 - valid loss: 1.26, valid error_rate: 4.11e-01\n",
      "speechbrain.utils.checkpoints - Saved an end-of-epoch checkpoint in results_3/train_with_wav2vec2/1993/save/CKPT+2024-07-11+22-59-39+00\n",
      "speechbrain.utils.checkpoints - Deleted checkpoint in results_3/train_with_wav2vec2/1993/save/CKPT+2024-07-11+22-48-49+00\n",
      "speechbrain.utils.checkpoints - Deleted checkpoint in results_3/train_with_wav2vec2/1993/save/CKPT+2024-07-11+22-38-02+00\n",
      "speechbrain.utils.epoch_loop - Going into epoch 9\n"
     ]
    },
    {
     "name": "stderr",
     "output_type": "stream",
     "text": [
      "100%|██████████| 2666/2666 [09:40<00:00,  4.59it/s, train_loss=0.58] \n",
      "100%|██████████| 980/980 [01:08<00:00, 14.36it/s]"
     ]
    },
    {
     "name": "stdout",
     "output_type": "stream",
     "text": [
      "speechbrain.nnet.schedulers - Changing lr from 7.3e-05 to 6.6e-05\n",
      "speechbrain.nnet.schedulers - Changing lr from 7.3e-06 to 6.6e-06\n",
      "speechbrain.utils.train_logger - Epoch: 9, lr: 7.29e-05, wave2vec_lr: 7.29e-06 - train loss: 5.80e-01 - valid loss: 1.40, valid error_rate: 4.52e-01\n"
     ]
    },
    {
     "name": "stderr",
     "output_type": "stream",
     "text": [
      "\n"
     ]
    },
    {
     "name": "stdout",
     "output_type": "stream",
     "text": [
      "speechbrain.utils.checkpoints - Saved an end-of-epoch checkpoint in results_3/train_with_wav2vec2/1993/save/CKPT+2024-07-11+23-10-29+00\n",
      "speechbrain.utils.epoch_loop - Going into epoch 10\n"
     ]
    },
    {
     "name": "stderr",
     "output_type": "stream",
     "text": [
      "100%|██████████| 2666/2666 [09:38<00:00,  4.61it/s, train_loss=0.557]\n",
      "100%|██████████| 980/980 [01:08<00:00, 14.41it/s]"
     ]
    },
    {
     "name": "stdout",
     "output_type": "stream",
     "text": [
      "speechbrain.utils.train_logger - Epoch: 10, lr: 6.56e-05, wave2vec_lr: 6.56e-06 - train loss: 5.57e-01 - valid loss: 1.32, valid error_rate: 4.22e-01\n"
     ]
    },
    {
     "name": "stderr",
     "output_type": "stream",
     "text": [
      "\n"
     ]
    },
    {
     "name": "stdout",
     "output_type": "stream",
     "text": [
      "speechbrain.utils.checkpoints - Saved an end-of-epoch checkpoint in results_3/train_with_wav2vec2/1993/save/CKPT+2024-07-11+23-21-16+00\n",
      "speechbrain.utils.checkpoints - Deleted checkpoint in results_3/train_with_wav2vec2/1993/save/CKPT+2024-07-11+23-10-29+00\n",
      "speechbrain.utils.epoch_loop - Going into epoch 11\n"
     ]
    },
    {
     "name": "stderr",
     "output_type": "stream",
     "text": [
      "100%|██████████| 2666/2666 [09:40<00:00,  4.60it/s, train_loss=0.542]\n",
      "100%|██████████| 980/980 [01:07<00:00, 14.42it/s]"
     ]
    },
    {
     "name": "stdout",
     "output_type": "stream",
     "text": [
      "speechbrain.utils.train_logger - Epoch: 11, lr: 6.56e-05, wave2vec_lr: 6.56e-06 - train loss: 5.42e-01 - valid loss: 1.35, valid error_rate: 4.15e-01\n"
     ]
    },
    {
     "name": "stderr",
     "output_type": "stream",
     "text": [
      "\n"
     ]
    },
    {
     "name": "stdout",
     "output_type": "stream",
     "text": [
      "speechbrain.utils.checkpoints - Saved an end-of-epoch checkpoint in results_3/train_with_wav2vec2/1993/save/CKPT+2024-07-11+23-32-05+00\n",
      "speechbrain.utils.checkpoints - Deleted checkpoint in results_3/train_with_wav2vec2/1993/save/CKPT+2024-07-11+23-21-16+00\n",
      "speechbrain.utils.epoch_loop - Going into epoch 12\n"
     ]
    },
    {
     "name": "stderr",
     "output_type": "stream",
     "text": [
      "100%|██████████| 2666/2666 [09:37<00:00,  4.62it/s, train_loss=0.527]\n",
      "100%|██████████| 980/980 [01:08<00:00, 14.41it/s]"
     ]
    },
    {
     "name": "stdout",
     "output_type": "stream",
     "text": [
      "speechbrain.nnet.schedulers - Changing lr from 6.6e-05 to 5.9e-05\n",
      "speechbrain.nnet.schedulers - Changing lr from 6.6e-06 to 5.9e-06\n",
      "speechbrain.utils.train_logger - Epoch: 12, lr: 6.56e-05, wave2vec_lr: 6.56e-06 - train loss: 5.27e-01 - valid loss: 1.40, valid error_rate: 4.46e-01\n"
     ]
    },
    {
     "name": "stderr",
     "output_type": "stream",
     "text": [
      "\n"
     ]
    },
    {
     "name": "stdout",
     "output_type": "stream",
     "text": [
      "speechbrain.utils.checkpoints - Saved an end-of-epoch checkpoint in results_3/train_with_wav2vec2/1993/save/CKPT+2024-07-11+23-42-51+00\n",
      "speechbrain.utils.checkpoints - Deleted checkpoint in results_3/train_with_wav2vec2/1993/save/CKPT+2024-07-11+23-32-05+00\n",
      "speechbrain.utils.epoch_loop - Going into epoch 13\n"
     ]
    },
    {
     "name": "stderr",
     "output_type": "stream",
     "text": [
      "100%|██████████| 2666/2666 [09:36<00:00,  4.62it/s, train_loss=0.505]\n",
      "100%|██████████| 980/980 [01:07<00:00, 14.45it/s]"
     ]
    },
    {
     "name": "stdout",
     "output_type": "stream",
     "text": [
      "speechbrain.nnet.schedulers - Changing lr from 5.9e-05 to 5.3e-05\n",
      "speechbrain.nnet.schedulers - Changing lr from 5.9e-06 to 5.3e-06\n",
      "speechbrain.utils.train_logger - Epoch: 13, lr: 5.90e-05, wave2vec_lr: 5.90e-06 - train loss: 5.05e-01 - valid loss: 1.80, valid error_rate: 4.59e-01\n"
     ]
    },
    {
     "name": "stderr",
     "output_type": "stream",
     "text": [
      "\n"
     ]
    },
    {
     "name": "stdout",
     "output_type": "stream",
     "text": [
      "speechbrain.utils.checkpoints - Saved an end-of-epoch checkpoint in results_3/train_with_wav2vec2/1993/save/CKPT+2024-07-11+23-53-37+00\n",
      "speechbrain.utils.checkpoints - Deleted checkpoint in results_3/train_with_wav2vec2/1993/save/CKPT+2024-07-11+23-42-51+00\n",
      "speechbrain.utils.epoch_loop - Going into epoch 14\n"
     ]
    },
    {
     "name": "stderr",
     "output_type": "stream",
     "text": [
      "100%|██████████| 2666/2666 [09:40<00:00,  4.59it/s, train_loss=0.489]\n",
      "100%|██████████| 980/980 [01:07<00:00, 14.43it/s]"
     ]
    },
    {
     "name": "stdout",
     "output_type": "stream",
     "text": [
      "speechbrain.utils.train_logger - Epoch: 14, lr: 5.31e-05, wave2vec_lr: 5.31e-06 - train loss: 4.89e-01 - valid loss: 1.49, valid error_rate: 4.50e-01\n"
     ]
    },
    {
     "name": "stderr",
     "output_type": "stream",
     "text": [
      "\n"
     ]
    },
    {
     "name": "stdout",
     "output_type": "stream",
     "text": [
      "speechbrain.utils.checkpoints - Saved an end-of-epoch checkpoint in results_3/train_with_wav2vec2/1993/save/CKPT+2024-07-12+00-04-26+00\n",
      "speechbrain.utils.checkpoints - Deleted checkpoint in results_3/train_with_wav2vec2/1993/save/CKPT+2024-07-11+23-53-37+00\n",
      "speechbrain.utils.epoch_loop - Going into epoch 15\n"
     ]
    },
    {
     "name": "stderr",
     "output_type": "stream",
     "text": [
      "100%|██████████| 2666/2666 [09:38<00:00,  4.61it/s, train_loss=0.48] \n",
      "100%|██████████| 980/980 [01:07<00:00, 14.44it/s]"
     ]
    },
    {
     "name": "stdout",
     "output_type": "stream",
     "text": [
      "speechbrain.utils.train_logger - Epoch: 15, lr: 5.31e-05, wave2vec_lr: 5.31e-06 - train loss: 4.80e-01 - valid loss: 1.40, valid error_rate: 4.19e-01\n"
     ]
    },
    {
     "name": "stderr",
     "output_type": "stream",
     "text": [
      "\n"
     ]
    },
    {
     "name": "stdout",
     "output_type": "stream",
     "text": [
      "speechbrain.utils.checkpoints - Saved an end-of-epoch checkpoint in results_3/train_with_wav2vec2/1993/save/CKPT+2024-07-12+00-15-13+00\n",
      "speechbrain.utils.checkpoints - Deleted checkpoint in results_3/train_with_wav2vec2/1993/save/CKPT+2024-07-12+00-04-26+00\n",
      "speechbrain.utils.epoch_loop - Going into epoch 16\n"
     ]
    },
    {
     "name": "stderr",
     "output_type": "stream",
     "text": [
      "100%|██████████| 2666/2666 [09:38<00:00,  4.61it/s, train_loss=0.471]\n",
      "100%|██████████| 980/980 [01:07<00:00, 14.46it/s]"
     ]
    },
    {
     "name": "stdout",
     "output_type": "stream",
     "text": [
      "speechbrain.nnet.schedulers - Changing lr from 5.3e-05 to 4.8e-05\n",
      "speechbrain.nnet.schedulers - Changing lr from 5.3e-06 to 4.8e-06\n",
      "speechbrain.utils.train_logger - Epoch: 16, lr: 5.31e-05, wave2vec_lr: 5.31e-06 - train loss: 4.71e-01 - valid loss: 1.48, valid error_rate: 4.47e-01\n"
     ]
    },
    {
     "name": "stderr",
     "output_type": "stream",
     "text": [
      "\n"
     ]
    },
    {
     "name": "stdout",
     "output_type": "stream",
     "text": [
      "speechbrain.utils.checkpoints - Saved an end-of-epoch checkpoint in results_3/train_with_wav2vec2/1993/save/CKPT+2024-07-12+00-26-00+00\n",
      "speechbrain.utils.checkpoints - Deleted checkpoint in results_3/train_with_wav2vec2/1993/save/CKPT+2024-07-12+00-15-13+00\n",
      "speechbrain.utils.epoch_loop - Going into epoch 17\n"
     ]
    },
    {
     "name": "stderr",
     "output_type": "stream",
     "text": [
      "100%|██████████| 2666/2666 [09:39<00:00,  4.60it/s, train_loss=0.453]\n",
      "100%|██████████| 980/980 [01:07<00:00, 14.44it/s]"
     ]
    },
    {
     "name": "stdout",
     "output_type": "stream",
     "text": [
      "speechbrain.utils.train_logger - Epoch: 17, lr: 4.78e-05, wave2vec_lr: 4.78e-06 - train loss: 4.53e-01 - valid loss: 1.43, valid error_rate: 4.10e-01\n"
     ]
    },
    {
     "name": "stderr",
     "output_type": "stream",
     "text": [
      "\n"
     ]
    },
    {
     "name": "stdout",
     "output_type": "stream",
     "text": [
      "speechbrain.utils.checkpoints - Saved an end-of-epoch checkpoint in results_3/train_with_wav2vec2/1993/save/CKPT+2024-07-12+00-36-49+00\n",
      "speechbrain.utils.checkpoints - Deleted checkpoint in results_3/train_with_wav2vec2/1993/save/CKPT+2024-07-12+00-26-00+00\n",
      "speechbrain.utils.checkpoints - Deleted checkpoint in results_3/train_with_wav2vec2/1993/save/CKPT+2024-07-11+22-59-39+00\n",
      "speechbrain.utils.epoch_loop - Going into epoch 18\n"
     ]
    },
    {
     "name": "stderr",
     "output_type": "stream",
     "text": [
      "100%|██████████| 2666/2666 [09:40<00:00,  4.60it/s, train_loss=0.451]\n",
      "100%|██████████| 980/980 [01:07<00:00, 14.43it/s]"
     ]
    },
    {
     "name": "stdout",
     "output_type": "stream",
     "text": [
      "speechbrain.nnet.schedulers - Changing lr from 4.8e-05 to 4.3e-05\n",
      "speechbrain.nnet.schedulers - Changing lr from 4.8e-06 to 4.3e-06\n",
      "speechbrain.utils.train_logger - Epoch: 18, lr: 4.78e-05, wave2vec_lr: 4.78e-06 - train loss: 4.51e-01 - valid loss: 1.40, valid error_rate: 4.27e-01\n"
     ]
    },
    {
     "name": "stderr",
     "output_type": "stream",
     "text": [
      "\n"
     ]
    },
    {
     "name": "stdout",
     "output_type": "stream",
     "text": [
      "speechbrain.utils.checkpoints - Saved an end-of-epoch checkpoint in results_3/train_with_wav2vec2/1993/save/CKPT+2024-07-12+00-47-38+00\n",
      "speechbrain.utils.epoch_loop - Going into epoch 19\n"
     ]
    },
    {
     "name": "stderr",
     "output_type": "stream",
     "text": [
      "100%|██████████| 2666/2666 [09:38<00:00,  4.61it/s, train_loss=0.435]\n",
      "100%|██████████| 980/980 [01:07<00:00, 14.44it/s]"
     ]
    },
    {
     "name": "stdout",
     "output_type": "stream",
     "text": [
      "speechbrain.utils.train_logger - Epoch: 19, lr: 4.30e-05, wave2vec_lr: 4.30e-06 - train loss: 4.35e-01 - valid loss: 1.44, valid error_rate: 4.05e-01\n"
     ]
    },
    {
     "name": "stderr",
     "output_type": "stream",
     "text": [
      "\n"
     ]
    },
    {
     "name": "stdout",
     "output_type": "stream",
     "text": [
      "speechbrain.utils.checkpoints - Saved an end-of-epoch checkpoint in results_3/train_with_wav2vec2/1993/save/CKPT+2024-07-12+00-58-25+00\n",
      "speechbrain.utils.checkpoints - Deleted checkpoint in results_3/train_with_wav2vec2/1993/save/CKPT+2024-07-12+00-47-38+00\n",
      "speechbrain.utils.checkpoints - Deleted checkpoint in results_3/train_with_wav2vec2/1993/save/CKPT+2024-07-12+00-36-49+00\n",
      "speechbrain.utils.epoch_loop - Going into epoch 20\n"
     ]
    },
    {
     "name": "stderr",
     "output_type": "stream",
     "text": [
      "100%|██████████| 2666/2666 [09:37<00:00,  4.62it/s, train_loss=0.432]\n",
      "100%|██████████| 980/980 [01:07<00:00, 14.44it/s]"
     ]
    },
    {
     "name": "stdout",
     "output_type": "stream",
     "text": [
      "speechbrain.nnet.schedulers - Changing lr from 4.3e-05 to 3.9e-05\n",
      "speechbrain.nnet.schedulers - Changing lr from 4.3e-06 to 3.9e-06\n",
      "speechbrain.utils.train_logger - Epoch: 20, lr: 4.30e-05, wave2vec_lr: 4.30e-06 - train loss: 4.32e-01 - valid loss: 1.41, valid error_rate: 4.09e-01\n"
     ]
    },
    {
     "name": "stderr",
     "output_type": "stream",
     "text": [
      "\n"
     ]
    },
    {
     "name": "stdout",
     "output_type": "stream",
     "text": [
      "speechbrain.utils.checkpoints - Saved an end-of-epoch checkpoint in results_3/train_with_wav2vec2/1993/save/CKPT+2024-07-12+01-09-11+00\n",
      "speechbrain.utils.epoch_loop - Going into epoch 21\n"
     ]
    },
    {
     "name": "stderr",
     "output_type": "stream",
     "text": [
      "100%|██████████| 2666/2666 [09:39<00:00,  4.60it/s, train_loss=0.421]\n",
      "100%|██████████| 980/980 [01:07<00:00, 14.44it/s]"
     ]
    },
    {
     "name": "stdout",
     "output_type": "stream",
     "text": [
      "speechbrain.utils.train_logger - Epoch: 21, lr: 3.87e-05, wave2vec_lr: 3.87e-06 - train loss: 4.21e-01 - valid loss: 1.41, valid error_rate: 4.01e-01\n"
     ]
    },
    {
     "name": "stderr",
     "output_type": "stream",
     "text": [
      "\n"
     ]
    },
    {
     "name": "stdout",
     "output_type": "stream",
     "text": [
      "speechbrain.utils.checkpoints - Saved an end-of-epoch checkpoint in results_3/train_with_wav2vec2/1993/save/CKPT+2024-07-12+01-19-59+00\n",
      "speechbrain.utils.checkpoints - Deleted checkpoint in results_3/train_with_wav2vec2/1993/save/CKPT+2024-07-12+00-58-25+00\n",
      "speechbrain.utils.checkpoints - Deleted checkpoint in results_3/train_with_wav2vec2/1993/save/CKPT+2024-07-12+01-09-11+00\n",
      "speechbrain.utils.epoch_loop - Going into epoch 22\n"
     ]
    },
    {
     "name": "stderr",
     "output_type": "stream",
     "text": [
      "100%|██████████| 2666/2666 [09:36<00:00,  4.62it/s, train_loss=0.42] \n",
      "100%|██████████| 980/980 [01:07<00:00, 14.41it/s]"
     ]
    },
    {
     "name": "stdout",
     "output_type": "stream",
     "text": [
      "speechbrain.nnet.schedulers - Changing lr from 3.9e-05 to 3.5e-05\n",
      "speechbrain.nnet.schedulers - Changing lr from 3.9e-06 to 3.5e-06\n",
      "speechbrain.utils.train_logger - Epoch: 22, lr: 3.87e-05, wave2vec_lr: 3.87e-06 - train loss: 4.20e-01 - valid loss: 1.41, valid error_rate: 4.29e-01\n"
     ]
    },
    {
     "name": "stderr",
     "output_type": "stream",
     "text": [
      "\n"
     ]
    },
    {
     "name": "stdout",
     "output_type": "stream",
     "text": [
      "speechbrain.utils.checkpoints - Saved an end-of-epoch checkpoint in results_3/train_with_wav2vec2/1993/save/CKPT+2024-07-12+01-30-45+00\n",
      "speechbrain.utils.epoch_loop - Going into epoch 23\n"
     ]
    },
    {
     "name": "stderr",
     "output_type": "stream",
     "text": [
      "100%|██████████| 2666/2666 [09:38<00:00,  4.61it/s, train_loss=0.405]\n",
      "100%|██████████| 980/980 [01:07<00:00, 14.43it/s]"
     ]
    },
    {
     "name": "stdout",
     "output_type": "stream",
     "text": [
      "speechbrain.utils.train_logger - Epoch: 23, lr: 3.49e-05, wave2vec_lr: 3.49e-06 - train loss: 4.05e-01 - valid loss: 1.52, valid error_rate: 4.23e-01\n"
     ]
    },
    {
     "name": "stderr",
     "output_type": "stream",
     "text": [
      "\n"
     ]
    },
    {
     "name": "stdout",
     "output_type": "stream",
     "text": [
      "speechbrain.utils.checkpoints - Saved an end-of-epoch checkpoint in results_3/train_with_wav2vec2/1993/save/CKPT+2024-07-12+01-41-32+00\n",
      "speechbrain.utils.checkpoints - Deleted checkpoint in results_3/train_with_wav2vec2/1993/save/CKPT+2024-07-12+01-30-45+00\n",
      "speechbrain.utils.epoch_loop - Going into epoch 24\n"
     ]
    },
    {
     "name": "stderr",
     "output_type": "stream",
     "text": [
      "100%|██████████| 2666/2666 [09:38<00:00,  4.61it/s, train_loss=0.4]  \n",
      "100%|██████████| 980/980 [01:07<00:00, 14.43it/s]"
     ]
    },
    {
     "name": "stdout",
     "output_type": "stream",
     "text": [
      "speechbrain.nnet.schedulers - Changing lr from 3.5e-05 to 3.1e-05\n",
      "speechbrain.nnet.schedulers - Changing lr from 3.5e-06 to 3.1e-06\n",
      "speechbrain.utils.train_logger - Epoch: 24, lr: 3.49e-05, wave2vec_lr: 3.49e-06 - train loss: 4.00e-01 - valid loss: 1.52, valid error_rate: 4.28e-01\n"
     ]
    },
    {
     "name": "stderr",
     "output_type": "stream",
     "text": [
      "\n"
     ]
    },
    {
     "name": "stdout",
     "output_type": "stream",
     "text": [
      "speechbrain.utils.checkpoints - Saved an end-of-epoch checkpoint in results_3/train_with_wav2vec2/1993/save/CKPT+2024-07-12+01-52-20+00\n",
      "speechbrain.utils.checkpoints - Deleted checkpoint in results_3/train_with_wav2vec2/1993/save/CKPT+2024-07-12+01-41-32+00\n",
      "speechbrain.utils.epoch_loop - Going into epoch 25\n"
     ]
    },
    {
     "name": "stderr",
     "output_type": "stream",
     "text": [
      "100%|██████████| 2666/2666 [09:38<00:00,  4.61it/s, train_loss=0.399]\n",
      "100%|██████████| 980/980 [01:07<00:00, 14.45it/s]"
     ]
    },
    {
     "name": "stdout",
     "output_type": "stream",
     "text": [
      "speechbrain.utils.train_logger - Epoch: 25, lr: 3.14e-05, wave2vec_lr: 3.14e-06 - train loss: 3.99e-01 - valid loss: 1.55, valid error_rate: 4.17e-01\n"
     ]
    },
    {
     "name": "stderr",
     "output_type": "stream",
     "text": [
      "\n"
     ]
    },
    {
     "name": "stdout",
     "output_type": "stream",
     "text": [
      "speechbrain.utils.checkpoints - Saved an end-of-epoch checkpoint in results_3/train_with_wav2vec2/1993/save/CKPT+2024-07-12+02-03-07+00\n",
      "speechbrain.utils.checkpoints - Deleted checkpoint in results_3/train_with_wav2vec2/1993/save/CKPT+2024-07-12+01-52-20+00\n",
      "speechbrain.utils.epoch_loop - Going into epoch 26\n"
     ]
    },
    {
     "name": "stderr",
     "output_type": "stream",
     "text": [
      "100%|██████████| 2666/2666 [09:38<00:00,  4.61it/s, train_loss=0.392]\n",
      "100%|██████████| 980/980 [01:07<00:00, 14.44it/s]"
     ]
    },
    {
     "name": "stdout",
     "output_type": "stream",
     "text": [
      "speechbrain.nnet.schedulers - Changing lr from 3.1e-05 to 2.8e-05\n",
      "speechbrain.nnet.schedulers - Changing lr from 3.1e-06 to 2.8e-06\n",
      "speechbrain.utils.train_logger - Epoch: 26, lr: 3.14e-05, wave2vec_lr: 3.14e-06 - train loss: 3.92e-01 - valid loss: 1.51, valid error_rate: 4.19e-01\n"
     ]
    },
    {
     "name": "stderr",
     "output_type": "stream",
     "text": [
      "\n"
     ]
    },
    {
     "name": "stdout",
     "output_type": "stream",
     "text": [
      "speechbrain.utils.checkpoints - Saved an end-of-epoch checkpoint in results_3/train_with_wav2vec2/1993/save/CKPT+2024-07-12+02-13-54+00\n",
      "speechbrain.utils.checkpoints - Deleted checkpoint in results_3/train_with_wav2vec2/1993/save/CKPT+2024-07-12+02-03-07+00\n",
      "speechbrain.utils.epoch_loop - Going into epoch 27\n"
     ]
    },
    {
     "name": "stderr",
     "output_type": "stream",
     "text": [
      "100%|██████████| 2666/2666 [09:36<00:00,  4.62it/s, train_loss=0.388]\n",
      "100%|██████████| 980/980 [01:07<00:00, 14.43it/s]"
     ]
    },
    {
     "name": "stdout",
     "output_type": "stream",
     "text": [
      "speechbrain.nnet.schedulers - Changing lr from 2.8e-05 to 2.5e-05\n",
      "speechbrain.nnet.schedulers - Changing lr from 2.8e-06 to 2.5e-06\n",
      "speechbrain.utils.train_logger - Epoch: 27, lr: 2.82e-05, wave2vec_lr: 2.82e-06 - train loss: 3.88e-01 - valid loss: 1.53, valid error_rate: 4.23e-01\n"
     ]
    },
    {
     "name": "stderr",
     "output_type": "stream",
     "text": [
      "\n"
     ]
    },
    {
     "name": "stdout",
     "output_type": "stream",
     "text": [
      "speechbrain.utils.checkpoints - Saved an end-of-epoch checkpoint in results_3/train_with_wav2vec2/1993/save/CKPT+2024-07-12+02-24-39+00\n",
      "speechbrain.utils.checkpoints - Deleted checkpoint in results_3/train_with_wav2vec2/1993/save/CKPT+2024-07-12+02-13-54+00\n",
      "speechbrain.utils.epoch_loop - Going into epoch 28\n"
     ]
    },
    {
     "name": "stderr",
     "output_type": "stream",
     "text": [
      "100%|██████████| 2666/2666 [09:36<00:00,  4.62it/s, train_loss=0.38] \n",
      "100%|██████████| 980/980 [01:07<00:00, 14.43it/s]"
     ]
    },
    {
     "name": "stdout",
     "output_type": "stream",
     "text": [
      "speechbrain.utils.train_logger - Epoch: 28, lr: 2.54e-05, wave2vec_lr: 2.54e-06 - train loss: 3.80e-01 - valid loss: 1.53, valid error_rate: 4.08e-01\n"
     ]
    },
    {
     "name": "stderr",
     "output_type": "stream",
     "text": [
      "\n"
     ]
    },
    {
     "name": "stdout",
     "output_type": "stream",
     "text": [
      "speechbrain.utils.checkpoints - Saved an end-of-epoch checkpoint in results_3/train_with_wav2vec2/1993/save/CKPT+2024-07-12+02-35-25+00\n",
      "speechbrain.utils.checkpoints - Deleted checkpoint in results_3/train_with_wav2vec2/1993/save/CKPT+2024-07-12+02-24-39+00\n",
      "speechbrain.utils.epoch_loop - Going into epoch 29\n"
     ]
    },
    {
     "name": "stderr",
     "output_type": "stream",
     "text": [
      "100%|██████████| 2666/2666 [09:38<00:00,  4.61it/s, train_loss=0.378]\n",
      "100%|██████████| 980/980 [01:07<00:00, 14.45it/s]"
     ]
    },
    {
     "name": "stdout",
     "output_type": "stream",
     "text": [
      "speechbrain.nnet.schedulers - Changing lr from 2.5e-05 to 2.3e-05\n",
      "speechbrain.nnet.schedulers - Changing lr from 2.5e-06 to 2.3e-06\n",
      "speechbrain.utils.train_logger - Epoch: 29, lr: 2.54e-05, wave2vec_lr: 2.54e-06 - train loss: 3.78e-01 - valid loss: 1.54, valid error_rate: 4.10e-01\n"
     ]
    },
    {
     "name": "stderr",
     "output_type": "stream",
     "text": [
      "\n"
     ]
    },
    {
     "name": "stdout",
     "output_type": "stream",
     "text": [
      "speechbrain.utils.checkpoints - Saved an end-of-epoch checkpoint in results_3/train_with_wav2vec2/1993/save/CKPT+2024-07-12+02-46-12+00\n",
      "speechbrain.utils.checkpoints - Deleted checkpoint in results_3/train_with_wav2vec2/1993/save/CKPT+2024-07-12+02-35-25+00\n",
      "speechbrain.utils.epoch_loop - Going into epoch 30\n"
     ]
    },
    {
     "name": "stderr",
     "output_type": "stream",
     "text": [
      "100%|██████████| 2666/2666 [09:37<00:00,  4.62it/s, train_loss=0.37] \n",
      "100%|██████████| 980/980 [01:07<00:00, 14.43it/s]"
     ]
    },
    {
     "name": "stdout",
     "output_type": "stream",
     "text": [
      "speechbrain.nnet.schedulers - Changing lr from 2.3e-05 to 2.1e-05\n",
      "speechbrain.nnet.schedulers - Changing lr from 2.3e-06 to 2.1e-06\n",
      "speechbrain.utils.train_logger - Epoch: 30, lr: 2.29e-05, wave2vec_lr: 2.29e-06 - train loss: 3.70e-01 - valid loss: 1.65, valid error_rate: 4.24e-01\n"
     ]
    },
    {
     "name": "stderr",
     "output_type": "stream",
     "text": [
      "\n"
     ]
    },
    {
     "name": "stdout",
     "output_type": "stream",
     "text": [
      "speechbrain.utils.checkpoints - Saved an end-of-epoch checkpoint in results_3/train_with_wav2vec2/1993/save/CKPT+2024-07-12+02-56-59+00\n",
      "speechbrain.utils.checkpoints - Deleted checkpoint in results_3/train_with_wav2vec2/1993/save/CKPT+2024-07-12+02-46-12+00\n",
      "speechbrain.utils.checkpoints - Loading a checkpoint from results_3/train_with_wav2vec2/1993/save/CKPT+2024-07-12+01-19-59+00\n"
     ]
    },
    {
     "name": "stderr",
     "output_type": "stream",
     "text": [
      "100%|██████████| 773/773 [01:01<00:00, 12.55it/s]\n"
     ]
    },
    {
     "name": "stdout",
     "output_type": "stream",
     "text": [
      "speechbrain.utils.train_logger - Epoch loaded: 21 - test loss: 1.24, test error_rate: 3.56e-01\n",
      "{'data_folder': 'home/paige/Documents/BERST/', 'output_folder': 'results_4/train_with_wav2vec2/1993'}\n"
     ]
    },
    {
     "name": "stderr",
     "output_type": "stream",
     "text": [
      "Some weights of Wav2Vec2Model were not initialized from the model checkpoint at facebook/wav2vec2-base and are newly initialized: ['wav2vec2.encoder.pos_conv_embed.conv.parametrizations.weight.original0', 'wav2vec2.encoder.pos_conv_embed.conv.parametrizations.weight.original1']\n",
      "You should probably TRAIN this model on a down-stream task to be able to use it for predictions and inference.\n"
     ]
    },
    {
     "name": "stdout",
     "output_type": "stream",
     "text": [
      "speechbrain.lobes.models.huggingface_transformers.wav2vec2 - speechbrain.lobes.models.huggingface_transformers.wav2vec2 - wav2vec 2.0 feature extractor is frozen.\n",
      "speechbrain.core - Beginning experiment!\n",
      "speechbrain.core - Experiment folder: results_4/train_with_wav2vec2/1993\n",
      "speechbrain.dataio.encoder - Load called, but CategoricalEncoder is not empty. Loaded data will overwrite everything. This is normal if there is e.g. an unk label defined at init.\n",
      "speechbrain.core - Info: ckpt_interval_minutes arg from hparam file is used\n",
      "speechbrain.core - Gradscaler enabled: False. Using precision: fp32.\n",
      "speechbrain.core - EmoIdBrain Model Statistics:\n",
      "* Total Number of Trainable Parameters: 90.2M\n",
      "* Total Number of Parameters: 94.4M\n",
      "* Trainable Parameters represent 95.5493% of the total size.\n",
      "<speechbrain.dataio.dataset.DynamicItemDataset object at 0x764fe48d2d10>\n",
      "speechbrain.utils.checkpoints - Would load a checkpoint here, but none found yet.\n",
      "speechbrain.utils.epoch_loop - Going into epoch 1\n"
     ]
    },
    {
     "name": "stderr",
     "output_type": "stream",
     "text": [
      "100%|██████████| 2591/2591 [09:30<00:00,  4.54it/s, train_loss=1.23]\n",
      "100%|██████████| 848/848 [01:03<00:00, 13.36it/s]"
     ]
    },
    {
     "name": "stdout",
     "output_type": "stream",
     "text": [
      "speechbrain.utils.train_logger - Epoch: 1, lr: 1.00e-04, wave2vec_lr: 1.00e-05 - train loss: 1.23 - valid loss: 1.31, valid error_rate: 4.37e-01\n"
     ]
    },
    {
     "name": "stderr",
     "output_type": "stream",
     "text": [
      "\n"
     ]
    },
    {
     "name": "stdout",
     "output_type": "stream",
     "text": [
      "speechbrain.utils.checkpoints - Saved an end-of-epoch checkpoint in results_4/train_with_wav2vec2/1993/save/CKPT+2024-07-12+03-11-38+00\n",
      "speechbrain.utils.epoch_loop - Going into epoch 2\n"
     ]
    },
    {
     "name": "stderr",
     "output_type": "stream",
     "text": [
      "100%|██████████| 2591/2591 [09:33<00:00,  4.52it/s, train_loss=0.987]\n",
      "100%|██████████| 848/848 [01:02<00:00, 13.54it/s]"
     ]
    },
    {
     "name": "stdout",
     "output_type": "stream",
     "text": [
      "speechbrain.utils.train_logger - Epoch: 2, lr: 1.00e-04, wave2vec_lr: 1.00e-05 - train loss: 9.87e-01 - valid loss: 1.24, valid error_rate: 3.99e-01\n"
     ]
    },
    {
     "name": "stderr",
     "output_type": "stream",
     "text": [
      "\n"
     ]
    },
    {
     "name": "stdout",
     "output_type": "stream",
     "text": [
      "speechbrain.utils.checkpoints - Saved an end-of-epoch checkpoint in results_4/train_with_wav2vec2/1993/save/CKPT+2024-07-12+03-22-15+00\n",
      "speechbrain.utils.checkpoints - Deleted checkpoint in results_4/train_with_wav2vec2/1993/save/CKPT+2024-07-12+03-11-38+00\n",
      "speechbrain.utils.epoch_loop - Going into epoch 3\n"
     ]
    },
    {
     "name": "stderr",
     "output_type": "stream",
     "text": [
      "100%|██████████| 2591/2591 [09:31<00:00,  4.53it/s, train_loss=0.872]\n",
      "100%|██████████| 848/848 [01:02<00:00, 13.55it/s]"
     ]
    },
    {
     "name": "stdout",
     "output_type": "stream",
     "text": [
      "speechbrain.nnet.schedulers - Changing lr from 0.0001 to 9e-05\n",
      "speechbrain.nnet.schedulers - Changing lr from 1e-05 to 9e-06\n",
      "speechbrain.utils.train_logger - Epoch: 3, lr: 1.00e-04, wave2vec_lr: 1.00e-05 - train loss: 8.72e-01 - valid loss: 1.25, valid error_rate: 4.08e-01\n"
     ]
    },
    {
     "name": "stderr",
     "output_type": "stream",
     "text": [
      "\n"
     ]
    },
    {
     "name": "stdout",
     "output_type": "stream",
     "text": [
      "speechbrain.utils.checkpoints - Saved an end-of-epoch checkpoint in results_4/train_with_wav2vec2/1993/save/CKPT+2024-07-12+03-32-50+00\n",
      "speechbrain.utils.epoch_loop - Going into epoch 4\n"
     ]
    },
    {
     "name": "stderr",
     "output_type": "stream",
     "text": [
      "100%|██████████| 2591/2591 [09:29<00:00,  4.55it/s, train_loss=0.772]\n",
      "100%|██████████| 848/848 [01:02<00:00, 13.55it/s]"
     ]
    },
    {
     "name": "stdout",
     "output_type": "stream",
     "text": [
      "speechbrain.utils.train_logger - Epoch: 4, lr: 9.00e-05, wave2vec_lr: 9.00e-06 - train loss: 7.72e-01 - valid loss: 1.28, valid error_rate: 3.93e-01\n"
     ]
    },
    {
     "name": "stderr",
     "output_type": "stream",
     "text": [
      "\n"
     ]
    },
    {
     "name": "stdout",
     "output_type": "stream",
     "text": [
      "speechbrain.utils.checkpoints - Saved an end-of-epoch checkpoint in results_4/train_with_wav2vec2/1993/save/CKPT+2024-07-12+03-43-23+00\n",
      "speechbrain.utils.checkpoints - Deleted checkpoint in results_4/train_with_wav2vec2/1993/save/CKPT+2024-07-12+03-32-50+00\n",
      "speechbrain.utils.checkpoints - Deleted checkpoint in results_4/train_with_wav2vec2/1993/save/CKPT+2024-07-12+03-22-15+00\n",
      "speechbrain.utils.epoch_loop - Going into epoch 5\n"
     ]
    },
    {
     "name": "stderr",
     "output_type": "stream",
     "text": [
      "100%|██████████| 2591/2591 [09:30<00:00,  4.55it/s, train_loss=0.712]\n",
      "100%|██████████| 848/848 [01:02<00:00, 13.56it/s]"
     ]
    },
    {
     "name": "stdout",
     "output_type": "stream",
     "text": [
      "speechbrain.nnet.schedulers - Changing lr from 9e-05 to 8.1e-05\n",
      "speechbrain.nnet.schedulers - Changing lr from 9e-06 to 8.1e-06\n",
      "speechbrain.utils.train_logger - Epoch: 5, lr: 9.00e-05, wave2vec_lr: 9.00e-06 - train loss: 7.12e-01 - valid loss: 1.41, valid error_rate: 4.18e-01\n"
     ]
    },
    {
     "name": "stderr",
     "output_type": "stream",
     "text": [
      "\n"
     ]
    },
    {
     "name": "stdout",
     "output_type": "stream",
     "text": [
      "speechbrain.utils.checkpoints - Saved an end-of-epoch checkpoint in results_4/train_with_wav2vec2/1993/save/CKPT+2024-07-12+03-53-57+00\n",
      "speechbrain.utils.epoch_loop - Going into epoch 6\n"
     ]
    },
    {
     "name": "stderr",
     "output_type": "stream",
     "text": [
      "100%|██████████| 2591/2591 [09:29<00:00,  4.55it/s, train_loss=0.653]\n",
      "100%|██████████| 848/848 [01:02<00:00, 13.56it/s]"
     ]
    },
    {
     "name": "stdout",
     "output_type": "stream",
     "text": [
      "speechbrain.utils.train_logger - Epoch: 6, lr: 8.10e-05, wave2vec_lr: 8.10e-06 - train loss: 6.53e-01 - valid loss: 1.12, valid error_rate: 3.55e-01\n"
     ]
    },
    {
     "name": "stderr",
     "output_type": "stream",
     "text": [
      "\n"
     ]
    },
    {
     "name": "stdout",
     "output_type": "stream",
     "text": [
      "speechbrain.utils.checkpoints - Saved an end-of-epoch checkpoint in results_4/train_with_wav2vec2/1993/save/CKPT+2024-07-12+04-04-30+00\n",
      "speechbrain.utils.checkpoints - Deleted checkpoint in results_4/train_with_wav2vec2/1993/save/CKPT+2024-07-12+03-53-57+00\n",
      "speechbrain.utils.checkpoints - Deleted checkpoint in results_4/train_with_wav2vec2/1993/save/CKPT+2024-07-12+03-43-23+00\n",
      "speechbrain.utils.epoch_loop - Going into epoch 7\n"
     ]
    },
    {
     "name": "stderr",
     "output_type": "stream",
     "text": [
      "100%|██████████| 2591/2591 [09:32<00:00,  4.52it/s, train_loss=0.627]\n",
      "100%|██████████| 848/848 [01:02<00:00, 13.59it/s]"
     ]
    },
    {
     "name": "stdout",
     "output_type": "stream",
     "text": [
      "speechbrain.nnet.schedulers - Changing lr from 8.1e-05 to 7.3e-05\n",
      "speechbrain.nnet.schedulers - Changing lr from 8.1e-06 to 7.3e-06\n",
      "speechbrain.utils.train_logger - Epoch: 7, lr: 8.10e-05, wave2vec_lr: 8.10e-06 - train loss: 6.27e-01 - valid loss: 1.48, valid error_rate: 4.05e-01\n"
     ]
    },
    {
     "name": "stderr",
     "output_type": "stream",
     "text": [
      "\n"
     ]
    },
    {
     "name": "stdout",
     "output_type": "stream",
     "text": [
      "speechbrain.utils.checkpoints - Saved an end-of-epoch checkpoint in results_4/train_with_wav2vec2/1993/save/CKPT+2024-07-12+04-15-06+00\n",
      "speechbrain.utils.epoch_loop - Going into epoch 8\n"
     ]
    },
    {
     "name": "stderr",
     "output_type": "stream",
     "text": [
      "100%|██████████| 2591/2591 [09:31<00:00,  4.53it/s, train_loss=0.592]\n",
      "100%|██████████| 848/848 [01:02<00:00, 13.57it/s]"
     ]
    },
    {
     "name": "stdout",
     "output_type": "stream",
     "text": [
      "speechbrain.utils.train_logger - Epoch: 8, lr: 7.29e-05, wave2vec_lr: 7.29e-06 - train loss: 5.92e-01 - valid loss: 1.29, valid error_rate: 3.72e-01\n"
     ]
    },
    {
     "name": "stderr",
     "output_type": "stream",
     "text": [
      "\n"
     ]
    },
    {
     "name": "stdout",
     "output_type": "stream",
     "text": [
      "speechbrain.utils.checkpoints - Saved an end-of-epoch checkpoint in results_4/train_with_wav2vec2/1993/save/CKPT+2024-07-12+04-25-41+00\n",
      "speechbrain.utils.checkpoints - Deleted checkpoint in results_4/train_with_wav2vec2/1993/save/CKPT+2024-07-12+04-15-06+00\n",
      "speechbrain.utils.epoch_loop - Going into epoch 9\n"
     ]
    },
    {
     "name": "stderr",
     "output_type": "stream",
     "text": [
      "100%|██████████| 2591/2591 [09:29<00:00,  4.55it/s, train_loss=0.573]\n",
      "100%|██████████| 848/848 [01:02<00:00, 13.55it/s]"
     ]
    },
    {
     "name": "stdout",
     "output_type": "stream",
     "text": [
      "speechbrain.nnet.schedulers - Changing lr from 7.3e-05 to 6.6e-05\n",
      "speechbrain.nnet.schedulers - Changing lr from 7.3e-06 to 6.6e-06\n",
      "speechbrain.utils.train_logger - Epoch: 9, lr: 7.29e-05, wave2vec_lr: 7.29e-06 - train loss: 5.73e-01 - valid loss: 1.43, valid error_rate: 4.05e-01\n"
     ]
    },
    {
     "name": "stderr",
     "output_type": "stream",
     "text": [
      "\n"
     ]
    },
    {
     "name": "stdout",
     "output_type": "stream",
     "text": [
      "speechbrain.utils.checkpoints - Saved an end-of-epoch checkpoint in results_4/train_with_wav2vec2/1993/save/CKPT+2024-07-12+04-36-14+00\n",
      "speechbrain.utils.checkpoints - Deleted checkpoint in results_4/train_with_wav2vec2/1993/save/CKPT+2024-07-12+04-25-41+00\n",
      "speechbrain.utils.epoch_loop - Going into epoch 10\n"
     ]
    },
    {
     "name": "stderr",
     "output_type": "stream",
     "text": [
      "100%|██████████| 2591/2591 [09:30<00:00,  4.55it/s, train_loss=0.54] \n",
      "100%|██████████| 848/848 [01:02<00:00, 13.57it/s]"
     ]
    },
    {
     "name": "stdout",
     "output_type": "stream",
     "text": [
      "speechbrain.utils.train_logger - Epoch: 10, lr: 6.56e-05, wave2vec_lr: 6.56e-06 - train loss: 5.40e-01 - valid loss: 1.39, valid error_rate: 4.00e-01\n"
     ]
    },
    {
     "name": "stderr",
     "output_type": "stream",
     "text": [
      "\n"
     ]
    },
    {
     "name": "stdout",
     "output_type": "stream",
     "text": [
      "speechbrain.utils.checkpoints - Saved an end-of-epoch checkpoint in results_4/train_with_wav2vec2/1993/save/CKPT+2024-07-12+04-46-48+00\n",
      "speechbrain.utils.checkpoints - Deleted checkpoint in results_4/train_with_wav2vec2/1993/save/CKPT+2024-07-12+04-36-14+00\n",
      "speechbrain.utils.epoch_loop - Going into epoch 11\n"
     ]
    },
    {
     "name": "stderr",
     "output_type": "stream",
     "text": [
      "100%|██████████| 2591/2591 [09:31<00:00,  4.53it/s, train_loss=0.525]\n",
      "100%|██████████| 848/848 [01:02<00:00, 13.56it/s]"
     ]
    },
    {
     "name": "stdout",
     "output_type": "stream",
     "text": [
      "speechbrain.utils.train_logger - Epoch: 11, lr: 6.56e-05, wave2vec_lr: 6.56e-06 - train loss: 5.25e-01 - valid loss: 1.30, valid error_rate: 3.87e-01\n"
     ]
    },
    {
     "name": "stderr",
     "output_type": "stream",
     "text": [
      "\n"
     ]
    },
    {
     "name": "stdout",
     "output_type": "stream",
     "text": [
      "speechbrain.utils.checkpoints - Saved an end-of-epoch checkpoint in results_4/train_with_wav2vec2/1993/save/CKPT+2024-07-12+04-57-23+00\n",
      "speechbrain.utils.checkpoints - Deleted checkpoint in results_4/train_with_wav2vec2/1993/save/CKPT+2024-07-12+04-46-48+00\n",
      "speechbrain.utils.epoch_loop - Going into epoch 12\n"
     ]
    },
    {
     "name": "stderr",
     "output_type": "stream",
     "text": [
      "100%|██████████| 2591/2591 [09:29<00:00,  4.55it/s, train_loss=0.511]\n",
      "100%|██████████| 848/848 [01:02<00:00, 13.56it/s]"
     ]
    },
    {
     "name": "stdout",
     "output_type": "stream",
     "text": [
      "speechbrain.nnet.schedulers - Changing lr from 6.6e-05 to 5.9e-05\n",
      "speechbrain.nnet.schedulers - Changing lr from 6.6e-06 to 5.9e-06\n",
      "speechbrain.utils.train_logger - Epoch: 12, lr: 6.56e-05, wave2vec_lr: 6.56e-06 - train loss: 5.11e-01 - valid loss: 1.64, valid error_rate: 4.02e-01\n"
     ]
    },
    {
     "name": "stderr",
     "output_type": "stream",
     "text": [
      "\n"
     ]
    },
    {
     "name": "stdout",
     "output_type": "stream",
     "text": [
      "speechbrain.utils.checkpoints - Saved an end-of-epoch checkpoint in results_4/train_with_wav2vec2/1993/save/CKPT+2024-07-12+05-07-56+00\n",
      "speechbrain.utils.checkpoints - Deleted checkpoint in results_4/train_with_wav2vec2/1993/save/CKPT+2024-07-12+04-57-23+00\n",
      "speechbrain.utils.epoch_loop - Going into epoch 13\n"
     ]
    },
    {
     "name": "stderr",
     "output_type": "stream",
     "text": [
      "100%|██████████| 2591/2591 [09:30<00:00,  4.54it/s, train_loss=0.498]\n",
      "100%|██████████| 848/848 [01:02<00:00, 13.55it/s]"
     ]
    },
    {
     "name": "stdout",
     "output_type": "stream",
     "text": [
      "speechbrain.nnet.schedulers - Changing lr from 5.9e-05 to 5.3e-05\n",
      "speechbrain.nnet.schedulers - Changing lr from 5.9e-06 to 5.3e-06\n",
      "speechbrain.utils.train_logger - Epoch: 13, lr: 5.90e-05, wave2vec_lr: 5.90e-06 - train loss: 4.98e-01 - valid loss: 1.46, valid error_rate: 4.07e-01\n"
     ]
    },
    {
     "name": "stderr",
     "output_type": "stream",
     "text": [
      "\n"
     ]
    },
    {
     "name": "stdout",
     "output_type": "stream",
     "text": [
      "speechbrain.utils.checkpoints - Saved an end-of-epoch checkpoint in results_4/train_with_wav2vec2/1993/save/CKPT+2024-07-12+05-18-30+00\n",
      "speechbrain.utils.checkpoints - Deleted checkpoint in results_4/train_with_wav2vec2/1993/save/CKPT+2024-07-12+05-07-56+00\n",
      "speechbrain.utils.epoch_loop - Going into epoch 14\n"
     ]
    },
    {
     "name": "stderr",
     "output_type": "stream",
     "text": [
      "100%|██████████| 2591/2591 [09:30<00:00,  4.55it/s, train_loss=0.469]\n",
      "100%|██████████| 848/848 [01:02<00:00, 13.56it/s]"
     ]
    },
    {
     "name": "stdout",
     "output_type": "stream",
     "text": [
      "speechbrain.utils.train_logger - Epoch: 14, lr: 5.31e-05, wave2vec_lr: 5.31e-06 - train loss: 4.69e-01 - valid loss: 1.51, valid error_rate: 4.04e-01\n"
     ]
    },
    {
     "name": "stderr",
     "output_type": "stream",
     "text": [
      "\n"
     ]
    },
    {
     "name": "stdout",
     "output_type": "stream",
     "text": [
      "speechbrain.utils.checkpoints - Saved an end-of-epoch checkpoint in results_4/train_with_wav2vec2/1993/save/CKPT+2024-07-12+05-29-04+00\n",
      "speechbrain.utils.checkpoints - Deleted checkpoint in results_4/train_with_wav2vec2/1993/save/CKPT+2024-07-12+05-18-30+00\n",
      "speechbrain.utils.epoch_loop - Going into epoch 15\n"
     ]
    },
    {
     "name": "stderr",
     "output_type": "stream",
     "text": [
      "100%|██████████| 2591/2591 [09:30<00:00,  4.54it/s, train_loss=0.462]\n",
      "100%|██████████| 848/848 [01:02<00:00, 13.56it/s]"
     ]
    },
    {
     "name": "stdout",
     "output_type": "stream",
     "text": [
      "speechbrain.utils.train_logger - Epoch: 15, lr: 5.31e-05, wave2vec_lr: 5.31e-06 - train loss: 4.62e-01 - valid loss: 1.43, valid error_rate: 3.88e-01\n"
     ]
    },
    {
     "name": "stderr",
     "output_type": "stream",
     "text": [
      "\n"
     ]
    },
    {
     "name": "stdout",
     "output_type": "stream",
     "text": [
      "speechbrain.utils.checkpoints - Saved an end-of-epoch checkpoint in results_4/train_with_wav2vec2/1993/save/CKPT+2024-07-12+05-39-38+00\n",
      "speechbrain.utils.checkpoints - Deleted checkpoint in results_4/train_with_wav2vec2/1993/save/CKPT+2024-07-12+05-29-04+00\n",
      "speechbrain.utils.epoch_loop - Going into epoch 16\n"
     ]
    },
    {
     "name": "stderr",
     "output_type": "stream",
     "text": [
      "100%|██████████| 2591/2591 [09:31<00:00,  4.53it/s, train_loss=0.461]\n",
      "100%|██████████| 848/848 [01:02<00:00, 13.58it/s]"
     ]
    },
    {
     "name": "stdout",
     "output_type": "stream",
     "text": [
      "speechbrain.utils.train_logger - Epoch: 16, lr: 5.31e-05, wave2vec_lr: 5.31e-06 - train loss: 4.61e-01 - valid loss: 1.37, valid error_rate: 3.85e-01\n"
     ]
    },
    {
     "name": "stderr",
     "output_type": "stream",
     "text": [
      "\n"
     ]
    },
    {
     "name": "stdout",
     "output_type": "stream",
     "text": [
      "speechbrain.utils.checkpoints - Saved an end-of-epoch checkpoint in results_4/train_with_wav2vec2/1993/save/CKPT+2024-07-12+05-50-13+00\n",
      "speechbrain.utils.checkpoints - Deleted checkpoint in results_4/train_with_wav2vec2/1993/save/CKPT+2024-07-12+05-39-38+00\n",
      "speechbrain.utils.epoch_loop - Going into epoch 17\n"
     ]
    },
    {
     "name": "stderr",
     "output_type": "stream",
     "text": [
      "100%|██████████| 2591/2591 [09:28<00:00,  4.55it/s, train_loss=0.451]\n",
      "100%|██████████| 848/848 [01:02<00:00, 13.57it/s]"
     ]
    },
    {
     "name": "stdout",
     "output_type": "stream",
     "text": [
      "speechbrain.nnet.schedulers - Changing lr from 5.3e-05 to 4.8e-05\n",
      "speechbrain.nnet.schedulers - Changing lr from 5.3e-06 to 4.8e-06\n",
      "speechbrain.utils.train_logger - Epoch: 17, lr: 5.31e-05, wave2vec_lr: 5.31e-06 - train loss: 4.51e-01 - valid loss: 1.48, valid error_rate: 4.12e-01\n"
     ]
    },
    {
     "name": "stderr",
     "output_type": "stream",
     "text": [
      "\n"
     ]
    },
    {
     "name": "stdout",
     "output_type": "stream",
     "text": [
      "speechbrain.utils.checkpoints - Saved an end-of-epoch checkpoint in results_4/train_with_wav2vec2/1993/save/CKPT+2024-07-12+06-00-45+00\n",
      "speechbrain.utils.checkpoints - Deleted checkpoint in results_4/train_with_wav2vec2/1993/save/CKPT+2024-07-12+05-50-13+00\n",
      "speechbrain.utils.epoch_loop - Going into epoch 18\n"
     ]
    },
    {
     "name": "stderr",
     "output_type": "stream",
     "text": [
      "100%|██████████| 2591/2591 [09:31<00:00,  4.53it/s, train_loss=0.431]\n",
      "100%|██████████| 848/848 [01:02<00:00, 13.57it/s]"
     ]
    },
    {
     "name": "stdout",
     "output_type": "stream",
     "text": [
      "speechbrain.utils.train_logger - Epoch: 18, lr: 4.78e-05, wave2vec_lr: 4.78e-06 - train loss: 4.31e-01 - valid loss: 1.40, valid error_rate: 3.73e-01\n"
     ]
    },
    {
     "name": "stderr",
     "output_type": "stream",
     "text": [
      "\n"
     ]
    },
    {
     "name": "stdout",
     "output_type": "stream",
     "text": [
      "speechbrain.utils.checkpoints - Saved an end-of-epoch checkpoint in results_4/train_with_wav2vec2/1993/save/CKPT+2024-07-12+06-11-21+00\n",
      "speechbrain.utils.checkpoints - Deleted checkpoint in results_4/train_with_wav2vec2/1993/save/CKPT+2024-07-12+06-00-45+00\n",
      "speechbrain.utils.epoch_loop - Going into epoch 19\n"
     ]
    },
    {
     "name": "stderr",
     "output_type": "stream",
     "text": [
      "100%|██████████| 2591/2591 [09:28<00:00,  4.56it/s, train_loss=0.431]\n",
      "100%|██████████| 848/848 [01:02<00:00, 13.58it/s]"
     ]
    },
    {
     "name": "stdout",
     "output_type": "stream",
     "text": [
      "speechbrain.nnet.schedulers - Changing lr from 4.8e-05 to 4.3e-05\n",
      "speechbrain.nnet.schedulers - Changing lr from 4.8e-06 to 4.3e-06\n",
      "speechbrain.utils.train_logger - Epoch: 19, lr: 4.78e-05, wave2vec_lr: 4.78e-06 - train loss: 4.31e-01 - valid loss: 1.54, valid error_rate: 3.84e-01\n"
     ]
    },
    {
     "name": "stderr",
     "output_type": "stream",
     "text": [
      "\n"
     ]
    },
    {
     "name": "stdout",
     "output_type": "stream",
     "text": [
      "speechbrain.utils.checkpoints - Saved an end-of-epoch checkpoint in results_4/train_with_wav2vec2/1993/save/CKPT+2024-07-12+06-21-53+00\n",
      "speechbrain.utils.checkpoints - Deleted checkpoint in results_4/train_with_wav2vec2/1993/save/CKPT+2024-07-12+06-11-21+00\n",
      "speechbrain.utils.epoch_loop - Going into epoch 20\n"
     ]
    },
    {
     "name": "stderr",
     "output_type": "stream",
     "text": [
      "100%|██████████| 2591/2591 [09:29<00:00,  4.55it/s, train_loss=0.42] \n",
      "100%|██████████| 848/848 [01:02<00:00, 13.57it/s]"
     ]
    },
    {
     "name": "stdout",
     "output_type": "stream",
     "text": [
      "speechbrain.utils.train_logger - Epoch: 20, lr: 4.30e-05, wave2vec_lr: 4.30e-06 - train loss: 4.20e-01 - valid loss: 1.49, valid error_rate: 3.79e-01\n"
     ]
    },
    {
     "name": "stderr",
     "output_type": "stream",
     "text": [
      "\n"
     ]
    },
    {
     "name": "stdout",
     "output_type": "stream",
     "text": [
      "speechbrain.utils.checkpoints - Saved an end-of-epoch checkpoint in results_4/train_with_wav2vec2/1993/save/CKPT+2024-07-12+06-32-26+00\n",
      "speechbrain.utils.checkpoints - Deleted checkpoint in results_4/train_with_wav2vec2/1993/save/CKPT+2024-07-12+06-21-53+00\n",
      "speechbrain.utils.epoch_loop - Going into epoch 21\n"
     ]
    },
    {
     "name": "stderr",
     "output_type": "stream",
     "text": [
      "100%|██████████| 2591/2591 [09:30<00:00,  4.54it/s, train_loss=0.412]\n",
      "100%|██████████| 848/848 [01:02<00:00, 13.57it/s]"
     ]
    },
    {
     "name": "stdout",
     "output_type": "stream",
     "text": [
      "speechbrain.nnet.schedulers - Changing lr from 4.3e-05 to 3.9e-05\n",
      "speechbrain.nnet.schedulers - Changing lr from 4.3e-06 to 3.9e-06\n",
      "speechbrain.utils.train_logger - Epoch: 21, lr: 4.30e-05, wave2vec_lr: 4.30e-06 - train loss: 4.12e-01 - valid loss: 1.60, valid error_rate: 4.15e-01\n"
     ]
    },
    {
     "name": "stderr",
     "output_type": "stream",
     "text": [
      "\n"
     ]
    },
    {
     "name": "stdout",
     "output_type": "stream",
     "text": [
      "speechbrain.utils.checkpoints - Saved an end-of-epoch checkpoint in results_4/train_with_wav2vec2/1993/save/CKPT+2024-07-12+06-43-00+00\n",
      "speechbrain.utils.checkpoints - Deleted checkpoint in results_4/train_with_wav2vec2/1993/save/CKPT+2024-07-12+06-32-26+00\n",
      "speechbrain.utils.epoch_loop - Going into epoch 22\n"
     ]
    },
    {
     "name": "stderr",
     "output_type": "stream",
     "text": [
      "100%|██████████| 2591/2591 [09:29<00:00,  4.55it/s, train_loss=0.4]  \n",
      "100%|██████████| 848/848 [01:02<00:00, 13.59it/s]"
     ]
    },
    {
     "name": "stdout",
     "output_type": "stream",
     "text": [
      "speechbrain.utils.train_logger - Epoch: 22, lr: 3.87e-05, wave2vec_lr: 3.87e-06 - train loss: 4.00e-01 - valid loss: 1.50, valid error_rate: 3.81e-01\n"
     ]
    },
    {
     "name": "stderr",
     "output_type": "stream",
     "text": [
      "\n"
     ]
    },
    {
     "name": "stdout",
     "output_type": "stream",
     "text": [
      "speechbrain.utils.checkpoints - Saved an end-of-epoch checkpoint in results_4/train_with_wav2vec2/1993/save/CKPT+2024-07-12+06-53-33+00\n",
      "speechbrain.utils.checkpoints - Deleted checkpoint in results_4/train_with_wav2vec2/1993/save/CKPT+2024-07-12+06-43-00+00\n",
      "speechbrain.utils.epoch_loop - Going into epoch 23\n"
     ]
    },
    {
     "name": "stderr",
     "output_type": "stream",
     "text": [
      "100%|██████████| 2591/2591 [09:28<00:00,  4.55it/s, train_loss=0.395]\n",
      "100%|██████████| 848/848 [01:02<00:00, 13.58it/s]"
     ]
    },
    {
     "name": "stdout",
     "output_type": "stream",
     "text": [
      "speechbrain.nnet.schedulers - Changing lr from 3.9e-05 to 3.5e-05\n",
      "speechbrain.nnet.schedulers - Changing lr from 3.9e-06 to 3.5e-06\n",
      "speechbrain.utils.train_logger - Epoch: 23, lr: 3.87e-05, wave2vec_lr: 3.87e-06 - train loss: 3.95e-01 - valid loss: 1.54, valid error_rate: 3.82e-01\n"
     ]
    },
    {
     "name": "stderr",
     "output_type": "stream",
     "text": [
      "\n"
     ]
    },
    {
     "name": "stdout",
     "output_type": "stream",
     "text": [
      "speechbrain.utils.checkpoints - Saved an end-of-epoch checkpoint in results_4/train_with_wav2vec2/1993/save/CKPT+2024-07-12+07-04-05+00\n",
      "speechbrain.utils.checkpoints - Deleted checkpoint in results_4/train_with_wav2vec2/1993/save/CKPT+2024-07-12+06-53-33+00\n",
      "speechbrain.utils.epoch_loop - Going into epoch 24\n"
     ]
    },
    {
     "name": "stderr",
     "output_type": "stream",
     "text": [
      "100%|██████████| 2591/2591 [09:30<00:00,  4.54it/s, train_loss=0.389]\n",
      "100%|██████████| 848/848 [01:02<00:00, 13.58it/s]"
     ]
    },
    {
     "name": "stdout",
     "output_type": "stream",
     "text": [
      "speechbrain.nnet.schedulers - Changing lr from 3.5e-05 to 3.1e-05\n",
      "speechbrain.nnet.schedulers - Changing lr from 3.5e-06 to 3.1e-06\n",
      "speechbrain.utils.train_logger - Epoch: 24, lr: 3.49e-05, wave2vec_lr: 3.49e-06 - train loss: 3.89e-01 - valid loss: 1.64, valid error_rate: 4.09e-01\n"
     ]
    },
    {
     "name": "stderr",
     "output_type": "stream",
     "text": [
      "\n"
     ]
    },
    {
     "name": "stdout",
     "output_type": "stream",
     "text": [
      "speechbrain.utils.checkpoints - Saved an end-of-epoch checkpoint in results_4/train_with_wav2vec2/1993/save/CKPT+2024-07-12+07-14-39+00\n",
      "speechbrain.utils.checkpoints - Deleted checkpoint in results_4/train_with_wav2vec2/1993/save/CKPT+2024-07-12+07-04-05+00\n",
      "speechbrain.utils.epoch_loop - Going into epoch 25\n"
     ]
    },
    {
     "name": "stderr",
     "output_type": "stream",
     "text": [
      "100%|██████████| 2591/2591 [09:28<00:00,  4.56it/s, train_loss=0.381]\n",
      "100%|██████████| 848/848 [01:02<00:00, 13.60it/s]"
     ]
    },
    {
     "name": "stdout",
     "output_type": "stream",
     "text": [
      "speechbrain.utils.train_logger - Epoch: 25, lr: 3.14e-05, wave2vec_lr: 3.14e-06 - train loss: 3.81e-01 - valid loss: 1.59, valid error_rate: 4.00e-01\n"
     ]
    },
    {
     "name": "stderr",
     "output_type": "stream",
     "text": [
      "\n"
     ]
    },
    {
     "name": "stdout",
     "output_type": "stream",
     "text": [
      "speechbrain.utils.checkpoints - Saved an end-of-epoch checkpoint in results_4/train_with_wav2vec2/1993/save/CKPT+2024-07-12+07-25-11+00\n",
      "speechbrain.utils.checkpoints - Deleted checkpoint in results_4/train_with_wav2vec2/1993/save/CKPT+2024-07-12+07-14-39+00\n",
      "speechbrain.utils.epoch_loop - Going into epoch 26\n"
     ]
    },
    {
     "name": "stderr",
     "output_type": "stream",
     "text": [
      "100%|██████████| 2591/2591 [09:30<00:00,  4.54it/s, train_loss=0.378]\n",
      "100%|██████████| 848/848 [01:02<00:00, 13.58it/s]"
     ]
    },
    {
     "name": "stdout",
     "output_type": "stream",
     "text": [
      "speechbrain.nnet.schedulers - Changing lr from 3.1e-05 to 2.8e-05\n",
      "speechbrain.nnet.schedulers - Changing lr from 3.1e-06 to 2.8e-06\n",
      "speechbrain.utils.train_logger - Epoch: 26, lr: 3.14e-05, wave2vec_lr: 3.14e-06 - train loss: 3.78e-01 - valid loss: 1.62, valid error_rate: 4.06e-01\n"
     ]
    },
    {
     "name": "stderr",
     "output_type": "stream",
     "text": [
      "\n"
     ]
    },
    {
     "name": "stdout",
     "output_type": "stream",
     "text": [
      "speechbrain.utils.checkpoints - Saved an end-of-epoch checkpoint in results_4/train_with_wav2vec2/1993/save/CKPT+2024-07-12+07-35-45+00\n",
      "speechbrain.utils.checkpoints - Deleted checkpoint in results_4/train_with_wav2vec2/1993/save/CKPT+2024-07-12+07-25-11+00\n",
      "speechbrain.utils.epoch_loop - Going into epoch 27\n"
     ]
    },
    {
     "name": "stderr",
     "output_type": "stream",
     "text": [
      "100%|██████████| 2591/2591 [09:28<00:00,  4.55it/s, train_loss=0.371]\n",
      "100%|██████████| 848/848 [01:02<00:00, 13.57it/s]"
     ]
    },
    {
     "name": "stdout",
     "output_type": "stream",
     "text": [
      "speechbrain.utils.train_logger - Epoch: 27, lr: 2.82e-05, wave2vec_lr: 2.82e-06 - train loss: 3.71e-01 - valid loss: 1.65, valid error_rate: 3.96e-01\n"
     ]
    },
    {
     "name": "stderr",
     "output_type": "stream",
     "text": [
      "\n"
     ]
    },
    {
     "name": "stdout",
     "output_type": "stream",
     "text": [
      "speechbrain.utils.checkpoints - Saved an end-of-epoch checkpoint in results_4/train_with_wav2vec2/1993/save/CKPT+2024-07-12+07-46-17+00\n",
      "speechbrain.utils.checkpoints - Deleted checkpoint in results_4/train_with_wav2vec2/1993/save/CKPT+2024-07-12+07-35-45+00\n",
      "speechbrain.utils.epoch_loop - Going into epoch 28\n"
     ]
    },
    {
     "name": "stderr",
     "output_type": "stream",
     "text": [
      "100%|██████████| 2591/2591 [09:30<00:00,  4.54it/s, train_loss=0.375]\n",
      "100%|██████████| 848/848 [01:02<00:00, 13.58it/s]"
     ]
    },
    {
     "name": "stdout",
     "output_type": "stream",
     "text": [
      "speechbrain.utils.train_logger - Epoch: 28, lr: 2.82e-05, wave2vec_lr: 2.82e-06 - train loss: 3.75e-01 - valid loss: 1.55, valid error_rate: 3.82e-01\n"
     ]
    },
    {
     "name": "stderr",
     "output_type": "stream",
     "text": [
      "\n"
     ]
    },
    {
     "name": "stdout",
     "output_type": "stream",
     "text": [
      "speechbrain.utils.checkpoints - Saved an end-of-epoch checkpoint in results_4/train_with_wav2vec2/1993/save/CKPT+2024-07-12+07-56-51+00\n",
      "speechbrain.utils.checkpoints - Deleted checkpoint in results_4/train_with_wav2vec2/1993/save/CKPT+2024-07-12+07-46-17+00\n",
      "speechbrain.utils.epoch_loop - Going into epoch 29\n"
     ]
    },
    {
     "name": "stderr",
     "output_type": "stream",
     "text": [
      "100%|██████████| 2591/2591 [09:29<00:00,  4.55it/s, train_loss=0.37] \n",
      "100%|██████████| 848/848 [01:02<00:00, 13.60it/s]"
     ]
    },
    {
     "name": "stdout",
     "output_type": "stream",
     "text": [
      "speechbrain.utils.train_logger - Epoch: 29, lr: 2.82e-05, wave2vec_lr: 2.82e-06 - train loss: 3.70e-01 - valid loss: 1.43, valid error_rate: 3.74e-01\n"
     ]
    },
    {
     "name": "stderr",
     "output_type": "stream",
     "text": [
      "\n"
     ]
    },
    {
     "name": "stdout",
     "output_type": "stream",
     "text": [
      "speechbrain.utils.checkpoints - Saved an end-of-epoch checkpoint in results_4/train_with_wav2vec2/1993/save/CKPT+2024-07-12+08-07-23+00\n",
      "speechbrain.utils.checkpoints - Deleted checkpoint in results_4/train_with_wav2vec2/1993/save/CKPT+2024-07-12+07-56-51+00\n",
      "speechbrain.utils.epoch_loop - Going into epoch 30\n"
     ]
    },
    {
     "name": "stderr",
     "output_type": "stream",
     "text": [
      "100%|██████████| 2591/2591 [09:30<00:00,  4.54it/s, train_loss=0.367]\n",
      "100%|██████████| 848/848 [01:02<00:00, 13.58it/s]"
     ]
    },
    {
     "name": "stdout",
     "output_type": "stream",
     "text": [
      "speechbrain.nnet.schedulers - Changing lr from 2.8e-05 to 2.5e-05\n",
      "speechbrain.nnet.schedulers - Changing lr from 2.8e-06 to 2.5e-06\n",
      "speechbrain.utils.train_logger - Epoch: 30, lr: 2.82e-05, wave2vec_lr: 2.82e-06 - train loss: 3.67e-01 - valid loss: 1.56, valid error_rate: 3.78e-01\n"
     ]
    },
    {
     "name": "stderr",
     "output_type": "stream",
     "text": [
      "\n"
     ]
    },
    {
     "name": "stdout",
     "output_type": "stream",
     "text": [
      "speechbrain.utils.checkpoints - Saved an end-of-epoch checkpoint in results_4/train_with_wav2vec2/1993/save/CKPT+2024-07-12+08-17-58+00\n",
      "speechbrain.utils.checkpoints - Deleted checkpoint in results_4/train_with_wav2vec2/1993/save/CKPT+2024-07-12+08-07-23+00\n",
      "speechbrain.utils.checkpoints - Loading a checkpoint from results_4/train_with_wav2vec2/1993/save/CKPT+2024-07-12+04-04-30+00\n"
     ]
    },
    {
     "name": "stderr",
     "output_type": "stream",
     "text": [
      "100%|██████████| 980/980 [01:08<00:00, 14.41it/s]"
     ]
    },
    {
     "name": "stdout",
     "output_type": "stream",
     "text": [
      "speechbrain.utils.train_logger - Epoch loaded: 6 - test loss: 1.26, test error_rate: 4.03e-01\n"
     ]
    },
    {
     "name": "stderr",
     "output_type": "stream",
     "text": [
      "\n"
     ]
    }
   ],
   "source": [
    "# RECIPE BEGINS!\n",
    "if __name__ == \"__main__\":\n",
    "    # Reading command line arguments.\n",
    "    # Run 5 fold cross validation\n",
    "    \n",
    "    directory = Path('/home/paige/Documents/BERST/speech_brain/recipes/IEMOCAP/emotion_recognition/IEMOCAP').glob('*.csv')\n",
    "\n",
    "    iemocap_list = []\n",
    "    for file in directory:\n",
    "        iemocap_list.append(pd.read_csv(file))\n",
    "\n",
    "    run_opts = {'test_only': False, 'debug': False, 'debug_batches': 2, 'debug_epochs': 2, 'debug_persistently': False, 'device': 'cuda:0', 'data_parallel_backend': False, 'distributed_backend': 'nccl', 'find_unused_parameters': False, 'jit': False, 'compile': False, 'skip_nonfinite_grads': False, 'tqdm_colored_bar': False, 'remove_vector_weight_decay': False, 'profile_training': False, 'profile_warmup': 5, 'profile_steps': 5}\n",
    "\n",
    "    sb.utils.distributed.ddp_init_group(run_opts)\n",
    "\n",
    "    seed = 1993\n",
    "\n",
    "    for index, session in enumerate(iemocap_list):\n",
    "      if index != 0: \n",
    "        #hparams_file, run_opts, overrides = sb.parse_arguments(sys.argv[1:])\n",
    "        hparams_file = '//home/paige/Documents/BERST/speech_brain/recipes/IEMOCAP/emotion_recognition/hparams/train_with_wav2vec2_7_class.yaml'\n",
    "        #override the ouput folder to allow for kfold\n",
    "        output_folder = f\"results_{index}/train_with_wav2vec2/{seed}\"\n",
    "        overrides = {'data_folder': 'home/paige/Documents/BERST/', 'output_folder' : output_folder}\n",
    "        \n",
    "        print(overrides)\n",
    "        \n",
    "        # Load hyperparameters file with command-line overrides.\n",
    "        with open(hparams_file) as fin:\n",
    "          hparams = load_hyperpyyaml(fin, overrides)\n",
    "\n",
    "        list_duplicate = iemocap_list[:]\n",
    "        if index != (len(iemocap_list)-1):\n",
    "            validate = iemocap_list[index+1]\n",
    "            del list_duplicate[index+1]\n",
    "            del list_duplicate[index]\n",
    "        else:\n",
    "            validate = iemocap_list[0]\n",
    "            del list_duplicate[index]\n",
    "            del list_duplicate[0]\n",
    "        test = session\n",
    "        train = pd.concat(list_duplicate, ignore_index = True)\n",
    "\n",
    "        validate_json_dict = {}\n",
    "        test_json_dict = {}\n",
    "        train_json_dict = {}\n",
    "        for row_index,row in validate.iterrows():\n",
    "          validate_json_dict[f'session_validate_{row_index}'] = {\n",
    "              \"wav\": f\"/{{data_root}}/{row['wav']}\",\n",
    "              \"length\": row['length'],\n",
    "              \"emo\": row['affect'],\n",
    "          }\n",
    "        validate_json_file = hparams[\"valid_annotation\"]\n",
    "        # Writing the dictionary to the json file\n",
    "        with open(validate_json_file, mode=\"w\") as json_f:\n",
    "            json.dump(validate_json_dict, json_f, indent=2)\n",
    "\n",
    "        for row_index,row in test.iterrows():\n",
    "          test_json_dict[f'session_test_{row_index}'] = {\n",
    "              \"wav\": f\"/{{data_root}}/{row['wav']}\",\n",
    "              \"length\": row['length'],\n",
    "              \"emo\": row['affect'],\n",
    "          }\n",
    "        test_json_file = hparams[\"test_annotation\"]\n",
    "        # Writing the dictionary to the json file\n",
    "        with open(test_json_file, mode=\"w\") as json_f:\n",
    "            json.dump(test_json_dict, json_f, indent=2)\n",
    "\n",
    "        for row_index,row in train.iterrows():\n",
    "          train_json_dict[f'session_train_{row_index}'] = {\n",
    "              \"wav\": f\"/{{data_root}}/{row['wav']}\",\n",
    "              \"length\": row['length'],\n",
    "              \"emo\": row['affect'],\n",
    "          }\n",
    "        train_json_file = hparams[\"train_annotation\"]\n",
    "        # Writing the dictionary to the json file\n",
    "        with open(train_json_file, mode=\"w\") as json_f:\n",
    "            json.dump(train_json_dict, json_f, indent=2)\n",
    "\n",
    "        # Create experiment directory\n",
    "        sb.create_experiment_directory(\n",
    "            experiment_directory=hparams[\"output_folder\"],\n",
    "            hyperparams_to_save=hparams_file,\n",
    "            overrides=overrides,\n",
    "        )\n",
    "\n",
    "        # Create dataset objects \"train\", \"valid\", and \"test\".\n",
    "        datasets = dataio_prep(hparams)\n",
    "\n",
    "        hparams[\"wav2vec2\"] = hparams[\"wav2vec2\"].to(device=run_opts[\"device\"])\n",
    "        # freeze the feature extractor part when unfreezing\n",
    "        if not hparams[\"freeze_wav2vec2\"] and hparams[\"freeze_wav2vec2_conv\"]:\n",
    "            hparams[\"wav2vec2\"].model.feature_extractor._freeze_parameters()\n",
    "\n",
    "        # Initialize the Brain object to prepare for mask training.\n",
    "        emo_id_brain = EmoIdBrain(\n",
    "            modules=hparams[\"modules\"],\n",
    "            opt_class=hparams[\"opt_class\"],\n",
    "            hparams=hparams,\n",
    "            run_opts=run_opts,\n",
    "            checkpointer=hparams[\"checkpointer\"],\n",
    "        )\n",
    "    \n",
    "        # The `fit()` method iterates the training loop, calling the methods\n",
    "        # necessary to update the parameters of the model. Since all objects\n",
    "        # with changing state are managed by the Checkpointer, training can be\n",
    "        # stopped at any point, and will be resumed on next call.\n",
    "        emo_id_brain.fit(\n",
    "            epoch_counter=emo_id_brain.hparams.epoch_counter,\n",
    "            train_set=datasets[\"train\"],\n",
    "            valid_set=datasets[\"valid\"],\n",
    "            train_loader_kwargs=hparams[\"dataloader_options\"],\n",
    "            valid_loader_kwargs=hparams[\"dataloader_options\"],\n",
    "        )\n",
    "\n",
    "        # Load the best checkpoint for evaluation\n",
    "        test_stats = emo_id_brain.evaluate(\n",
    "            test_set=datasets[\"test\"],\n",
    "            min_key=\"error_rate\",\n",
    "            test_loader_kwargs=hparams[\"dataloader_options\"],\n",
    "        )"
   ]
  },
  {
   "cell_type": "code",
   "execution_count": 28,
   "metadata": {},
   "outputs": [],
   "source": [
    "import torch\n",
    "import gc\n",
    "gc.collect()\n",
    "torch.cuda.empty_cache()"
   ]
  }
 ],
 "metadata": {
  "kernelspec": {
   "display_name": ".venv",
   "language": "python",
   "name": "python3"
  },
  "language_info": {
   "codemirror_mode": {
    "name": "ipython",
    "version": 3
   },
   "file_extension": ".py",
   "mimetype": "text/x-python",
   "name": "python",
   "nbconvert_exporter": "python",
   "pygments_lexer": "ipython3",
   "version": "3.11.8"
  }
 },
 "nbformat": 4,
 "nbformat_minor": 2
}
